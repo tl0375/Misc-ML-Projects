{
  "cells": [
    {
      "cell_type": "markdown",
      "metadata": {
        "id": "gyplonwXJ2BO"
      },
      "source": [
        "Preamble"
      ]
    },
    {
      "cell_type": "code",
      "execution_count": null,
      "metadata": {
        "execution": {
          "iopub.execute_input": "2025-05-22T08:30:42.458923Z",
          "iopub.status.busy": "2025-05-22T08:30:42.458662Z",
          "iopub.status.idle": "2025-05-22T08:31:49.420504Z",
          "shell.execute_reply": "2025-05-22T08:31:49.420075Z"
        },
        "id": "847OVH-PKYGH"
      },
      "outputs": [],
      "source": [
        "import pandas as pd\n",
        "import numpy as np\n",
        "import matplotlib.pyplot as plt\n",
        "from sklearn.model_selection import train_test_split, GridSearchCV\n",
        "from sklearn.pipeline import Pipeline, make_pipeline\n",
        "from sklearn.preprocessing import StandardScaler, PolynomialFeatures\n",
        "from sklearn.linear_model import Ridge, LinearRegression, Lasso\n",
        "from sklearn.metrics import r2_score, confusion_matrix\n",
        "from sklearn.cluster import KMeans\n",
        "from sklearn.decomposition import PCA\n",
        "from matplotlib.cm import get_cmap\n",
        "from scipy.optimize import linear_sum_assignment\n",
        "from gensim.models import Word2Vec"
      ]
    },
    {
      "cell_type": "markdown",
      "metadata": {
        "id": "uNMT_Nzq5CS1"
      },
      "source": [
        "1a)"
      ]
    },
    {
      "cell_type": "code",
      "execution_count": null,
      "metadata": {
        "execution": {
          "iopub.execute_input": "2025-05-22T08:31:49.423058Z",
          "iopub.status.busy": "2025-05-22T08:31:49.422803Z",
          "iopub.status.idle": "2025-05-22T08:31:51.276453Z",
          "shell.execute_reply": "2025-05-22T08:31:51.275799Z"
        },
        "id": "tkBvxmlilne1",
        "outputId": "0015e650-cf6c-4503-cb2e-58a0dc9a16e1"
      },
      "outputs": [
        {
          "name": "stdout",
          "output_type": "stream",
          "text": [
            "\n",
            "R² on simulated hold-out (20% of train): 1.0000\n",
            "Cross-validated best R²: 1.0000\n"
          ]
        }
      ],
      "source": [
        "#Load data\n",
        "df = pd.read_csv('PADL-Q11-train.csv')\n",
        "X = df.drop(columns='out')\n",
        "y = df['out']\n",
        "\n",
        "#Split 20% off for test and debugging\n",
        "X_train, X_unseen, y_train, y_unseen = train_test_split(\n",
        "    X, y, test_size=0.20, random_state=42\n",
        ")\n",
        "\n",
        "#Build pipeline\n",
        "pipeline = Pipeline([\n",
        "    ('poly', PolynomialFeatures(include_bias=False)),\n",
        "    ('ridge', Ridge())\n",
        "])\n",
        "\n",
        "#parameters for grid search\n",
        "param_grid = {\n",
        "    'poly__degree': [1, 2, 3],\n",
        "    'ridge__alpha':  [0.001, 0.01, 0.1, 1]\n",
        "}\n",
        "#perform grid search with r2 scoring\n",
        "grid = GridSearchCV(\n",
        "    pipeline,\n",
        "    param_grid,\n",
        "    scoring='r2'\n",
        ")\n",
        "\n",
        "#train\n",
        "grid.fit(X_train, y_train)\n",
        "\n",
        "best_model = grid.best_estimator_\n",
        "\n",
        "#evaluate on test set\n",
        "y_pred_unseen = best_model.predict(X_unseen)\n",
        "r2_unseen = r2_score(y_unseen, y_pred_unseen)\n",
        "\n",
        "print(f\"\\nR² on simulated hold-out (20% of train): {r2_unseen:.4f}\")\n",
        "print(f\"Cross-validated best R²: {grid.best_score_:.4f}\")"
      ]
    },
    {
      "cell_type": "code",
      "execution_count": null,
      "metadata": {
        "execution": {
          "iopub.execute_input": "2025-05-22T08:31:51.364574Z",
          "iopub.status.busy": "2025-05-22T08:31:51.364108Z",
          "iopub.status.idle": "2025-05-22T08:31:51.370411Z",
          "shell.execute_reply": "2025-05-22T08:31:51.370001Z"
        },
        "id": "GSdt41OAJUO7"
      },
      "outputs": [],
      "source": [
        "#Code to run test set on\n",
        "test_q1a = pd.read_csv('PADL-Q11-unseen.csv')\n",
        "X_unseen_q1a = test_q1a.drop(columns='out')\n",
        "y_unseen_q1a = test_q1a['out']\n",
        "\n",
        "y_pred_q1a = best_model.predict(X_unseen_q1a)\n",
        "r2_q1a_unseen = r2_score(y_unseen_q1a, y_pred_q1a)\n",
        "\n",
        "print(\"R² on test data:\", r2_q1a_unseen)"
      ]
    },
    {
      "cell_type": "markdown",
      "metadata": {
        "id": "1T4znSEa5H3v"
      },
      "source": [
        "1b)"
      ]
    },
    {
      "cell_type": "code",
      "execution_count": null,
      "metadata": {
        "execution": {
          "iopub.execute_input": "2025-05-22T08:31:51.371787Z",
          "iopub.status.busy": "2025-05-22T08:31:51.371649Z",
          "iopub.status.idle": "2025-05-22T08:31:51.707279Z",
          "shell.execute_reply": "2025-05-22T08:31:51.706802Z"
        },
        "id": "qCKXNevq0CPi",
        "outputId": "ce484b5f-edc2-4999-d290-e7a1c514b674"
      },
      "outputs": [
        {
          "name": "stdout",
          "output_type": "stream",
          "text": [
            "Linear Regression R²: 0.9600\n",
            "\n",
            "Linear Regression Coefficients:\n",
            "X1: 0.0604\n",
            "X2: 3.0289\n",
            "X3: 1.0058\n",
            "X4: 0.0799\n",
            "\n",
            "Lasso Regression R²: 0.8706\n",
            "R² Threshold (90% of Linear Regression R²): 0.8640\n",
            "\n",
            "Lasso Regression Coefficients:\n",
            "X1: 0.0601\n",
            "X2: 0.5087\n",
            "X3: 0.9151\n",
            "X4: 0.0000\n",
            "\n",
            "Total Coefficients - Linear Regression: 4.1750\n",
            "Total Coefficients - Lasso Regression: 1.4839\n"
          ]
        }
      ],
      "source": [
        "#Load data\n",
        "df = pd.read_csv('PADL-Q12-train.csv')\n",
        "X = df.drop(columns='out')\n",
        "y = df['out']\n",
        "\n",
        "#Linear regression\n",
        "lr = LinearRegression()\n",
        "lr.fit(X, y)\n",
        "y_pred_lr = lr.predict(X)\n",
        "r2_lr = r2_score(y, y_pred_lr)\n",
        "lr_coefs = lr.coef_\n",
        "\n",
        "print(f\"Linear Regression R²: {r2_lr:.4f}\")\n",
        "print(\"\\nLinear Regression Coefficients:\")\n",
        "for feature, coef in zip(X.columns, lr_coefs):\n",
        "    print(f\"{feature}: {coef:.4f}\")\n",
        "\n",
        "#Lasso\n",
        "lasso = Lasso(alpha=22)#Alpha value chosen to maximise the coefficient decrease whilst staying within threshold.\n",
        "lasso.fit(X, y)\n",
        "y_pred_lasso = lasso.predict(X)\n",
        "r2_lasso = r2_score(y, y_pred_lasso)\n",
        "lasso_coefs = lasso.coef_\n",
        "\n",
        "#Threshold for r2 value\n",
        "r2_threshold = 0.9 * r2_lr\n",
        "print(f\"\\nLasso Regression R²: {r2_lasso:.4f}\")\n",
        "print(f\"R² Threshold (90% of Linear Regression R²): {r2_threshold:.4f}\")\n",
        "\n",
        "print(\"\\nLasso Regression Coefficients:\")\n",
        "for feature, coef in zip(X.columns, lasso_coefs):\n",
        "    print(f\"{feature}: {coef:.4f}\")\n",
        "\n",
        "lr_coef_sum = sum(abs(lr_coefs))\n",
        "lasso_coef_sum = sum(abs(lasso_coefs))\n",
        "\n",
        "print(f\"\\nTotal Coefficients - Linear Regression: {lr_coef_sum:.4f}\")\n",
        "print(f\"Total Coefficients - Lasso Regression: {lasso_coef_sum:.4f}\")\n"
      ]
    },
    {
      "cell_type": "code",
      "execution_count": null,
      "metadata": {
        "execution": {
          "iopub.execute_input": "2025-05-22T08:31:51.708649Z",
          "iopub.status.busy": "2025-05-22T08:31:51.708508Z",
          "iopub.status.idle": "2025-05-22T08:31:51.712418Z",
          "shell.execute_reply": "2025-05-22T08:31:51.712011Z"
        },
        "id": "by2Io9QyK281"
      },
      "outputs": [],
      "source": [
        "#Code to run test on\n",
        "test_q1b= pd.read_csv('PADL-Q12-unseen.csv')\n",
        "X_unseen_q1b = test_q1b.drop(columns='out')\n",
        "y_unseen_q1b = test_q1b['out']\n",
        "\n",
        "y_pred_q1b = lasso.predict(X_unseen_q1b)\n",
        "r2_q1b_unseen = r2_score(y_unseen_q1b, y_pred_q1b)\n",
        "\n",
        "print(f\"Q1b R² on unseen data: {r2_q1b_unseen:.4f}\")"
      ]
    },
    {
      "cell_type": "markdown",
      "metadata": {
        "id": "3fsRMhagDsS_"
      },
      "source": [
        "1c)\n"
      ]
    },
    {
      "cell_type": "code",
      "execution_count": null,
      "metadata": {
        "colab": {
          "base_uri": "https://localhost:8080/"
        },
        "execution": {
          "iopub.execute_input": "2025-05-22T08:31:51.713738Z",
          "iopub.status.busy": "2025-05-22T08:31:51.713598Z",
          "iopub.status.idle": "2025-05-22T08:31:55.227174Z",
          "shell.execute_reply": "2025-05-22T08:31:55.226698Z"
        },
        "id": "UtUzQxOgDvku",
        "outputId": "c8dfcfe8-e1a3-4a2b-e871-55e4b752fd76"
      },
      "outputs": [
        {
          "name": "stdout",
          "output_type": "stream",
          "text": [
            "Baseline Linear Regression R² (no preprocessing): 0.9659\n"
          ]
        },
        {
          "name": "stdout",
          "output_type": "stream",
          "text": [
            "Linear Regression R² with PolynomialFeatures degree 6: 1.0000\n",
            "\n",
            "Relative Improvement in R² due to PolynomialFeatures: 0.0341\n"
          ]
        }
      ],
      "source": [
        "#Load data\n",
        "df = pd.read_csv('PADL-Q13-train.csv')\n",
        "X = df.drop(columns='out')\n",
        "y = df['out']\n",
        "\n",
        "#Non pre-processed linear regression\n",
        "lr_baseline = LinearRegression()\n",
        "lr_baseline.fit(X, y)\n",
        "y_pred_baseline = lr_baseline.predict(X)\n",
        "r2_baseline = r2_score(y, y_pred_baseline)\n",
        "\n",
        "print(f\"Baseline Linear Regression R² (no preprocessing): {r2_baseline:.4f}\")\n",
        "degree = 6\n",
        "#Pre-processed linear regression\n",
        "pipeline_poly = make_pipeline(\n",
        "    PolynomialFeatures(degree=degree, include_bias=False),\n",
        "    LinearRegression()\n",
        ")\n",
        "\n",
        "pipeline_poly.fit(X, y)\n",
        "y_pred_poly = pipeline_poly.predict(X)\n",
        "r2_poly = r2_score(y, y_pred_poly)\n",
        "\n",
        "print(f\"Linear Regression R² with PolynomialFeatures degree {degree:.0f}: {r2_poly:.4f}\")\n",
        "\n",
        "#Show improvement\n",
        "improvement_poly = r2_poly - r2_baseline\n",
        "print(f\"\\nRelative Improvement in R² due to PolynomialFeatures: {improvement_poly:.4f}\")"
      ]
    },
    {
      "cell_type": "code",
      "execution_count": null,
      "metadata": {
        "execution": {
          "iopub.execute_input": "2025-05-22T08:31:55.228753Z",
          "iopub.status.busy": "2025-05-22T08:31:55.228611Z",
          "iopub.status.idle": "2025-05-22T08:31:55.233757Z",
          "shell.execute_reply": "2025-05-22T08:31:55.233357Z"
        },
        "id": "xDHjr5PoROKZ"
      },
      "outputs": [],
      "source": [
        "#Code to run test on\n",
        "test_q1c = pd.read_csv('PADL-Q13-unseen.csv')\n",
        "X_unseen_q1c = test_q1c.drop(columns='out')\n",
        "y_unseen_q1c = test_q1c['out']\n",
        "\n",
        "y_pred_q1c = pipeline_poly.predict(X_unseen_q1c)\n",
        "r2_q1c_unseen = r2_score(y_unseen_q1c, y_pred_q1c)\n",
        "\n",
        "print(f\"Q13 R² on unseen data: {r2_q1c_unseen:.4f}\")"
      ]
    },
    {
      "cell_type": "markdown",
      "metadata": {
        "id": "u12O_OXFJ_mo"
      },
      "source": [
        "2a)\n"
      ]
    },
    {
      "cell_type": "code",
      "execution_count": null,
      "metadata": {
        "execution": {
          "iopub.execute_input": "2025-05-22T08:31:55.235594Z",
          "iopub.status.busy": "2025-05-22T08:31:55.235235Z",
          "iopub.status.idle": "2025-05-22T08:31:57.800673Z",
          "shell.execute_reply": "2025-05-22T08:31:57.800241Z"
        },
        "id": "yBjutuYcKDTM",
        "outputId": "de264c64-473b-4240-9b47-53512d2eeb55"
      },
      "outputs": [
        {
          "data": {
            "image/png": "[encoded data removed]",
            "text/plain": [
              "<Figure size 800x600 with 1 Axes>"
            ]
          },
          "metadata": {},
          "output_type": "display_data"
        },
        {
          "data": {
            "image/png": "[encoded data removed]",
            "text/plain": [
              "<Figure size 800x600 with 1 Axes>"
            ]
          },
          "metadata": {},
          "output_type": "display_data"
        }
      ],
      "source": [
        "\n",
        "from matplotlib.cm import get_cmap\n",
        "#Load data\n",
        "df = pd.read_csv('PADL-Q2.csv')\n",
        "\n",
        "X = df[['X1', 'X2', 'X3', 'X4', 'X5']].values\n",
        "y = df['y'].values\n",
        "\n",
        "#number of clusters from unique labels\n",
        "k = len(np.unique(y))\n",
        "\n",
        "#k-means\n",
        "kmeans = KMeans(n_clusters=k, random_state=0)\n",
        "clusters = kmeans.fit_predict(X)\n",
        "\n",
        "#pca\n",
        "pca = PCA(n_components=2, random_state=0)\n",
        "X_pca = pca.fit_transform(X)\n",
        "\n",
        "#plots markers\n",
        "markers = ['o', 'x', 'v', '^', '*']\n",
        "cmap = plt.cm.viridis\n",
        "\n",
        "#true labels plot\n",
        "plt.figure(figsize=(8, 6))\n",
        "for idx, label in enumerate(sorted(np.unique(y))):\n",
        "    mask = (y == label)\n",
        "    plt.scatter(\n",
        "        X_pca[mask, 0], X_pca[mask, 1],\n",
        "        marker=markers[idx % len(markers)],\n",
        "        c=[cmap(idx / (k-1))],\n",
        "        label=f'Class {label}',\n",
        "        alpha=0.8\n",
        "    )\n",
        "\n",
        "plt.xlabel('PC1')\n",
        "plt.ylabel('PC2')\n",
        "plt.title('Original Class Labels')\n",
        "plt.legend(title='True Classes')\n",
        "plt.grid(True)\n",
        "plt.tight_layout()\n",
        "plt.show()\n",
        "\n",
        "#k-means plot\n",
        "plt.figure(figsize=(8, 6))\n",
        "for idx, cluster in enumerate(sorted(np.unique(clusters))):\n",
        "    mask = (clusters == cluster)\n",
        "    plt.scatter(\n",
        "        X_pca[mask, 0], X_pca[mask, 1],\n",
        "        marker=markers[idx % len(markers)],\n",
        "        c=[cmap(idx / (k-1))],\n",
        "        label=f'Cluster {cluster}',\n",
        "        alpha=0.8\n",
        "    )\n",
        "plt.xlabel('PC1')\n",
        "plt.ylabel('PC2')\n",
        "plt.title('K-Means cluster')\n",
        "plt.legend(title='Clusters')\n",
        "plt.grid(True)\n",
        "plt.tight_layout()\n",
        "plt.show()\n"
      ]
    },
    {
      "cell_type": "markdown",
      "metadata": {
        "id": "_vHYf2_KHdy3"
      },
      "source": [
        "2b)\n",
        "Make sure to run 2a first"
      ]
    },
    {
      "cell_type": "code",
      "execution_count": null,
      "metadata": {
        "execution": {
          "iopub.execute_input": "2025-05-22T08:31:57.802409Z",
          "iopub.status.busy": "2025-05-22T08:31:57.802171Z",
          "iopub.status.idle": "2025-05-22T08:31:58.129339Z",
          "shell.execute_reply": "2025-05-22T08:31:58.128935Z"
        },
        "id": "qjTyN_VeHgYL",
        "outputId": "0ffe3fe4-0b97-43a3-e265-27b28a3279fc"
      },
      "outputs": [
        {
          "data": {
            "image/png": "[encoded data removed]",
            "text/plain": [
              "<Figure size 800x600 with 1 Axes>"
            ]
          },
          "metadata": {},
          "output_type": "display_data"
        }
      ],
      "source": [
        "#new k-means\n",
        "kmeans_pca = KMeans(n_clusters=k, random_state=0)\n",
        "clusters_pca = kmeans_pca.fit_predict(X_pca)\n",
        "\n",
        "#plot\n",
        "plt.figure(figsize=(8, 6))\n",
        "for idx, cluster in enumerate(sorted(np.unique(clusters_pca))):\n",
        "    mask = (clusters_pca == cluster)\n",
        "    plt.scatter(\n",
        "        X_pca[mask, 0], X_pca[mask, 1],\n",
        "        marker=markers[idx % len(markers)],\n",
        "        c=[cmap(idx / (k-1))],\n",
        "        label=f'Cluster {cluster}',\n",
        "        alpha=0.8\n",
        "    )\n",
        "\n",
        "plt.xlabel('PC1')\n",
        "plt.ylabel('PC2')\n",
        "plt.title('K-Means on PCA-reduced data')\n",
        "plt.legend(title='Clusters')\n",
        "plt.grid(True)\n",
        "plt.tight_layout()\n",
        "plt.show()"
      ]
    },
    {
      "cell_type": "markdown",
      "metadata": {
        "id": "apeG1hWoTAaa"
      },
      "source": [
        "2c)\n",
        "make sure to run 2a) and 2b) first"
      ]
    },
    {
      "cell_type": "code",
      "execution_count": null,
      "metadata": {
        "execution": {
          "iopub.execute_input": "2025-05-22T08:31:58.131015Z",
          "iopub.status.busy": "2025-05-22T08:31:58.130870Z",
          "iopub.status.idle": "2025-05-22T08:31:58.158843Z",
          "shell.execute_reply": "2025-05-22T08:31:58.158484Z"
        },
        "id": "HcpBLxFQTFie",
        "outputId": "0fdf8d2a-1e3b-46a3-c83a-cfe18fe04c70"
      },
      "outputs": [
        {
          "name": "stdout",
          "output_type": "stream",
          "text": [
            "Accuracy with clustering on original data: 96.67%\n",
            "Accuracy with clustering on PCA-reduced data: 94.67%\n",
            "Variance explained by PC1 and PC2: 77.43%\n",
            "Loss in clustering accuracy: 2.00%\n"
          ]
        }
      ],
      "source": [
        "#confusion matrix for clustering on original data\n",
        "conf_matrix_original = confusion_matrix(y, clusters)\n",
        "row_ind, col_ind = linear_sum_assignment(-conf_matrix_original)\n",
        "accuracy_original = conf_matrix_original[row_ind, col_ind].sum() / np.sum(conf_matrix_original) * 100\n",
        "\n",
        "#confusion matrix for clustering on PCA-reduced data\n",
        "conf_matrix_pca = confusion_matrix(y, clusters_pca)\n",
        "row_ind_pca, col_ind_pca = linear_sum_assignment(-conf_matrix_pca)\n",
        "accuracy_pca = conf_matrix_pca[row_ind_pca, col_ind_pca].sum() / np.sum(conf_matrix_pca) * 100\n",
        "\n",
        "explained_variance = np.sum(pca.explained_variance_ratio_) * 100\n",
        "\n",
        "# Print results\n",
        "print(f\"Accuracy with clustering on original data: {accuracy_original:.2f}%\")\n",
        "print(f\"Accuracy with clustering on PCA-reduced data: {accuracy_pca:.2f}%\")\n",
        "print(f\"Variance explained by PC1 and PC2: {explained_variance:.2f}%\")\n",
        "print(f\"Loss in clustering accuracy: {accuracy_original - accuracy_pca:.2f}%\")"
      ]
    },
    {
      "cell_type": "markdown",
      "metadata": {
        "id": "HwrvVN3RtfEA"
      },
      "source": [
        "Only a two % clustering accuracy loss when decreasing from 5 dimensions to 2, with 77.43% of information retained by PC1 and PC2."
      ]
    },
    {
      "cell_type": "markdown",
      "metadata": {
        "id": "MdBFz2xbuGI0"
      },
      "source": [
        "3a)"
      ]
    },
    {
      "cell_type": "code",
      "execution_count": null,
      "metadata": {
        "execution": {
          "iopub.execute_input": "2025-05-22T08:31:58.160522Z",
          "iopub.status.busy": "2025-05-22T08:31:58.160384Z",
          "iopub.status.idle": "2025-05-22T08:31:58.442592Z",
          "shell.execute_reply": "2025-05-22T08:31:58.442194Z"
        },
        "id": "0WXxMvIpuI7W",
        "outputId": "ec071b45-05e1-4747-a048-4e283364525b"
      },
      "outputs": [
        {
          "name": "stdout",
          "output_type": "stream",
          "text": [
            "Similarity(5, 21) = 0.1356\n",
            "Similarity(5, 22) = 0.1150\n",
            "Similarity(5, 23) = 0.2757\n",
            "Similarity(5, 24) = 0.2955\n",
            "Similarity(5, 25) = 0.1808\n",
            "Similarity(5, 26) = 0.1680\n",
            "Similarity(5, 27) = 0.2183\n",
            "Similarity(5, 28) = 0.2349\n",
            "Similarity(5, 29) = 0.1730\n",
            "Similarity(5, 30) = 0.2081\n"
          ]
        }
      ],
      "source": [
        "from gensim.models import Word2Vec\n",
        "\n",
        "#load data and split and clean sentences\n",
        "sentences = []\n",
        "with open('PADL-Q3.txt', 'r') as f:\n",
        "    for line in f:\n",
        "        # split on whitespace, convert IDs to strings\n",
        "        tokens = line.strip().split()\n",
        "        if tokens:\n",
        "            sentences.append(tokens)\n",
        "\n",
        "#train word2vec skipgram model\n",
        "model = Word2Vec(\n",
        "    sentences,\n",
        "    vector_size=100,\n",
        "    window=5,\n",
        "    min_count=1,\n",
        "    sg=1,\n",
        "    epochs=10\n",
        ")\n",
        "\n",
        "#target nodes\n",
        "target = '5'\n",
        "for node in map(str, range(21, 31)):\n",
        "    sim = model.wv.similarity(target, node)\n",
        "    print(f\"Similarity({target}, {node}) = {sim:.4f}\")\n"
      ]
    },
    {
      "cell_type": "markdown",
      "metadata": {
        "id": "fA72Rl-2BLK7"
      },
      "source": [
        "3b)\n",
        "make sure to run 3a) first"
      ]
    },
    {
      "cell_type": "code",
      "execution_count": null,
      "metadata": {
        "execution": {
          "iopub.execute_input": "2025-05-22T08:31:58.444435Z",
          "iopub.status.busy": "2025-05-22T08:31:58.444291Z",
          "iopub.status.idle": "2025-05-22T08:31:58.500172Z",
          "shell.execute_reply": "2025-05-22T08:31:58.499795Z"
        },
        "id": "uvUKK_ZeBNM2",
        "outputId": "c03f3e86-9b92-4d78-9243-a9e139bc2ff1"
      },
      "outputs": [
        {
          "name": "stdout",
          "output_type": "stream",
          "text": [
            "Written PADL-Q3-result.txt successfully.\n"
          ]
        }
      ],
      "source": [
        "#sort nodes\n",
        "nodes = sorted(model.wv.key_to_index.keys(), key=int)\n",
        "\n",
        "#open file\n",
        "with open('PADL-Q3-result.txt', 'w') as fout:\n",
        "    #for each node, get every other node, sorted by similarity\n",
        "    for k in nodes:\n",
        "        sorted_nodes = [node for node, _ in model.wv.similar_by_key(k, topn=len(nodes))]\n",
        "        #write\n",
        "        fout.write(' '.join(sorted_nodes) + '\\n')\n",
        "print(\"Written PADL-Q3-result.txt successfully.\")"
      ]
    },
    {
      "cell_type": "markdown",
      "metadata": {
        "id": "kq33IlTg45xh"
      },
      "source": [
        "4a)"
      ]
    },
    {
      "cell_type": "markdown",
      "metadata": {
        "id": "dfP8zWJZ4-Cg"
      },
      "source": [
        "The network structure design is that of a Multi-Layer Perceptron (MLP). The input layer takes the selected number of features from feature engineering. The next two sequential layers of 32 neurons form a mini-residual block, with the aim of helping gradient flow during training. Layers 3 and 4 are then further reductions in neuron width, with the output layer, a single neuron, used for the prediction of the waist circumference.\n",
        "ReLU is used after every hidden layer, used becuase of its non-linearity and Layer normalisation is used to stabilise training and convergence.\n",
        "\n",
        "SmoothL1Loss is used as the regression loss function, combining the benefits of L1 and L2 loss and handling outliers better than MSE.\n",
        "\n",
        "Feature engineering is used to create new features which can draw stronger relationships between input features and the target feature, with the most effective features selected for training with LassoCV to reduce training demands and enhance the quality of predictions."
      ]
    },
    {
      "cell_type": "markdown",
      "metadata": {
        "id": "QUH6jeP-WH8g"
      },
      "source": [
        "4b) (Full Code)"
      ]
    },
    {
      "cell_type": "code",
      "execution_count": null,
      "metadata": {
        "execution": {
          "iopub.execute_input": "2025-05-22T08:31:58.502045Z",
          "iopub.status.busy": "2025-05-22T08:31:58.501909Z",
          "iopub.status.idle": "2025-05-22T08:34:17.844950Z",
          "shell.execute_reply": "2025-05-22T08:34:17.844440Z"
        },
        "id": "vRgXkHqqWLvk",
        "outputId": "91a75a0e-9e48-4dfc-80bb-27053230e7e1"
      },
      "outputs": [
        {
          "name": "stdout",
          "output_type": "stream",
          "text": [
            "Selected features via Lasso: ['Chest Circumference (mm)', 'Hip Circumference (mm)', 'Height (mm)', 'Weight (kg)', 'Gender', 'BMI', 'log_Weight', 'log_Height', 'log_Chest', 'log_Hip', 'Chest_to_Height', 'Hip_to_Height', 'Chest_to_Hip', 'Hip_to_Chest', 'Weight_to_Height', 'Height_minus_Weight', 'BMI_sq', 'BMI_cu', 'Chest_sq', 'Hip_sq', 'Weight_x_Chest', 'Weight_x_Hip', 'Height_x_BMI', 'sqrt_Weight', 'cbrt_Chest', 'BMI_x_Gender', 'Chest Circumference (mm)_x_Gender', 'Hip Circumference (mm)_x_Gender']\n"
          ]
        },
        {
          "name": "stderr",
          "output_type": "stream",
          "text": [
            "/mnt/scratch/users/tl1600/Project/.venv/lib/python3.12/site-packages/torch/optim/lr_scheduler.py:62: UserWarning: The verbose parameter is deprecated. Please use get_last_lr() to access the learning rate.\n",
            "  warnings.warn(\n"
          ]
        },
        {
          "name": "stdout",
          "output_type": "stream",
          "text": [
            "Epoch   1 — train MAE: 851.90 mm, NEW best val MAE: 852.70 mm (weights saved)\n",
            "Epoch   2 — train MAE: 763.59 mm, NEW best val MAE: 765.32 mm (weights saved)\n"
          ]
        },
        {
          "name": "stdout",
          "output_type": "stream",
          "text": [
            "Epoch   3 — train MAE: 375.51 mm, NEW best val MAE: 369.04 mm (weights saved)\n",
            "Epoch   4 — train MAE: 278.47 mm, NEW best val MAE: 275.54 mm (weights saved)\n"
          ]
        },
        {
          "name": "stdout",
          "output_type": "stream",
          "text": [
            "Epoch   5 — train MAE: 200.33 mm, NEW best val MAE: 208.80 mm (weights saved)\n",
            "Epoch   6 — train MAE: 152.05 mm, NEW best val MAE: 162.53 mm (weights saved)\n"
          ]
        },
        {
          "name": "stdout",
          "output_type": "stream",
          "text": [
            "Epoch   7 — train MAE: 118.63 mm, NEW best val MAE: 124.62 mm (weights saved)\n",
            "Epoch   8 — train MAE: 85.91 mm, NEW best val MAE: 87.31 mm (weights saved)\n"
          ]
        },
        {
          "name": "stdout",
          "output_type": "stream",
          "text": [
            "Epoch   9 — train MAE: 59.90 mm, NEW best val MAE: 57.54 mm (weights saved)\n",
            "Epoch  10 — train MAE: 43.07 mm, NEW best val MAE: 38.88 mm (weights saved)\n"
          ]
        },
        {
          "name": "stdout",
          "output_type": "stream",
          "text": [
            "Epoch  11 — train MAE: 41.35 mm, NEW best val MAE: 37.68 mm (weights saved)\n",
            "Epoch  12 — train MAE: 37.57 mm, NEW best val MAE: 34.43 mm (weights saved)\n"
          ]
        },
        {
          "name": "stdout",
          "output_type": "stream",
          "text": [
            "Epoch  13 — train MAE: 41.18 mm, val MAE: 39.48 mm\n",
            "Epoch  14 — train MAE: 35.47 mm, NEW best val MAE: 31.74 mm (weights saved)\n"
          ]
        },
        {
          "name": "stdout",
          "output_type": "stream",
          "text": [
            "Epoch  15 — train MAE: 34.31 mm, NEW best val MAE: 30.44 mm (weights saved)\n",
            "Epoch  16 — train MAE: 35.12 mm, val MAE: 32.22 mm\n"
          ]
        },
        {
          "name": "stdout",
          "output_type": "stream",
          "text": [
            "Epoch  17 — train MAE: 33.87 mm, NEW best val MAE: 29.87 mm (weights saved)\n",
            "Epoch  18 — train MAE: 34.96 mm, val MAE: 32.20 mm\n"
          ]
        },
        {
          "name": "stdout",
          "output_type": "stream",
          "text": [
            "Epoch  19 — train MAE: 34.17 mm, val MAE: 30.48 mm\n",
            "Epoch  20 — train MAE: 33.05 mm, NEW best val MAE: 28.88 mm (weights saved)\n"
          ]
        },
        {
          "name": "stdout",
          "output_type": "stream",
          "text": [
            "Epoch  21 — train MAE: 35.00 mm, val MAE: 31.78 mm\n",
            "Epoch  22 — train MAE: 34.54 mm, val MAE: 29.86 mm\n"
          ]
        },
        {
          "name": "stdout",
          "output_type": "stream",
          "text": [
            "Epoch  23 — train MAE: 33.72 mm, val MAE: 30.35 mm\n",
            "Epoch  24 — train MAE: 34.47 mm, val MAE: 29.57 mm\n"
          ]
        },
        {
          "name": "stdout",
          "output_type": "stream",
          "text": [
            "Epoch  25 — train MAE: 33.95 mm, val MAE: 30.94 mm\n",
            "Epoch  26 — train MAE: 37.33 mm, val MAE: 34.12 mm\n"
          ]
        },
        {
          "name": "stdout",
          "output_type": "stream",
          "text": [
            "Epoch  27 — train MAE: 32.98 mm, val MAE: 29.36 mm\n",
            "Epoch  28 — train MAE: 35.30 mm, val MAE: 31.79 mm\n"
          ]
        },
        {
          "name": "stdout",
          "output_type": "stream",
          "text": [
            "Epoch  29 — train MAE: 35.39 mm, val MAE: 31.00 mm\n",
            "Epoch  30 — train MAE: 33.17 mm, val MAE: 29.31 mm\n"
          ]
        },
        {
          "name": "stdout",
          "output_type": "stream",
          "text": [
            "Epoch  31 — train MAE: 33.67 mm, val MAE: 30.19 mm\n",
            "Epoch  32 — train MAE: 34.60 mm, val MAE: 30.68 mm\n"
          ]
        },
        {
          "name": "stdout",
          "output_type": "stream",
          "text": [
            "Epoch  33 — train MAE: 32.59 mm, NEW best val MAE: 28.76 mm (weights saved)\n",
            "Epoch  34 — train MAE: 33.04 mm, val MAE: 29.98 mm\n"
          ]
        },
        {
          "name": "stdout",
          "output_type": "stream",
          "text": [
            "Epoch  35 — train MAE: 33.03 mm, val MAE: 29.57 mm\n",
            "Epoch  36 — train MAE: 34.10 mm, val MAE: 29.01 mm\n"
          ]
        },
        {
          "name": "stdout",
          "output_type": "stream",
          "text": [
            "Epoch  37 — train MAE: 34.02 mm, val MAE: 30.05 mm\n",
            "Epoch  38 — train MAE: 32.87 mm, NEW best val MAE: 28.24 mm (weights saved)\n"
          ]
        },
        {
          "name": "stdout",
          "output_type": "stream",
          "text": [
            "Epoch  39 — train MAE: 33.01 mm, val MAE: 29.27 mm\n",
            "Epoch  40 — train MAE: 33.24 mm, val MAE: 28.81 mm\n"
          ]
        },
        {
          "name": "stdout",
          "output_type": "stream",
          "text": [
            "Epoch  41 — train MAE: 35.24 mm, val MAE: 31.78 mm\n",
            "Epoch  42 — train MAE: 32.62 mm, val MAE: 29.28 mm\n"
          ]
        },
        {
          "name": "stdout",
          "output_type": "stream",
          "text": [
            "Epoch  43 — train MAE: 34.79 mm, val MAE: 31.94 mm\n",
            "Epoch  44 — train MAE: 33.07 mm, val MAE: 28.87 mm\n"
          ]
        },
        {
          "name": "stdout",
          "output_type": "stream",
          "text": [
            "Epoch  45 — train MAE: 34.58 mm, val MAE: 31.89 mm\n",
            "Epoch  46 — train MAE: 33.10 mm, val MAE: 28.29 mm\n"
          ]
        },
        {
          "name": "stdout",
          "output_type": "stream",
          "text": [
            "Epoch  47 — train MAE: 33.41 mm, val MAE: 30.10 mm\n",
            "Epoch  48 — train MAE: 33.40 mm, val MAE: 30.00 mm\n"
          ]
        },
        {
          "name": "stdout",
          "output_type": "stream",
          "text": [
            "Epoch  49 — train MAE: 33.12 mm, val MAE: 30.70 mm\n",
            "Epoch  50 — train MAE: 32.84 mm, val MAE: 30.06 mm\n"
          ]
        },
        {
          "name": "stdout",
          "output_type": "stream",
          "text": [
            "Epoch  51 — train MAE: 34.38 mm, val MAE: 30.49 mm\n",
            "Epoch  52 — train MAE: 35.10 mm, val MAE: 33.02 mm\n"
          ]
        },
        {
          "name": "stdout",
          "output_type": "stream",
          "text": [
            "Epoch  53 — train MAE: 34.01 mm, val MAE: 28.95 mm\n",
            "Epoch  54 — train MAE: 37.54 mm, val MAE: 35.62 mm\n"
          ]
        },
        {
          "name": "stdout",
          "output_type": "stream",
          "text": [
            "Epoch  55 — train MAE: 32.69 mm, val MAE: 29.37 mm\n",
            "Epoch  56 — train MAE: 33.34 mm, val MAE: 28.76 mm\n"
          ]
        },
        {
          "name": "stdout",
          "output_type": "stream",
          "text": [
            "Epoch  57 — train MAE: 33.24 mm, val MAE: 30.57 mm\n",
            "Epoch  58 — train MAE: 33.10 mm, val MAE: 29.45 mm\n"
          ]
        },
        {
          "name": "stdout",
          "output_type": "stream",
          "text": [
            "Epoch  59 — train MAE: 32.73 mm, val MAE: 29.10 mm\n",
            "Epoch  60 — train MAE: 33.27 mm, val MAE: 29.86 mm\n"
          ]
        },
        {
          "name": "stdout",
          "output_type": "stream",
          "text": [
            "Epoch  61 — train MAE: 32.43 mm, val MAE: 28.53 mm\n",
            "Epoch  62 — train MAE: 32.74 mm, val MAE: 30.40 mm\n"
          ]
        },
        {
          "name": "stdout",
          "output_type": "stream",
          "text": [
            "Epoch  63 — train MAE: 32.93 mm, val MAE: 29.61 mm\n",
            "Epoch  64 — train MAE: 32.54 mm, val MAE: 29.37 mm\n"
          ]
        },
        {
          "name": "stdout",
          "output_type": "stream",
          "text": [
            "Epoch  65 — train MAE: 33.21 mm, val MAE: 29.67 mm\n",
            "Epoch  66 — train MAE: 32.76 mm, val MAE: 29.17 mm\n"
          ]
        },
        {
          "name": "stdout",
          "output_type": "stream",
          "text": [
            "Epoch  67 — train MAE: 32.30 mm, val MAE: 29.22 mm\n",
            "Epoch  68 — train MAE: 32.69 mm, val MAE: 29.60 mm\n"
          ]
        },
        {
          "name": "stdout",
          "output_type": "stream",
          "text": [
            "Epoch  69 — train MAE: 32.72 mm, val MAE: 28.93 mm\n",
            "Epoch  70 — train MAE: 33.54 mm, val MAE: 30.34 mm\n"
          ]
        },
        {
          "name": "stdout",
          "output_type": "stream",
          "text": [
            "Epoch  71 — train MAE: 33.01 mm, val MAE: 29.74 mm\n",
            "Epoch  72 — train MAE: 32.50 mm, val MAE: 29.24 mm\n"
          ]
        },
        {
          "name": "stdout",
          "output_type": "stream",
          "text": [
            "Epoch  73 — train MAE: 33.32 mm, val MAE: 31.12 mm\n",
            "Epoch  74 — train MAE: 34.24 mm, val MAE: 30.09 mm\n"
          ]
        },
        {
          "name": "stdout",
          "output_type": "stream",
          "text": [
            "Epoch  75 — train MAE: 33.36 mm, val MAE: 31.86 mm\n",
            "Epoch  76 — train MAE: 33.17 mm, val MAE: 30.14 mm\n"
          ]
        },
        {
          "name": "stdout",
          "output_type": "stream",
          "text": [
            "Epoch  77 — train MAE: 36.90 mm, val MAE: 36.03 mm\n",
            "Epoch  78 — train MAE: 32.09 mm, val MAE: 29.28 mm\n"
          ]
        },
        {
          "name": "stdout",
          "output_type": "stream",
          "text": [
            "Epoch  79 — train MAE: 36.28 mm, val MAE: 32.55 mm\n",
            "Epoch  80 — train MAE: 33.80 mm, val MAE: 28.89 mm\n"
          ]
        },
        {
          "name": "stdout",
          "output_type": "stream",
          "text": [
            "Epoch  81 — train MAE: 32.37 mm, val MAE: 29.08 mm\n",
            "Epoch  82 — train MAE: 33.51 mm, val MAE: 29.55 mm\n"
          ]
        },
        {
          "name": "stdout",
          "output_type": "stream",
          "text": [
            "Epoch  83 — train MAE: 34.04 mm, val MAE: 29.08 mm\n",
            "Epoch  84 — train MAE: 33.97 mm, val MAE: 30.14 mm\n"
          ]
        },
        {
          "name": "stdout",
          "output_type": "stream",
          "text": [
            "Epoch  85 — train MAE: 35.72 mm, val MAE: 32.88 mm\n",
            "Epoch  86 — train MAE: 32.66 mm, val MAE: 28.97 mm\n"
          ]
        },
        {
          "name": "stdout",
          "output_type": "stream",
          "text": [
            "Epoch  87 — train MAE: 32.79 mm, val MAE: 30.26 mm\n",
            "Epoch  88 — train MAE: 32.44 mm, val MAE: 29.12 mm\n"
          ]
        },
        {
          "name": "stdout",
          "output_type": "stream",
          "text": [
            "Epoch  89 — train MAE: 33.43 mm, val MAE: 29.18 mm\n",
            "Epoch  90 — train MAE: 33.16 mm, val MAE: 29.66 mm\n"
          ]
        },
        {
          "name": "stdout",
          "output_type": "stream",
          "text": [
            "Epoch  91 — train MAE: 32.39 mm, val MAE: 29.88 mm\n",
            "Epoch  92 — train MAE: 34.05 mm, val MAE: 30.97 mm\n"
          ]
        },
        {
          "name": "stdout",
          "output_type": "stream",
          "text": [
            "Epoch  93 — train MAE: 33.83 mm, val MAE: 29.94 mm\n",
            "Epoch  94 — train MAE: 32.40 mm, val MAE: 29.57 mm\n"
          ]
        },
        {
          "name": "stdout",
          "output_type": "stream",
          "text": [
            "Epoch  95 — train MAE: 37.53 mm, val MAE: 35.65 mm\n",
            "Epoch  96 — train MAE: 32.44 mm, val MAE: 29.07 mm\n"
          ]
        },
        {
          "name": "stdout",
          "output_type": "stream",
          "text": [
            "Epoch  97 — train MAE: 33.40 mm, val MAE: 31.40 mm\n",
            "Epoch  98 — train MAE: 33.45 mm, val MAE: 30.81 mm\n"
          ]
        },
        {
          "name": "stdout",
          "output_type": "stream",
          "text": [
            "Epoch  99 — train MAE: 32.80 mm, val MAE: 28.39 mm\n",
            "Epoch 100 — train MAE: 32.49 mm, val MAE: 28.64 mm\n"
          ]
        },
        {
          "name": "stdout",
          "output_type": "stream",
          "text": [
            "Epoch 101 — train MAE: 32.53 mm, val MAE: 28.51 mm\n",
            "Epoch 102 — train MAE: 32.80 mm, val MAE: 30.07 mm\n"
          ]
        },
        {
          "name": "stdout",
          "output_type": "stream",
          "text": [
            "Epoch 103 — train MAE: 32.84 mm, val MAE: 29.01 mm\n",
            "Epoch 104 — train MAE: 33.29 mm, val MAE: 29.92 mm\n"
          ]
        },
        {
          "name": "stdout",
          "output_type": "stream",
          "text": [
            "Epoch 105 — train MAE: 34.42 mm, val MAE: 32.72 mm\n",
            "Epoch 106 — train MAE: 33.21 mm, val MAE: 30.03 mm\n"
          ]
        },
        {
          "name": "stdout",
          "output_type": "stream",
          "text": [
            "Epoch 107 — train MAE: 32.92 mm, val MAE: 31.05 mm\n",
            "Epoch 108 — train MAE: 34.41 mm, val MAE: 30.40 mm\n"
          ]
        },
        {
          "name": "stdout",
          "output_type": "stream",
          "text": [
            "Epoch 109 — train MAE: 32.63 mm, val MAE: 28.97 mm\n",
            "Epoch 110 — train MAE: 32.36 mm, val MAE: 29.59 mm\n"
          ]
        },
        {
          "name": "stdout",
          "output_type": "stream",
          "text": [
            "Epoch 111 — train MAE: 33.83 mm, val MAE: 31.20 mm\n",
            "Epoch 112 — train MAE: 32.81 mm, val MAE: 30.45 mm\n"
          ]
        },
        {
          "name": "stdout",
          "output_type": "stream",
          "text": [
            "Epoch 113 — train MAE: 32.20 mm, val MAE: 29.43 mm\n",
            "Epoch 114 — train MAE: 32.54 mm, val MAE: 28.81 mm\n"
          ]
        },
        {
          "name": "stdout",
          "output_type": "stream",
          "text": [
            "Epoch 115 — train MAE: 32.31 mm, val MAE: 29.02 mm\n",
            "Epoch 116 — train MAE: 32.46 mm, val MAE: 29.38 mm\n"
          ]
        },
        {
          "name": "stdout",
          "output_type": "stream",
          "text": [
            "Epoch 117 — train MAE: 32.50 mm, val MAE: 28.69 mm\n",
            "Epoch 118 — train MAE: 31.98 mm, val MAE: 28.61 mm\n"
          ]
        },
        {
          "name": "stdout",
          "output_type": "stream",
          "text": [
            "Epoch 119 — train MAE: 31.98 mm, val MAE: 28.96 mm\n",
            "Epoch 120 — train MAE: 32.38 mm, val MAE: 28.63 mm\n"
          ]
        },
        {
          "name": "stdout",
          "output_type": "stream",
          "text": [
            "Epoch 121 — train MAE: 32.11 mm, val MAE: 29.39 mm\n",
            "Epoch 122 — train MAE: 32.44 mm, val MAE: 29.95 mm\n"
          ]
        },
        {
          "name": "stdout",
          "output_type": "stream",
          "text": [
            "Epoch 123 — train MAE: 32.10 mm, val MAE: 29.22 mm\n",
            "Epoch 124 — train MAE: 32.15 mm, val MAE: 28.74 mm\n"
          ]
        },
        {
          "name": "stdout",
          "output_type": "stream",
          "text": [
            "Epoch 125 — train MAE: 32.63 mm, val MAE: 28.62 mm\n",
            "Epoch 126 — train MAE: 32.67 mm, val MAE: 30.30 mm\n"
          ]
        },
        {
          "name": "stdout",
          "output_type": "stream",
          "text": [
            "Epoch 127 — train MAE: 33.21 mm, val MAE: 30.04 mm\n",
            "Epoch 128 — train MAE: 32.51 mm, val MAE: 28.96 mm\n"
          ]
        },
        {
          "name": "stdout",
          "output_type": "stream",
          "text": [
            "Epoch 129 — train MAE: 32.12 mm, val MAE: 29.25 mm\n",
            "Epoch 130 — train MAE: 33.12 mm, val MAE: 29.76 mm\n"
          ]
        },
        {
          "name": "stdout",
          "output_type": "stream",
          "text": [
            "Epoch 131 — train MAE: 33.27 mm, val MAE: 28.59 mm\n",
            "Epoch 132 — train MAE: 32.57 mm, val MAE: 29.19 mm\n"
          ]
        },
        {
          "name": "stdout",
          "output_type": "stream",
          "text": [
            "Epoch 133 — train MAE: 32.37 mm, val MAE: 29.71 mm\n",
            "Epoch 134 — train MAE: 32.14 mm, val MAE: 29.29 mm\n"
          ]
        },
        {
          "name": "stdout",
          "output_type": "stream",
          "text": [
            "Epoch 135 — train MAE: 34.00 mm, val MAE: 30.36 mm\n",
            "Epoch 136 — train MAE: 32.32 mm, val MAE: 29.34 mm\n"
          ]
        },
        {
          "name": "stdout",
          "output_type": "stream",
          "text": [
            "Epoch 137 — train MAE: 32.31 mm, val MAE: 29.65 mm\n",
            "Epoch 138 — train MAE: 32.82 mm, val MAE: 29.40 mm\n"
          ]
        },
        {
          "name": "stdout",
          "output_type": "stream",
          "text": [
            "Epoch 139 — train MAE: 31.88 mm, val MAE: 28.70 mm\n",
            "Epoch 140 — train MAE: 32.55 mm, val MAE: 29.78 mm\n"
          ]
        },
        {
          "name": "stdout",
          "output_type": "stream",
          "text": [
            "Epoch 141 — train MAE: 32.05 mm, val MAE: 28.35 mm\n",
            "Epoch 142 — train MAE: 31.95 mm, val MAE: 29.57 mm\n"
          ]
        },
        {
          "name": "stdout",
          "output_type": "stream",
          "text": [
            "Epoch 143 — train MAE: 32.02 mm, val MAE: 29.10 mm\n",
            "Epoch 144 — train MAE: 32.08 mm, val MAE: 28.86 mm\n"
          ]
        },
        {
          "name": "stdout",
          "output_type": "stream",
          "text": [
            "Epoch 145 — train MAE: 32.75 mm, val MAE: 29.32 mm\n",
            "Epoch 146 — train MAE: 32.58 mm, val MAE: 28.76 mm\n"
          ]
        },
        {
          "name": "stdout",
          "output_type": "stream",
          "text": [
            "Epoch 147 — train MAE: 32.31 mm, val MAE: 28.71 mm\n",
            "Epoch 148 — train MAE: 33.12 mm, val MAE: 29.75 mm\n"
          ]
        },
        {
          "name": "stdout",
          "output_type": "stream",
          "text": [
            "Epoch 149 — train MAE: 32.84 mm, val MAE: 29.54 mm\n",
            "Epoch 150 — train MAE: 31.91 mm, val MAE: 28.88 mm\n"
          ]
        },
        {
          "name": "stdout",
          "output_type": "stream",
          "text": [
            "Epoch 151 — train MAE: 32.41 mm, val MAE: 28.58 mm\n",
            "Epoch 152 — train MAE: 32.05 mm, val MAE: 29.19 mm\n"
          ]
        },
        {
          "name": "stdout",
          "output_type": "stream",
          "text": [
            "Epoch 153 — train MAE: 32.29 mm, val MAE: 28.94 mm\n",
            "Epoch 154 — train MAE: 32.46 mm, val MAE: 28.66 mm\n"
          ]
        },
        {
          "name": "stdout",
          "output_type": "stream",
          "text": [
            "Epoch 155 — train MAE: 32.25 mm, val MAE: 29.35 mm\n",
            "Epoch 156 — train MAE: 32.99 mm, val MAE: 29.47 mm\n"
          ]
        },
        {
          "name": "stdout",
          "output_type": "stream",
          "text": [
            "Epoch 157 — train MAE: 32.17 mm, val MAE: 29.09 mm\n",
            "Epoch 158 — train MAE: 32.32 mm, val MAE: 30.35 mm\n"
          ]
        },
        {
          "name": "stdout",
          "output_type": "stream",
          "text": [
            "Epoch 159 — train MAE: 32.56 mm, val MAE: 29.40 mm\n",
            "Epoch 160 — train MAE: 32.27 mm, val MAE: 30.03 mm\n"
          ]
        },
        {
          "name": "stdout",
          "output_type": "stream",
          "text": [
            "Epoch 161 — train MAE: 32.16 mm, val MAE: 29.19 mm\n",
            "Epoch 162 — train MAE: 31.86 mm, val MAE: 28.94 mm\n"
          ]
        },
        {
          "name": "stdout",
          "output_type": "stream",
          "text": [
            "Epoch 163 — train MAE: 32.70 mm, val MAE: 29.31 mm\n",
            "Epoch 164 — train MAE: 33.31 mm, val MAE: 30.65 mm\n"
          ]
        },
        {
          "name": "stdout",
          "output_type": "stream",
          "text": [
            "Epoch 165 — train MAE: 32.64 mm, val MAE: 29.04 mm\n",
            "Epoch 166 — train MAE: 33.23 mm, val MAE: 30.31 mm\n"
          ]
        },
        {
          "name": "stdout",
          "output_type": "stream",
          "text": [
            "Epoch 167 — train MAE: 32.22 mm, val MAE: 29.38 mm\n",
            "Epoch 168 — train MAE: 31.78 mm, val MAE: 28.88 mm\n"
          ]
        },
        {
          "name": "stdout",
          "output_type": "stream",
          "text": [
            "Epoch 169 — train MAE: 32.45 mm, val MAE: 29.13 mm\n",
            "Epoch 170 — train MAE: 32.87 mm, val MAE: 29.16 mm\n"
          ]
        },
        {
          "name": "stdout",
          "output_type": "stream",
          "text": [
            "Epoch 171 — train MAE: 31.96 mm, val MAE: 28.80 mm\n",
            "Epoch 172 — train MAE: 32.03 mm, val MAE: 29.62 mm\n"
          ]
        },
        {
          "name": "stdout",
          "output_type": "stream",
          "text": [
            "Epoch 173 — train MAE: 33.80 mm, val MAE: 30.69 mm\n",
            "Epoch 174 — train MAE: 32.69 mm, val MAE: 30.54 mm\n"
          ]
        },
        {
          "name": "stdout",
          "output_type": "stream",
          "text": [
            "Epoch 175 — train MAE: 32.51 mm, val MAE: 30.02 mm\n",
            "Epoch 176 — train MAE: 32.03 mm, val MAE: 29.47 mm\n"
          ]
        },
        {
          "name": "stdout",
          "output_type": "stream",
          "text": [
            "Epoch 177 — train MAE: 31.93 mm, val MAE: 29.47 mm\n",
            "Epoch 178 — train MAE: 32.28 mm, val MAE: 28.80 mm\n"
          ]
        },
        {
          "name": "stdout",
          "output_type": "stream",
          "text": [
            "Epoch 179 — train MAE: 32.41 mm, val MAE: 30.61 mm\n",
            "Epoch 180 — train MAE: 32.23 mm, val MAE: 29.01 mm\n"
          ]
        },
        {
          "name": "stdout",
          "output_type": "stream",
          "text": [
            "Epoch 181 — train MAE: 31.80 mm, val MAE: 29.21 mm\n",
            "Epoch 182 — train MAE: 31.80 mm, val MAE: 29.64 mm\n"
          ]
        },
        {
          "name": "stdout",
          "output_type": "stream",
          "text": [
            "Epoch 183 — train MAE: 31.87 mm, val MAE: 29.45 mm\n",
            "Epoch 184 — train MAE: 32.45 mm, val MAE: 29.13 mm\n"
          ]
        },
        {
          "name": "stdout",
          "output_type": "stream",
          "text": [
            "Epoch 185 — train MAE: 32.37 mm, val MAE: 29.30 mm\n",
            "Epoch 186 — train MAE: 31.87 mm, val MAE: 28.76 mm\n"
          ]
        },
        {
          "name": "stdout",
          "output_type": "stream",
          "text": [
            "Epoch 187 — train MAE: 31.85 mm, val MAE: 29.18 mm\n",
            "Epoch 188 — train MAE: 31.74 mm, val MAE: 28.58 mm\n"
          ]
        },
        {
          "name": "stdout",
          "output_type": "stream",
          "text": [
            "Epoch 189 — train MAE: 31.87 mm, val MAE: 29.46 mm\n",
            "Epoch 190 — train MAE: 32.01 mm, val MAE: 29.76 mm\n"
          ]
        },
        {
          "name": "stdout",
          "output_type": "stream",
          "text": [
            "Epoch 191 — train MAE: 31.84 mm, val MAE: 28.95 mm\n",
            "Epoch 192 — train MAE: 31.96 mm, val MAE: 29.73 mm\n"
          ]
        },
        {
          "name": "stdout",
          "output_type": "stream",
          "text": [
            "Epoch 193 — train MAE: 31.96 mm, val MAE: 28.49 mm\n",
            "Epoch 194 — train MAE: 31.73 mm, val MAE: 29.07 mm\n"
          ]
        },
        {
          "name": "stdout",
          "output_type": "stream",
          "text": [
            "Epoch 195 — train MAE: 31.74 mm, val MAE: 29.17 mm\n",
            "Epoch 196 — train MAE: 31.92 mm, val MAE: 29.27 mm\n"
          ]
        },
        {
          "name": "stdout",
          "output_type": "stream",
          "text": [
            "Epoch 197 — train MAE: 31.81 mm, val MAE: 29.60 mm\n",
            "Epoch 198 — train MAE: 32.01 mm, val MAE: 29.18 mm\n"
          ]
        },
        {
          "name": "stdout",
          "output_type": "stream",
          "text": [
            "Epoch 199 — train MAE: 31.88 mm, val MAE: 28.73 mm\n",
            "Epoch 200 — train MAE: 31.87 mm, val MAE: 28.56 mm\n"
          ]
        },
        {
          "name": "stdout",
          "output_type": "stream",
          "text": [
            "Epoch 201 — train MAE: 31.63 mm, val MAE: 28.85 mm\n",
            "Epoch 202 — train MAE: 31.99 mm, val MAE: 29.19 mm\n"
          ]
        },
        {
          "name": "stdout",
          "output_type": "stream",
          "text": [
            "Epoch 203 — train MAE: 31.62 mm, val MAE: 28.96 mm\n",
            "Epoch 204 — train MAE: 31.71 mm, val MAE: 29.13 mm\n"
          ]
        },
        {
          "name": "stdout",
          "output_type": "stream",
          "text": [
            "Epoch 205 — train MAE: 31.96 mm, val MAE: 29.10 mm\n",
            "Epoch 206 — train MAE: 32.50 mm, val MAE: 29.74 mm\n"
          ]
        },
        {
          "name": "stdout",
          "output_type": "stream",
          "text": [
            "Epoch 207 — train MAE: 31.84 mm, val MAE: 29.26 mm\n",
            "Epoch 208 — train MAE: 31.84 mm, val MAE: 28.83 mm\n"
          ]
        },
        {
          "name": "stdout",
          "output_type": "stream",
          "text": [
            "Epoch 209 — train MAE: 32.37 mm, val MAE: 29.68 mm\n",
            "Epoch 210 — train MAE: 31.87 mm, val MAE: 29.38 mm\n"
          ]
        },
        {
          "name": "stdout",
          "output_type": "stream",
          "text": [
            "Epoch 211 — train MAE: 31.75 mm, val MAE: 28.86 mm\n",
            "Epoch 212 — train MAE: 31.74 mm, val MAE: 28.97 mm\n"
          ]
        },
        {
          "name": "stdout",
          "output_type": "stream",
          "text": [
            "Epoch 213 — train MAE: 31.80 mm, val MAE: 29.25 mm\n",
            "Epoch 214 — train MAE: 31.79 mm, val MAE: 29.53 mm\n"
          ]
        },
        {
          "name": "stdout",
          "output_type": "stream",
          "text": [
            "Epoch 215 — train MAE: 31.81 mm, val MAE: 28.95 mm\n",
            "Epoch 216 — train MAE: 31.73 mm, val MAE: 29.04 mm\n"
          ]
        },
        {
          "name": "stdout",
          "output_type": "stream",
          "text": [
            "Epoch 217 — train MAE: 32.07 mm, val MAE: 28.64 mm\n",
            "Epoch 218 — train MAE: 31.88 mm, val MAE: 29.57 mm\n"
          ]
        },
        {
          "name": "stdout",
          "output_type": "stream",
          "text": [
            "Epoch 219 — train MAE: 31.77 mm, val MAE: 29.49 mm\n",
            "Epoch 220 — train MAE: 31.99 mm, val MAE: 29.63 mm\n"
          ]
        },
        {
          "name": "stdout",
          "output_type": "stream",
          "text": [
            "Epoch 221 — train MAE: 31.73 mm, val MAE: 28.89 mm\n",
            "Epoch 222 — train MAE: 31.87 mm, val MAE: 28.80 mm\n"
          ]
        },
        {
          "name": "stdout",
          "output_type": "stream",
          "text": [
            "Epoch 223 — train MAE: 32.07 mm, val MAE: 29.47 mm\n",
            "Epoch 224 — train MAE: 31.75 mm, val MAE: 29.18 mm\n"
          ]
        },
        {
          "name": "stdout",
          "output_type": "stream",
          "text": [
            "Epoch 225 — train MAE: 31.75 mm, val MAE: 28.69 mm\n",
            "Epoch 226 — train MAE: 32.20 mm, val MAE: 29.15 mm\n"
          ]
        },
        {
          "name": "stdout",
          "output_type": "stream",
          "text": [
            "Epoch 227 — train MAE: 31.76 mm, val MAE: 29.53 mm\n",
            "Epoch 228 — train MAE: 31.63 mm, val MAE: 29.40 mm\n"
          ]
        },
        {
          "name": "stdout",
          "output_type": "stream",
          "text": [
            "Epoch 229 — train MAE: 31.62 mm, val MAE: 28.85 mm\n",
            "Epoch 230 — train MAE: 31.51 mm, val MAE: 28.93 mm\n"
          ]
        },
        {
          "name": "stdout",
          "output_type": "stream",
          "text": [
            "Epoch 231 — train MAE: 31.76 mm, val MAE: 29.19 mm\n",
            "Epoch 232 — train MAE: 31.76 mm, val MAE: 29.42 mm\n"
          ]
        },
        {
          "name": "stdout",
          "output_type": "stream",
          "text": [
            "Epoch 233 — train MAE: 31.78 mm, val MAE: 29.57 mm\n",
            "Epoch 234 — train MAE: 31.96 mm, val MAE: 29.11 mm\n"
          ]
        },
        {
          "name": "stdout",
          "output_type": "stream",
          "text": [
            "Epoch 235 — train MAE: 31.77 mm, val MAE: 29.13 mm\n",
            "Epoch 236 — train MAE: 31.80 mm, val MAE: 29.18 mm\n"
          ]
        },
        {
          "name": "stdout",
          "output_type": "stream",
          "text": [
            "Epoch 237 — train MAE: 31.95 mm, val MAE: 29.78 mm\n",
            "Epoch 238 — train MAE: 31.74 mm, val MAE: 29.00 mm\n"
          ]
        },
        {
          "name": "stdout",
          "output_type": "stream",
          "text": [
            "Epoch 239 — train MAE: 31.79 mm, val MAE: 29.29 mm\n",
            "Epoch 240 — train MAE: 31.84 mm, val MAE: 29.52 mm\n"
          ]
        },
        {
          "name": "stdout",
          "output_type": "stream",
          "text": [
            "Epoch 241 — train MAE: 31.92 mm, val MAE: 29.27 mm\n",
            "Epoch 242 — train MAE: 31.88 mm, val MAE: 28.84 mm\n"
          ]
        },
        {
          "name": "stdout",
          "output_type": "stream",
          "text": [
            "Epoch 243 — train MAE: 31.85 mm, val MAE: 29.14 mm\n",
            "Epoch 244 — train MAE: 31.96 mm, val MAE: 29.55 mm\n"
          ]
        },
        {
          "name": "stdout",
          "output_type": "stream",
          "text": [
            "Epoch 245 — train MAE: 31.68 mm, val MAE: 29.51 mm\n",
            "Epoch 246 — train MAE: 31.64 mm, val MAE: 28.91 mm\n"
          ]
        },
        {
          "name": "stdout",
          "output_type": "stream",
          "text": [
            "Epoch 247 — train MAE: 31.83 mm, val MAE: 29.29 mm\n",
            "Epoch 248 — train MAE: 32.08 mm, val MAE: 29.24 mm\n"
          ]
        },
        {
          "name": "stdout",
          "output_type": "stream",
          "text": [
            "Epoch 249 — train MAE: 32.78 mm, val MAE: 29.56 mm\n",
            "Epoch 250 — train MAE: 31.69 mm, val MAE: 28.78 mm\n"
          ]
        },
        {
          "name": "stdout",
          "output_type": "stream",
          "text": [
            "Epoch 251 — train MAE: 31.93 mm, val MAE: 29.86 mm\n",
            "Epoch 252 — train MAE: 31.72 mm, val MAE: 29.45 mm\n"
          ]
        },
        {
          "name": "stdout",
          "output_type": "stream",
          "text": [
            "Epoch 253 — train MAE: 31.54 mm, val MAE: 29.13 mm\n",
            "Epoch 254 — train MAE: 31.58 mm, val MAE: 29.13 mm\n"
          ]
        },
        {
          "name": "stdout",
          "output_type": "stream",
          "text": [
            "Epoch 255 — train MAE: 31.53 mm, val MAE: 29.54 mm\n",
            "Epoch 256 — train MAE: 31.85 mm, val MAE: 29.69 mm\n"
          ]
        },
        {
          "name": "stdout",
          "output_type": "stream",
          "text": [
            "Epoch 257 — train MAE: 31.59 mm, val MAE: 29.24 mm\n",
            "Epoch 258 — train MAE: 31.56 mm, val MAE: 29.34 mm\n"
          ]
        },
        {
          "name": "stdout",
          "output_type": "stream",
          "text": [
            "Epoch 259 — train MAE: 31.89 mm, val MAE: 29.35 mm\n",
            "Epoch 260 — train MAE: 31.67 mm, val MAE: 29.30 mm\n"
          ]
        },
        {
          "name": "stdout",
          "output_type": "stream",
          "text": [
            "Epoch 261 — train MAE: 31.60 mm, val MAE: 29.39 mm\n",
            "Epoch 262 — train MAE: 31.64 mm, val MAE: 28.89 mm\n"
          ]
        },
        {
          "name": "stdout",
          "output_type": "stream",
          "text": [
            "Epoch 263 — train MAE: 31.80 mm, val MAE: 29.16 mm\n",
            "Epoch 264 — train MAE: 31.47 mm, val MAE: 29.21 mm\n"
          ]
        },
        {
          "name": "stdout",
          "output_type": "stream",
          "text": [
            "Epoch 265 — train MAE: 31.67 mm, val MAE: 29.11 mm\n",
            "Epoch 266 — train MAE: 31.55 mm, val MAE: 29.04 mm\n"
          ]
        },
        {
          "name": "stdout",
          "output_type": "stream",
          "text": [
            "Epoch 267 — train MAE: 31.70 mm, val MAE: 29.31 mm\n",
            "Epoch 268 — train MAE: 31.60 mm, val MAE: 29.06 mm\n"
          ]
        },
        {
          "name": "stdout",
          "output_type": "stream",
          "text": [
            "Epoch 269 — train MAE: 31.64 mm, val MAE: 29.49 mm\n",
            "Epoch 270 — train MAE: 31.50 mm, val MAE: 29.12 mm\n"
          ]
        },
        {
          "name": "stdout",
          "output_type": "stream",
          "text": [
            "Epoch 271 — train MAE: 31.52 mm, val MAE: 29.29 mm\n",
            "Epoch 272 — train MAE: 31.75 mm, val MAE: 29.18 mm\n"
          ]
        },
        {
          "name": "stdout",
          "output_type": "stream",
          "text": [
            "Epoch 273 — train MAE: 31.47 mm, val MAE: 29.29 mm\n",
            "Epoch 274 — train MAE: 31.63 mm, val MAE: 29.09 mm\n"
          ]
        },
        {
          "name": "stdout",
          "output_type": "stream",
          "text": [
            "Epoch 275 — train MAE: 31.46 mm, val MAE: 29.37 mm\n",
            "Epoch 276 — train MAE: 31.60 mm, val MAE: 29.33 mm\n"
          ]
        },
        {
          "name": "stdout",
          "output_type": "stream",
          "text": [
            "Epoch 277 — train MAE: 31.72 mm, val MAE: 29.52 mm\n",
            "Epoch 278 — train MAE: 31.83 mm, val MAE: 29.52 mm\n"
          ]
        },
        {
          "name": "stdout",
          "output_type": "stream",
          "text": [
            "Epoch 279 — train MAE: 31.51 mm, val MAE: 29.23 mm\n",
            "Epoch 280 — train MAE: 31.62 mm, val MAE: 29.55 mm\n"
          ]
        },
        {
          "name": "stdout",
          "output_type": "stream",
          "text": [
            "Epoch 281 — train MAE: 31.75 mm, val MAE: 29.23 mm\n",
            "Epoch 282 — train MAE: 31.70 mm, val MAE: 29.03 mm\n"
          ]
        },
        {
          "name": "stdout",
          "output_type": "stream",
          "text": [
            "Epoch 283 — train MAE: 31.66 mm, val MAE: 29.04 mm\n",
            "Epoch 284 — train MAE: 31.81 mm, val MAE: 29.26 mm\n"
          ]
        },
        {
          "name": "stdout",
          "output_type": "stream",
          "text": [
            "Epoch 285 — train MAE: 31.66 mm, val MAE: 29.54 mm\n",
            "Epoch 286 — train MAE: 31.47 mm, val MAE: 29.22 mm\n"
          ]
        },
        {
          "name": "stdout",
          "output_type": "stream",
          "text": [
            "Epoch 287 — train MAE: 31.61 mm, val MAE: 29.43 mm\n",
            "Epoch 288 — train MAE: 31.77 mm, val MAE: 29.55 mm\n"
          ]
        },
        {
          "name": "stdout",
          "output_type": "stream",
          "text": [
            "Epoch 289 — train MAE: 31.61 mm, val MAE: 29.32 mm\n",
            "Epoch 290 — train MAE: 31.59 mm, val MAE: 29.07 mm\n"
          ]
        },
        {
          "name": "stdout",
          "output_type": "stream",
          "text": [
            "Epoch 291 — train MAE: 31.79 mm, val MAE: 29.28 mm\n",
            "Epoch 292 — train MAE: 31.65 mm, val MAE: 29.40 mm\n"
          ]
        },
        {
          "name": "stdout",
          "output_type": "stream",
          "text": [
            "Epoch 293 — train MAE: 31.58 mm, val MAE: 29.12 mm\n",
            "Epoch 294 — train MAE: 31.83 mm, val MAE: 29.62 mm\n"
          ]
        },
        {
          "name": "stdout",
          "output_type": "stream",
          "text": [
            "Epoch 295 — train MAE: 31.65 mm, val MAE: 29.40 mm\n",
            "Epoch 296 — train MAE: 31.66 mm, val MAE: 29.08 mm\n"
          ]
        },
        {
          "name": "stdout",
          "output_type": "stream",
          "text": [
            "Epoch 297 — train MAE: 31.44 mm, val MAE: 29.29 mm\n",
            "Epoch 298 — train MAE: 31.73 mm, val MAE: 29.00 mm\n"
          ]
        },
        {
          "name": "stdout",
          "output_type": "stream",
          "text": [
            "Epoch 299 — train MAE: 31.72 mm, val MAE: 29.83 mm\n",
            "Epoch 300 — train MAE: 31.49 mm, val MAE: 29.20 mm\n"
          ]
        },
        {
          "name": "stdout",
          "output_type": "stream",
          "text": [
            "Epoch 301 — train MAE: 31.65 mm, val MAE: 29.24 mm\n",
            "Epoch 302 — train MAE: 31.87 mm, val MAE: 29.44 mm\n"
          ]
        },
        {
          "name": "stdout",
          "output_type": "stream",
          "text": [
            "Epoch 303 — train MAE: 31.58 mm, val MAE: 29.19 mm\n",
            "Epoch 304 — train MAE: 31.52 mm, val MAE: 29.20 mm\n"
          ]
        },
        {
          "name": "stdout",
          "output_type": "stream",
          "text": [
            "Epoch 305 — train MAE: 31.65 mm, val MAE: 29.68 mm\n",
            "Epoch 306 — train MAE: 31.49 mm, val MAE: 29.00 mm\n"
          ]
        },
        {
          "name": "stdout",
          "output_type": "stream",
          "text": [
            "Epoch 307 — train MAE: 31.62 mm, val MAE: 29.34 mm\n",
            "Epoch 308 — train MAE: 31.58 mm, val MAE: 29.42 mm\n"
          ]
        },
        {
          "name": "stdout",
          "output_type": "stream",
          "text": [
            "Epoch 309 — train MAE: 31.44 mm, val MAE: 29.30 mm\n",
            "Epoch 310 — train MAE: 32.01 mm, val MAE: 29.55 mm\n"
          ]
        },
        {
          "name": "stdout",
          "output_type": "stream",
          "text": [
            "Epoch 311 — train MAE: 31.64 mm, val MAE: 29.35 mm\n",
            "Epoch 312 — train MAE: 31.82 mm, val MAE: 29.41 mm\n"
          ]
        },
        {
          "name": "stdout",
          "output_type": "stream",
          "text": [
            "Epoch 313 — train MAE: 31.57 mm, val MAE: 29.27 mm\n",
            "Epoch 314 — train MAE: 31.45 mm, val MAE: 29.21 mm\n"
          ]
        },
        {
          "name": "stdout",
          "output_type": "stream",
          "text": [
            "Epoch 315 — train MAE: 31.51 mm, val MAE: 29.42 mm\n",
            "Epoch 316 — train MAE: 31.43 mm, val MAE: 29.16 mm\n"
          ]
        },
        {
          "name": "stdout",
          "output_type": "stream",
          "text": [
            "Epoch 317 — train MAE: 31.68 mm, val MAE: 29.34 mm\n",
            "Epoch 318 — train MAE: 31.55 mm, val MAE: 29.22 mm\n"
          ]
        },
        {
          "name": "stdout",
          "output_type": "stream",
          "text": [
            "Epoch 319 — train MAE: 31.48 mm, val MAE: 29.25 mm\n",
            "Epoch 320 — train MAE: 31.55 mm, val MAE: 29.15 mm\n"
          ]
        },
        {
          "name": "stdout",
          "output_type": "stream",
          "text": [
            "Epoch 321 — train MAE: 31.75 mm, val MAE: 29.47 mm\n",
            "Epoch 322 — train MAE: 31.57 mm, val MAE: 29.53 mm\n"
          ]
        },
        {
          "name": "stdout",
          "output_type": "stream",
          "text": [
            "Epoch 323 — train MAE: 31.43 mm, val MAE: 29.18 mm\n",
            "Epoch 324 — train MAE: 31.55 mm, val MAE: 29.17 mm\n"
          ]
        },
        {
          "name": "stdout",
          "output_type": "stream",
          "text": [
            "Epoch 325 — train MAE: 31.61 mm, val MAE: 29.28 mm\n",
            "Epoch 326 — train MAE: 31.53 mm, val MAE: 29.30 mm\n"
          ]
        },
        {
          "name": "stdout",
          "output_type": "stream",
          "text": [
            "Epoch 327 — train MAE: 31.59 mm, val MAE: 29.16 mm\n",
            "Epoch 328 — train MAE: 31.54 mm, val MAE: 29.27 mm\n"
          ]
        },
        {
          "name": "stdout",
          "output_type": "stream",
          "text": [
            "Epoch 329 — train MAE: 31.56 mm, val MAE: 29.16 mm\n",
            "Epoch 330 — train MAE: 31.60 mm, val MAE: 29.29 mm\n"
          ]
        },
        {
          "name": "stdout",
          "output_type": "stream",
          "text": [
            "Epoch 331 — train MAE: 31.56 mm, val MAE: 29.32 mm\n",
            "Epoch 332 — train MAE: 31.58 mm, val MAE: 29.09 mm\n"
          ]
        },
        {
          "name": "stdout",
          "output_type": "stream",
          "text": [
            "Epoch 333 — train MAE: 31.64 mm, val MAE: 29.29 mm\n",
            "Epoch 334 — train MAE: 31.52 mm, val MAE: 29.29 mm\n"
          ]
        },
        {
          "name": "stdout",
          "output_type": "stream",
          "text": [
            "Epoch 335 — train MAE: 31.51 mm, val MAE: 29.25 mm\n",
            "Epoch 336 — train MAE: 31.59 mm, val MAE: 29.39 mm\n"
          ]
        },
        {
          "name": "stdout",
          "output_type": "stream",
          "text": [
            "Epoch 337 — train MAE: 31.52 mm, val MAE: 29.32 mm\n",
            "Epoch 338 — train MAE: 31.52 mm, val MAE: 29.21 mm\n"
          ]
        },
        {
          "name": "stdout",
          "output_type": "stream",
          "text": [
            "Epoch 339 — train MAE: 31.58 mm, val MAE: 29.30 mm\n",
            "Epoch 340 — train MAE: 31.48 mm, val MAE: 29.16 mm\n"
          ]
        },
        {
          "name": "stdout",
          "output_type": "stream",
          "text": [
            "Epoch 341 — train MAE: 31.43 mm, val MAE: 29.32 mm\n",
            "Epoch 342 — train MAE: 31.51 mm, val MAE: 29.21 mm\n"
          ]
        },
        {
          "name": "stdout",
          "output_type": "stream",
          "text": [
            "Epoch 343 — train MAE: 31.54 mm, val MAE: 29.35 mm\n",
            "Epoch 344 — train MAE: 31.55 mm, val MAE: 29.23 mm\n"
          ]
        },
        {
          "name": "stdout",
          "output_type": "stream",
          "text": [
            "Epoch 345 — train MAE: 31.49 mm, val MAE: 29.23 mm\n",
            "Epoch 346 — train MAE: 31.55 mm, val MAE: 29.20 mm\n"
          ]
        },
        {
          "name": "stdout",
          "output_type": "stream",
          "text": [
            "Epoch 347 — train MAE: 31.53 mm, val MAE: 29.31 mm\n",
            "Epoch 348 — train MAE: 31.43 mm, val MAE: 29.19 mm\n"
          ]
        },
        {
          "name": "stdout",
          "output_type": "stream",
          "text": [
            "Epoch 349 — train MAE: 31.53 mm, val MAE: 29.18 mm\n",
            "Epoch 350 — train MAE: 31.49 mm, val MAE: 29.34 mm\n"
          ]
        },
        {
          "name": "stdout",
          "output_type": "stream",
          "text": [
            "Epoch 351 — train MAE: 31.46 mm, val MAE: 29.15 mm\n",
            "Epoch 352 — train MAE: 31.41 mm, val MAE: 29.20 mm\n"
          ]
        },
        {
          "name": "stdout",
          "output_type": "stream",
          "text": [
            "Epoch 353 — train MAE: 31.64 mm, val MAE: 29.38 mm\n",
            "Epoch 354 — train MAE: 31.48 mm, val MAE: 29.30 mm\n"
          ]
        },
        {
          "name": "stdout",
          "output_type": "stream",
          "text": [
            "Epoch 355 — train MAE: 31.70 mm, val MAE: 29.36 mm\n",
            "Epoch 356 — train MAE: 31.49 mm, val MAE: 29.24 mm\n"
          ]
        },
        {
          "name": "stdout",
          "output_type": "stream",
          "text": [
            "Epoch 357 — train MAE: 31.48 mm, val MAE: 29.20 mm\n",
            "Epoch 358 — train MAE: 31.56 mm, val MAE: 29.34 mm\n"
          ]
        },
        {
          "name": "stdout",
          "output_type": "stream",
          "text": [
            "Epoch 359 — train MAE: 31.36 mm, val MAE: 29.19 mm\n",
            "Epoch 360 — train MAE: 31.46 mm, val MAE: 29.29 mm\n"
          ]
        },
        {
          "name": "stdout",
          "output_type": "stream",
          "text": [
            "Epoch 361 — train MAE: 31.43 mm, val MAE: 29.42 mm\n",
            "Epoch 362 — train MAE: 31.50 mm, val MAE: 29.15 mm\n"
          ]
        },
        {
          "name": "stdout",
          "output_type": "stream",
          "text": [
            "Epoch 363 — train MAE: 31.51 mm, val MAE: 29.20 mm\n",
            "Epoch 364 — train MAE: 31.45 mm, val MAE: 29.18 mm\n"
          ]
        },
        {
          "name": "stdout",
          "output_type": "stream",
          "text": [
            "Epoch 365 — train MAE: 31.53 mm, val MAE: 29.27 mm\n",
            "Epoch 366 — train MAE: 31.46 mm, val MAE: 29.22 mm\n"
          ]
        },
        {
          "name": "stdout",
          "output_type": "stream",
          "text": [
            "Epoch 367 — train MAE: 31.59 mm, val MAE: 29.31 mm\n",
            "Epoch 368 — train MAE: 31.54 mm, val MAE: 29.17 mm\n"
          ]
        },
        {
          "name": "stdout",
          "output_type": "stream",
          "text": [
            "Epoch 369 — train MAE: 31.38 mm, val MAE: 29.22 mm\n",
            "Epoch 370 — train MAE: 31.60 mm, val MAE: 29.17 mm\n"
          ]
        },
        {
          "name": "stdout",
          "output_type": "stream",
          "text": [
            "Epoch 371 — train MAE: 31.56 mm, val MAE: 29.24 mm\n",
            "Epoch 372 — train MAE: 31.53 mm, val MAE: 29.24 mm\n"
          ]
        },
        {
          "name": "stdout",
          "output_type": "stream",
          "text": [
            "Epoch 373 — train MAE: 31.48 mm, val MAE: 29.12 mm\n",
            "Epoch 374 — train MAE: 31.52 mm, val MAE: 29.20 mm\n"
          ]
        },
        {
          "name": "stdout",
          "output_type": "stream",
          "text": [
            "Epoch 375 — train MAE: 31.45 mm, val MAE: 29.29 mm\n",
            "Epoch 376 — train MAE: 31.63 mm, val MAE: 29.41 mm\n"
          ]
        },
        {
          "name": "stdout",
          "output_type": "stream",
          "text": [
            "Epoch 377 — train MAE: 31.50 mm, val MAE: 29.31 mm\n",
            "Epoch 378 — train MAE: 31.40 mm, val MAE: 29.28 mm\n",
            "Epoch 379 — train MAE: 31.58 mm, val MAE: 29.25 mm\n"
          ]
        },
        {
          "name": "stdout",
          "output_type": "stream",
          "text": [
            "Epoch 380 — train MAE: 31.47 mm, val MAE: 29.29 mm\n",
            "Epoch 381 — train MAE: 31.47 mm, val MAE: 29.26 mm\n"
          ]
        },
        {
          "name": "stdout",
          "output_type": "stream",
          "text": [
            "Epoch 382 — train MAE: 31.64 mm, val MAE: 29.38 mm\n",
            "Epoch 383 — train MAE: 31.69 mm, val MAE: 29.39 mm\n"
          ]
        },
        {
          "name": "stdout",
          "output_type": "stream",
          "text": [
            "Epoch 384 — train MAE: 31.43 mm, val MAE: 29.20 mm\n",
            "Epoch 385 — train MAE: 31.45 mm, val MAE: 29.19 mm\n"
          ]
        },
        {
          "name": "stdout",
          "output_type": "stream",
          "text": [
            "Epoch 386 — train MAE: 31.43 mm, val MAE: 29.14 mm\n",
            "Epoch 387 — train MAE: 31.53 mm, val MAE: 29.35 mm\n"
          ]
        },
        {
          "name": "stdout",
          "output_type": "stream",
          "text": [
            "Epoch 388 — train MAE: 31.57 mm, val MAE: 29.32 mm\n",
            "Epoch 389 — train MAE: 31.56 mm, val MAE: 29.31 mm\n"
          ]
        },
        {
          "name": "stdout",
          "output_type": "stream",
          "text": [
            "Epoch 390 — train MAE: 31.33 mm, val MAE: 29.12 mm\n",
            "Epoch 391 — train MAE: 31.33 mm, val MAE: 29.21 mm\n"
          ]
        },
        {
          "name": "stdout",
          "output_type": "stream",
          "text": [
            "Epoch 392 — train MAE: 31.47 mm, val MAE: 29.23 mm\n",
            "Epoch 393 — train MAE: 31.48 mm, val MAE: 29.12 mm\n"
          ]
        },
        {
          "name": "stdout",
          "output_type": "stream",
          "text": [
            "Epoch 394 — train MAE: 31.50 mm, val MAE: 29.19 mm\n",
            "Epoch 395 — train MAE: 31.42 mm, val MAE: 29.25 mm\n"
          ]
        },
        {
          "name": "stdout",
          "output_type": "stream",
          "text": [
            "Epoch 396 — train MAE: 31.48 mm, val MAE: 29.15 mm\n",
            "Epoch 397 — train MAE: 31.44 mm, val MAE: 29.21 mm\n"
          ]
        },
        {
          "name": "stdout",
          "output_type": "stream",
          "text": [
            "Epoch 398 — train MAE: 31.36 mm, val MAE: 29.20 mm\n",
            "Epoch 399 — train MAE: 31.50 mm, val MAE: 29.30 mm\n"
          ]
        },
        {
          "name": "stdout",
          "output_type": "stream",
          "text": [
            "Epoch 400 — train MAE: 31.48 mm, val MAE: 29.17 mm\n",
            "\n",
            "Training complete. Best validation MAE: 28.24 mm\n"
          ]
        }
      ],
      "source": [
        "import pandas as pd\n",
        "import numpy as np\n",
        "import torch\n",
        "import torch.nn as nn\n",
        "import torch.nn.functional as F\n",
        "from torch.utils.data import TensorDataset, DataLoader, random_split\n",
        "from sklearn.preprocessing import StandardScaler as SklearnStandardScaler\n",
        "from sklearn.linear_model import LassoCV\n",
        "\n",
        "# --------------- Enhanced model definition ---------------\n",
        "class WaistPredictionNetwork(nn.Module):\n",
        "    def __init__(self, input_dim):\n",
        "        super().__init__()\n",
        "        self.fc1 = nn.Linear(input_dim, 64)\n",
        "        self.fc2 = nn.Linear(64, 32)\n",
        "        self.fc2b = nn.Linear(32, 32)  # Mini-residual block on 32-dim\n",
        "        self.fc3 = nn.Linear(32, 16)\n",
        "        self.fc4 = nn.Linear(16, 8)\n",
        "        self.out = nn.Linear(8, 1)\n",
        "        self.ln1 = nn.LayerNorm(64)\n",
        "        self.ln2 = nn.LayerNorm(32)\n",
        "\n",
        "    def forward(self, x):\n",
        "        x = F.relu(self.fc1(x))\n",
        "\n",
        "        # residual mini-block\n",
        "        x2 = F.relu(self.fc2(x))\n",
        "        res = x2\n",
        "        x2 = F.relu(self.fc2b(x2))\n",
        "        x = x2 + res\n",
        "\n",
        "        x = F.relu(self.fc3(x))\n",
        "        x = F.relu(self.fc4(x))\n",
        "        return self.out(x)\n",
        "\n",
        "# --------------- Training script ---------------\n",
        "if __name__ == \"__main__\":\n",
        "    # Hyperparameters\n",
        "    BATCH_SIZE = 32\n",
        "    LR         = 0.001\n",
        "    EPOCHS     = 400\n",
        "    VAL_SPLIT  = 0.2\n",
        "\n",
        "    # Load & clean data\n",
        "    df = pd.read_csv('body_measurements.csv')\n",
        "    df.dropna(subset=[\n",
        "        'Chest Circumference (mm)',\n",
        "        'Hip Circumference (mm)',\n",
        "        'Height (mm)',\n",
        "        'Weight (kg)',\n",
        "        'Gender',\n",
        "        'Waist Circumference (mm)'\n",
        "    ], inplace=True)\n",
        "\n",
        "    # Feature engineering (before normalization)\n",
        "\n",
        "    # BMI\n",
        "    df['BMI'] = df['Weight (kg)'] / (df['Height (mm)'] / 1000) ** 2\n",
        "\n",
        "    # Log‐transforms\n",
        "    df['log_Weight'] = np.log1p(df['Weight (kg)'])\n",
        "    df['log_Height'] = np.log1p(df['Height (mm)'])\n",
        "    df['log_Chest']  = np.log1p(df['Chest Circumference (mm)'])\n",
        "    df['log_Hip']    = np.log1p(df['Hip Circumference (mm)'])\n",
        "\n",
        "    # Ratios & Differences\n",
        "    df['Chest_to_Height']       = df['Chest Circumference (mm)'] / df['Height (mm)']\n",
        "    df['Hip_to_Height']         = df['Hip Circumference (mm)']   / df['Height (mm)']\n",
        "    df['Chest_to_Hip']          = df['Chest Circumference (mm)'] / df['Hip Circumference (mm)']\n",
        "    df['Hip_to_Chest']          = df['Hip Circumference (mm)']   / df['Chest Circumference (mm)']\n",
        "    df['Weight_to_Height']      = df['Weight (kg)']              / (df['Height (mm)'] / 1000)\n",
        "    df['Height_minus_Weight']   = df['Height (mm)']             - df['Weight (kg)']\n",
        "\n",
        "    # Higher‐order & cross‐terms\n",
        "    df['BMI_sq']        = df['BMI']**2\n",
        "    df['BMI_cu']        = df['BMI']**3\n",
        "    df['Chest_sq']      = df['Chest Circumference (mm)']**2\n",
        "    df['Hip_sq']        = df['Hip Circumference (mm)']**2\n",
        "    df['Weight_x_Chest']= df['Weight (kg)'] * df['Chest Circumference (mm)']\n",
        "    df['Weight_x_Hip']  = df['Weight (kg)'] * df['Hip Circumference (mm)']\n",
        "    df['Height_x_BMI']  = df['Height (mm)'] * df['BMI']\n",
        "\n",
        "    # Nonlinear transforms\n",
        "    df['sqrt_Weight']  = np.sqrt(df['Weight (kg)'])\n",
        "    df['cbrt_Chest']   = np.cbrt(df['Chest Circumference (mm)'])\n",
        "\n",
        "    # Gender interactions\n",
        "    for col in ['BMI', 'Chest Circumference (mm)', 'Hip Circumference (mm)']:\n",
        "        df[f\"{col}_x_Gender\"] = df[col] * df['Gender']\n",
        "\n",
        "\n",
        "\n",
        "    base_feats = [\n",
        "        'Chest Circumference (mm)',\n",
        "        'Hip Circumference (mm)',\n",
        "        'Height (mm)',\n",
        "        'Weight (kg)',\n",
        "        'Gender',\n",
        "        'BMI',\n",
        "        'log_Weight', 'log_Height', 'log_Chest', 'log_Hip',\n",
        "        'Chest_to_Height', 'Hip_to_Height',\n",
        "        'Chest_to_Hip', 'Hip_to_Chest',\n",
        "        'Weight_to_Height', 'Height_minus_Weight',\n",
        "        'BMI_sq', 'BMI_cu',\n",
        "        'Chest_sq', 'Hip_sq',\n",
        "        'Weight_x_Chest', 'Weight_x_Hip', 'Height_x_BMI',\n",
        "        'sqrt_Weight', 'cbrt_Chest',\n",
        "        'BMI_x_Gender', 'Chest Circumference (mm)_x_Gender', 'Hip Circumference (mm)_x_Gender',\n",
        "    ]\n",
        "\n",
        "    # LassoCV to select features\n",
        "    X_lasso = df[base_feats].values.astype(float)\n",
        "    y_lasso = df['Waist Circumference (mm)'].values.astype(float)\n",
        "    scaler_l = SklearnStandardScaler()\n",
        "    X_scaled = scaler_l.fit_transform(X_lasso)\n",
        "    lasso = LassoCV(\n",
        "        cv=5,\n",
        "        random_state=42,\n",
        "        alphas=np.logspace(-4, 0, 50),\n",
        "        max_iter=2000000,\n",
        "        tol=1e-1\n",
        "    )\n",
        "    lasso.fit(X_scaled, y_lasso)\n",
        "    coef = lasso.coef_\n",
        "    abs_coefs = np.abs(coef)\n",
        "    features = [f for f, c in zip(base_feats, coef) if abs(c) > 1e-2]\n",
        "    print(\"Selected features via Lasso:\", features)\n",
        "\n",
        "    # Extract and normalize inputs\n",
        "    X_raw = df[features].values.astype(float)\n",
        "    mean  = X_raw.mean(axis=0, keepdims=True)\n",
        "    std   = X_raw.std(axis=0,  keepdims=True) + 1e-6\n",
        "    X = (X_raw - mean) / std\n",
        "\n",
        "    # Extract target\n",
        "    y = df['Waist Circumference (mm)'].values.astype(float).reshape(-1,1)\n",
        "\n",
        "    # Build dataset & split\n",
        "    X = torch.tensor(X, dtype=torch.float32)\n",
        "    y = torch.tensor(y, dtype=torch.float32)\n",
        "    dataset = TensorDataset(X, y)\n",
        "    n_val   = int(len(dataset) * VAL_SPLIT)\n",
        "    n_train = len(dataset) - n_val\n",
        "    train_ds, val_ds = random_split(\n",
        "        dataset, [n_train, n_val],\n",
        "        generator=torch.Generator().manual_seed(42)\n",
        "    )\n",
        "\n",
        "    train_loader = DataLoader(train_ds, batch_size=BATCH_SIZE, shuffle=True)\n",
        "    val_loader   = DataLoader(val_ds,   batch_size=BATCH_SIZE)\n",
        "\n",
        "    # Model, loss, optimizer, scheduler\n",
        "    device      = torch.device('cuda' if torch.cuda.is_available() else 'cpu')\n",
        "    model       = WaistPredictionNetwork(input_dim=len(features)).to(device)\n",
        "    criterion   = nn.SmoothL1Loss(beta=1.0)\n",
        "    optimizer   = torch.optim.Adam(model.parameters(), lr=LR, weight_decay=0.00001)\n",
        "    scheduler   = torch.optim.lr_scheduler.ReduceLROnPlateau(\n",
        "                      optimizer, mode='min', factor=0.5, patience=70, verbose=True)\n",
        "\n",
        "    best_val_mae = float('inf')\n",
        "\n",
        "    # Training loop\n",
        "    for epoch in range(1, EPOCHS + 1):\n",
        "        model.train()\n",
        "        for xb, yb in train_loader:\n",
        "            xb, yb = xb.to(device), yb.to(device)\n",
        "            preds  = model(xb)\n",
        "            loss   = criterion(preds, yb)\n",
        "            optimizer.zero_grad()\n",
        "            torch.nn.utils.clip_grad_norm_(model.parameters(), max_norm=1.0)\n",
        "            loss.backward()\n",
        "            optimizer.step()\n",
        "\n",
        "        model.eval()\n",
        "        with torch.no_grad():\n",
        "            train_mae = torch.stack([\n",
        "                criterion(model(xb.to(device)), yb.to(device))\n",
        "                for xb, yb in train_loader\n",
        "            ]).mean().item()\n",
        "\n",
        "            val_mae = torch.stack([\n",
        "                criterion(model(xb.to(device)), yb.to(device))\n",
        "                for xb, yb in val_loader\n",
        "            ]).mean().item()\n",
        "\n",
        "        scheduler.step(val_mae)\n",
        "\n",
        "        if val_mae < best_val_mae:\n",
        "            best_val_mae = val_mae\n",
        "            torch.save(model.state_dict(), 'best_weights_waist.pkl') # Save best model\n",
        "            print(f\"Epoch {epoch:3d} — train MAE: {train_mae:.2f} mm, \"\n",
        "                  f\"NEW best val MAE: {val_mae:.2f} mm (weights saved)\")\n",
        "        else:\n",
        "            print(f\"Epoch {epoch:3d} — train MAE: {train_mae:.2f} mm, val MAE: {val_mae:.2f} mm\")\n",
        "\n",
        "    # Save normalization stats\n",
        "    torch.save({'mean': torch.tensor(mean).squeeze(),\n",
        "                'std':  torch.tensor(std).squeeze()},\n",
        "               'scaling_stats_waist.pth')\n",
        "\n",
        "    print(f\"\\nTraining complete. Best validation MAE: {best_val_mae:.2f} mm\")\n"
      ]
    },
    {
      "cell_type": "markdown",
      "metadata": {
        "id": "qOzXb7lbSxf7"
      },
      "source": [
        "5a)"
      ]
    },
    {
      "cell_type": "markdown",
      "metadata": {
        "id": "JNgTkr0mSzST"
      },
      "source": [
        "The architecture is a Convolutional Neural Network (CNN) which is enhanced with the use of Squeeze-and-Excitation (SE) blocks. The model features five convolutional layers with increasing channel sizes to allow low to high-level features to be captured. Batch normalisation helps to regularise and stabilise training, with Mish (activation) used due to its superior gradient flow compared with ReLU.\n",
        "\n",
        "The SE blocks allow the model to focus on more important features of an image and can extract connections sometimes missed by more standard structures. The use of these structures improves the model's performance with a relatively low increase in computational demands. MaxPooling is used after each SE block to reduce spatial dimensions and assist in regularisation, preventing overfitting.\n",
        "\n",
        "Three simple augementations are used on the Image set, RandomResizedCrop, ColourJitter and image normalisation, this is done to introduce noise to the training data which aims to imrpoved the model's ability to generalise.\n",
        "\n",
        "CrossEntropyLoss and Adam are used - both standard and widely used due to a good basline ability across a range of tasks. CosineAnnealingLR Scheduler is used for its ability to generalise well, especially towards the end of training."
      ]
    },
    {
      "cell_type": "markdown",
      "metadata": {
        "id": "0KOEUh75Xkqm"
      },
      "source": [
        "5b) (Full Code)"
      ]
    },
    {
      "cell_type": "code",
      "execution_count": null,
      "metadata": {
        "execution": {
          "iopub.execute_input": "2025-05-22T08:34:17.847251Z",
          "iopub.status.busy": "2025-05-22T08:34:17.846937Z",
          "iopub.status.idle": "2025-05-22T09:26:53.371707Z",
          "shell.execute_reply": "2025-05-22T09:26:53.371081Z"
        },
        "id": "8uXCAR86Xojt",
        "outputId": "6a9d41b3-afdb-4c32-a3a9-402979103cba"
      },
      "outputs": [
        {
          "name": "stdout",
          "output_type": "stream",
          "text": [
            "Using device: cuda\n"
          ]
        },
        {
          "name": "stderr",
          "output_type": "stream",
          "text": [
            "/mnt/scratch/users/tl1600/Project/.venv/lib/python3.12/site-packages/torch/utils/data/dataloader.py:617: UserWarning: This DataLoader will create 16 worker processes in total. Our suggested max number of worker in current system is 12, which is smaller than what this DataLoader is going to create. Please be aware that excessive worker creation might get DataLoader running slow or even freeze, lower the worker number to avoid potential slowness/freeze if necessary.\n",
            "  warnings.warn(\n"
          ]
        },
        {
          "name": "stdout",
          "output_type": "stream",
          "text": [
            "Computed dataset mean: [0.6970945000648499, 0.6707542538642883, 0.6784442067146301]\n",
            "Computed dataset std : [0.28497767448425293, 0.3031124472618103, 0.2961891293525696]\n",
            "\n",
            "Epoch 1/150\n"
          ]
        },
        {
          "name": "stdout",
          "output_type": "stream",
          "text": [
            "Train Loss: 0.5636 | Acc: 0.7543\n",
            "Val   Loss: 0.4789 | Acc: 0.8053\n",
            "\n",
            "Epoch 2/150\n"
          ]
        },
        {
          "name": "stdout",
          "output_type": "stream",
          "text": [
            "Train Loss: 0.3543 | Acc: 0.8584\n",
            "Val   Loss: 0.3842 | Acc: 0.8702\n",
            "\n",
            "Epoch 3/150\n"
          ]
        },
        {
          "name": "stdout",
          "output_type": "stream",
          "text": [
            "Train Loss: 0.2801 | Acc: 0.8884\n",
            "Val   Loss: 0.2786 | Acc: 0.8702\n",
            "\n",
            "Epoch 4/150\n"
          ]
        },
        {
          "name": "stdout",
          "output_type": "stream",
          "text": [
            "Train Loss: 0.2510 | Acc: 0.9011\n",
            "Val   Loss: 0.2536 | Acc: 0.9122\n",
            "\n",
            "Epoch 5/150\n"
          ]
        },
        {
          "name": "stdout",
          "output_type": "stream",
          "text": [
            "Train Loss: 0.2351 | Acc: 0.9070\n",
            "Val   Loss: 0.2457 | Acc: 0.9046\n",
            "\n",
            "Epoch 6/150\n"
          ]
        },
        {
          "name": "stdout",
          "output_type": "stream",
          "text": [
            "Train Loss: 0.2289 | Acc: 0.9129\n",
            "Val   Loss: 0.2616 | Acc: 0.8969\n",
            "\n",
            "Epoch 7/150\n"
          ]
        },
        {
          "name": "stdout",
          "output_type": "stream",
          "text": [
            "Train Loss: 0.2100 | Acc: 0.9222\n",
            "Val   Loss: 0.2121 | Acc: 0.9313\n",
            "\n",
            "Epoch 8/150\n"
          ]
        },
        {
          "name": "stdout",
          "output_type": "stream",
          "text": [
            "Train Loss: 0.1900 | Acc: 0.9357\n",
            "Val   Loss: 0.2704 | Acc: 0.9198\n",
            "\n",
            "Epoch 9/150\n"
          ]
        },
        {
          "name": "stdout",
          "output_type": "stream",
          "text": [
            "Train Loss: 0.1859 | Acc: 0.9332\n",
            "Val   Loss: 0.2187 | Acc: 0.9275\n",
            "\n",
            "Epoch 10/150\n"
          ]
        },
        {
          "name": "stdout",
          "output_type": "stream",
          "text": [
            "Train Loss: 0.1727 | Acc: 0.9400\n",
            "Val   Loss: 0.2356 | Acc: 0.8969\n",
            "\n",
            "Epoch 11/150\n"
          ]
        },
        {
          "name": "stdout",
          "output_type": "stream",
          "text": [
            "Train Loss: 0.1902 | Acc: 0.9302\n",
            "Val   Loss: 0.2314 | Acc: 0.9160\n",
            "\n",
            "Epoch 12/150\n"
          ]
        },
        {
          "name": "stdout",
          "output_type": "stream",
          "text": [
            "Train Loss: 0.1871 | Acc: 0.9290\n",
            "Val   Loss: 0.2125 | Acc: 0.9198\n",
            "\n",
            "Epoch 13/150\n"
          ]
        },
        {
          "name": "stdout",
          "output_type": "stream",
          "text": [
            "Train Loss: 0.1612 | Acc: 0.9442\n",
            "Val   Loss: 0.2384 | Acc: 0.9046\n",
            "\n",
            "Epoch 14/150\n"
          ]
        },
        {
          "name": "stdout",
          "output_type": "stream",
          "text": [
            "Train Loss: 0.1610 | Acc: 0.9395\n",
            "Val   Loss: 0.2105 | Acc: 0.9351\n",
            "\n",
            "Epoch 15/150\n"
          ]
        },
        {
          "name": "stdout",
          "output_type": "stream",
          "text": [
            "Train Loss: 0.1544 | Acc: 0.9467\n",
            "Val   Loss: 0.2118 | Acc: 0.9198\n",
            "\n",
            "Epoch 16/150\n"
          ]
        },
        {
          "name": "stdout",
          "output_type": "stream",
          "text": [
            "Train Loss: 0.1567 | Acc: 0.9467\n",
            "Val   Loss: 0.2364 | Acc: 0.8969\n",
            "\n",
            "Epoch 17/150\n"
          ]
        },
        {
          "name": "stdout",
          "output_type": "stream",
          "text": [
            "Train Loss: 0.1522 | Acc: 0.9463\n",
            "Val   Loss: 0.2382 | Acc: 0.9008\n",
            "\n",
            "Epoch 18/150\n"
          ]
        },
        {
          "name": "stdout",
          "output_type": "stream",
          "text": [
            "Train Loss: 0.1565 | Acc: 0.9442\n",
            "Val   Loss: 0.1617 | Acc: 0.9389\n",
            "\n",
            "Epoch 19/150\n"
          ]
        },
        {
          "name": "stdout",
          "output_type": "stream",
          "text": [
            "Train Loss: 0.1341 | Acc: 0.9510\n",
            "Val   Loss: 0.1921 | Acc: 0.9275\n",
            "\n",
            "Epoch 20/150\n"
          ]
        },
        {
          "name": "stdout",
          "output_type": "stream",
          "text": [
            "Train Loss: 0.1377 | Acc: 0.9535\n",
            "Val   Loss: 0.1995 | Acc: 0.9351\n",
            "\n",
            "Epoch 21/150\n"
          ]
        },
        {
          "name": "stdout",
          "output_type": "stream",
          "text": [
            "Train Loss: 0.1340 | Acc: 0.9510\n",
            "Val   Loss: 0.2128 | Acc: 0.9237\n",
            "\n",
            "Epoch 22/150\n"
          ]
        },
        {
          "name": "stdout",
          "output_type": "stream",
          "text": [
            "Train Loss: 0.1334 | Acc: 0.9488\n",
            "Val   Loss: 0.1835 | Acc: 0.9389\n",
            "\n",
            "Epoch 23/150\n"
          ]
        },
        {
          "name": "stdout",
          "output_type": "stream",
          "text": [
            "Train Loss: 0.1309 | Acc: 0.9531\n",
            "Val   Loss: 0.1643 | Acc: 0.9389\n",
            "\n",
            "Epoch 24/150\n"
          ]
        },
        {
          "name": "stdout",
          "output_type": "stream",
          "text": [
            "Train Loss: 0.1172 | Acc: 0.9556\n",
            "Val   Loss: 0.1922 | Acc: 0.9160\n",
            "\n",
            "Epoch 25/150\n"
          ]
        },
        {
          "name": "stdout",
          "output_type": "stream",
          "text": [
            "Train Loss: 0.1359 | Acc: 0.9455\n",
            "Val   Loss: 0.1783 | Acc: 0.9275\n",
            "\n",
            "Epoch 26/150\n"
          ]
        },
        {
          "name": "stdout",
          "output_type": "stream",
          "text": [
            "Train Loss: 0.1164 | Acc: 0.9590\n",
            "Val   Loss: 0.1890 | Acc: 0.9466\n",
            "\n",
            "Epoch 27/150\n"
          ]
        },
        {
          "name": "stdout",
          "output_type": "stream",
          "text": [
            "Train Loss: 0.1090 | Acc: 0.9607\n",
            "Val   Loss: 0.2433 | Acc: 0.9198\n",
            "\n",
            "Epoch 28/150\n"
          ]
        },
        {
          "name": "stdout",
          "output_type": "stream",
          "text": [
            "Train Loss: 0.1163 | Acc: 0.9611\n",
            "Val   Loss: 0.2617 | Acc: 0.9046\n",
            "\n",
            "Epoch 29/150\n"
          ]
        },
        {
          "name": "stdout",
          "output_type": "stream",
          "text": [
            "Train Loss: 0.1117 | Acc: 0.9586\n",
            "Val   Loss: 0.2001 | Acc: 0.9351\n",
            "\n",
            "Epoch 30/150\n"
          ]
        },
        {
          "name": "stdout",
          "output_type": "stream",
          "text": [
            "Train Loss: 0.1190 | Acc: 0.9607\n",
            "Val   Loss: 0.1627 | Acc: 0.9427\n",
            "\n",
            "Epoch 31/150\n"
          ]
        },
        {
          "name": "stdout",
          "output_type": "stream",
          "text": [
            "Train Loss: 0.1052 | Acc: 0.9632\n",
            "Val   Loss: 0.2162 | Acc: 0.9427\n",
            "\n",
            "Epoch 32/150\n"
          ]
        },
        {
          "name": "stdout",
          "output_type": "stream",
          "text": [
            "Train Loss: 0.1036 | Acc: 0.9624\n",
            "Val   Loss: 0.1814 | Acc: 0.9427\n",
            "\n",
            "Epoch 33/150\n"
          ]
        },
        {
          "name": "stdout",
          "output_type": "stream",
          "text": [
            "Train Loss: 0.1035 | Acc: 0.9590\n",
            "Val   Loss: 0.1848 | Acc: 0.9389\n",
            "\n",
            "Epoch 34/150\n"
          ]
        },
        {
          "name": "stdout",
          "output_type": "stream",
          "text": [
            "Train Loss: 0.0959 | Acc: 0.9624\n",
            "Val   Loss: 0.1396 | Acc: 0.9618\n",
            "\n",
            "Epoch 35/150\n"
          ]
        },
        {
          "name": "stdout",
          "output_type": "stream",
          "text": [
            "Train Loss: 0.0997 | Acc: 0.9603\n",
            "Val   Loss: 0.1947 | Acc: 0.9198\n",
            "\n",
            "Epoch 36/150\n"
          ]
        },
        {
          "name": "stdout",
          "output_type": "stream",
          "text": [
            "Train Loss: 0.0965 | Acc: 0.9649\n",
            "Val   Loss: 0.2023 | Acc: 0.9160\n",
            "\n",
            "Epoch 37/150\n"
          ]
        },
        {
          "name": "stdout",
          "output_type": "stream",
          "text": [
            "Train Loss: 0.0821 | Acc: 0.9708\n",
            "Val   Loss: 0.1930 | Acc: 0.9427\n",
            "\n",
            "Epoch 38/150\n"
          ]
        },
        {
          "name": "stdout",
          "output_type": "stream",
          "text": [
            "Train Loss: 0.0885 | Acc: 0.9649\n",
            "Val   Loss: 0.1920 | Acc: 0.9427\n",
            "\n",
            "Epoch 39/150\n"
          ]
        },
        {
          "name": "stdout",
          "output_type": "stream",
          "text": [
            "Train Loss: 0.0870 | Acc: 0.9653\n",
            "Val   Loss: 0.1859 | Acc: 0.9389\n",
            "\n",
            "Epoch 40/150\n"
          ]
        },
        {
          "name": "stdout",
          "output_type": "stream",
          "text": [
            "Train Loss: 0.0760 | Acc: 0.9759\n",
            "Val   Loss: 0.1567 | Acc: 0.9313\n",
            "\n",
            "Epoch 41/150\n"
          ]
        },
        {
          "name": "stdout",
          "output_type": "stream",
          "text": [
            "Train Loss: 0.0850 | Acc: 0.9658\n",
            "Val   Loss: 0.1947 | Acc: 0.9427\n",
            "\n",
            "Epoch 42/150\n"
          ]
        },
        {
          "name": "stdout",
          "output_type": "stream",
          "text": [
            "Train Loss: 0.0933 | Acc: 0.9662\n",
            "Val   Loss: 0.2110 | Acc: 0.9313\n",
            "\n",
            "Epoch 43/150\n"
          ]
        },
        {
          "name": "stdout",
          "output_type": "stream",
          "text": [
            "Train Loss: 0.0655 | Acc: 0.9780\n",
            "Val   Loss: 0.1602 | Acc: 0.9313\n",
            "\n",
            "Epoch 44/150\n"
          ]
        },
        {
          "name": "stdout",
          "output_type": "stream",
          "text": [
            "Train Loss: 0.0641 | Acc: 0.9780\n",
            "Val   Loss: 0.1844 | Acc: 0.9351\n",
            "\n",
            "Epoch 45/150\n"
          ]
        },
        {
          "name": "stdout",
          "output_type": "stream",
          "text": [
            "Train Loss: 0.0789 | Acc: 0.9717\n",
            "Val   Loss: 0.2213 | Acc: 0.9351\n",
            "\n",
            "Epoch 46/150\n"
          ]
        },
        {
          "name": "stdout",
          "output_type": "stream",
          "text": [
            "Train Loss: 0.0875 | Acc: 0.9674\n",
            "Val   Loss: 0.1946 | Acc: 0.9466\n",
            "\n",
            "Epoch 47/150\n"
          ]
        },
        {
          "name": "stdout",
          "output_type": "stream",
          "text": [
            "Train Loss: 0.0731 | Acc: 0.9734\n",
            "Val   Loss: 0.1973 | Acc: 0.9313\n",
            "\n",
            "Epoch 48/150\n"
          ]
        },
        {
          "name": "stdout",
          "output_type": "stream",
          "text": [
            "Train Loss: 0.0752 | Acc: 0.9700\n",
            "Val   Loss: 0.1880 | Acc: 0.9427\n",
            "\n",
            "Epoch 49/150\n"
          ]
        },
        {
          "name": "stdout",
          "output_type": "stream",
          "text": [
            "Train Loss: 0.0750 | Acc: 0.9759\n",
            "Val   Loss: 0.2137 | Acc: 0.9275\n",
            "\n",
            "Epoch 50/150\n"
          ]
        },
        {
          "name": "stdout",
          "output_type": "stream",
          "text": [
            "Train Loss: 0.0703 | Acc: 0.9738\n",
            "Val   Loss: 0.1801 | Acc: 0.9466\n",
            "\n",
            "Epoch 51/150\n"
          ]
        },
        {
          "name": "stdout",
          "output_type": "stream",
          "text": [
            "Train Loss: 0.0593 | Acc: 0.9797\n",
            "Val   Loss: 0.2213 | Acc: 0.9389\n",
            "\n",
            "Epoch 52/150\n"
          ]
        },
        {
          "name": "stdout",
          "output_type": "stream",
          "text": [
            "Train Loss: 0.0680 | Acc: 0.9780\n",
            "Val   Loss: 0.3056 | Acc: 0.9084\n",
            "\n",
            "Epoch 53/150\n"
          ]
        },
        {
          "name": "stdout",
          "output_type": "stream",
          "text": [
            "Train Loss: 0.0532 | Acc: 0.9814\n",
            "Val   Loss: 0.1800 | Acc: 0.9313\n",
            "\n",
            "Epoch 54/150\n"
          ]
        },
        {
          "name": "stdout",
          "output_type": "stream",
          "text": [
            "Train Loss: 0.0548 | Acc: 0.9810\n",
            "Val   Loss: 0.1475 | Acc: 0.9466\n",
            "\n",
            "Epoch 55/150\n"
          ]
        },
        {
          "name": "stdout",
          "output_type": "stream",
          "text": [
            "Train Loss: 0.0571 | Acc: 0.9784\n",
            "Val   Loss: 0.1827 | Acc: 0.9351\n",
            "\n",
            "Epoch 56/150\n"
          ]
        },
        {
          "name": "stdout",
          "output_type": "stream",
          "text": [
            "Train Loss: 0.0514 | Acc: 0.9822\n",
            "Val   Loss: 0.2174 | Acc: 0.9237\n",
            "\n",
            "Epoch 57/150\n"
          ]
        },
        {
          "name": "stdout",
          "output_type": "stream",
          "text": [
            "Train Loss: 0.0478 | Acc: 0.9839\n",
            "Val   Loss: 0.2347 | Acc: 0.9351\n",
            "\n",
            "Epoch 58/150\n"
          ]
        },
        {
          "name": "stdout",
          "output_type": "stream",
          "text": [
            "Train Loss: 0.0539 | Acc: 0.9822\n",
            "Val   Loss: 0.1889 | Acc: 0.9351\n",
            "\n",
            "Epoch 59/150\n"
          ]
        },
        {
          "name": "stdout",
          "output_type": "stream",
          "text": [
            "Train Loss: 0.0447 | Acc: 0.9856\n",
            "Val   Loss: 0.2280 | Acc: 0.9351\n",
            "\n",
            "Epoch 60/150\n"
          ]
        },
        {
          "name": "stdout",
          "output_type": "stream",
          "text": [
            "Train Loss: 0.0482 | Acc: 0.9835\n",
            "Val   Loss: 0.2347 | Acc: 0.9351\n",
            "\n",
            "Epoch 61/150\n"
          ]
        },
        {
          "name": "stdout",
          "output_type": "stream",
          "text": [
            "Train Loss: 0.0516 | Acc: 0.9797\n",
            "Val   Loss: 0.1547 | Acc: 0.9427\n",
            "\n",
            "Epoch 62/150\n"
          ]
        },
        {
          "name": "stdout",
          "output_type": "stream",
          "text": [
            "Train Loss: 0.0510 | Acc: 0.9810\n",
            "Val   Loss: 0.2041 | Acc: 0.9542\n",
            "\n",
            "Epoch 63/150\n"
          ]
        },
        {
          "name": "stdout",
          "output_type": "stream",
          "text": [
            "Train Loss: 0.0627 | Acc: 0.9805\n",
            "Val   Loss: 0.1738 | Acc: 0.9466\n",
            "\n",
            "Epoch 64/150\n"
          ]
        },
        {
          "name": "stdout",
          "output_type": "stream",
          "text": [
            "Train Loss: 0.0466 | Acc: 0.9827\n",
            "Val   Loss: 0.2396 | Acc: 0.9351\n",
            "\n",
            "Epoch 65/150\n"
          ]
        },
        {
          "name": "stdout",
          "output_type": "stream",
          "text": [
            "Train Loss: 0.0394 | Acc: 0.9852\n",
            "Val   Loss: 0.2572 | Acc: 0.9275\n",
            "\n",
            "Epoch 66/150\n"
          ]
        },
        {
          "name": "stdout",
          "output_type": "stream",
          "text": [
            "Train Loss: 0.0443 | Acc: 0.9835\n",
            "Val   Loss: 0.1756 | Acc: 0.9427\n",
            "\n",
            "Epoch 67/150\n"
          ]
        },
        {
          "name": "stdout",
          "output_type": "stream",
          "text": [
            "Train Loss: 0.0516 | Acc: 0.9827\n",
            "Val   Loss: 0.2017 | Acc: 0.9504\n",
            "\n",
            "Epoch 68/150\n"
          ]
        },
        {
          "name": "stdout",
          "output_type": "stream",
          "text": [
            "Train Loss: 0.0442 | Acc: 0.9860\n",
            "Val   Loss: 0.1912 | Acc: 0.9313\n",
            "\n",
            "Epoch 69/150\n"
          ]
        },
        {
          "name": "stdout",
          "output_type": "stream",
          "text": [
            "Train Loss: 0.0453 | Acc: 0.9831\n",
            "Val   Loss: 0.2494 | Acc: 0.9275\n",
            "\n",
            "Epoch 70/150\n"
          ]
        },
        {
          "name": "stdout",
          "output_type": "stream",
          "text": [
            "Train Loss: 0.0462 | Acc: 0.9839\n",
            "Val   Loss: 0.1416 | Acc: 0.9466\n",
            "\n",
            "Epoch 71/150\n"
          ]
        },
        {
          "name": "stdout",
          "output_type": "stream",
          "text": [
            "Train Loss: 0.0402 | Acc: 0.9844\n",
            "Val   Loss: 0.2109 | Acc: 0.9275\n",
            "\n",
            "Epoch 72/150\n"
          ]
        },
        {
          "name": "stdout",
          "output_type": "stream",
          "text": [
            "Train Loss: 0.0341 | Acc: 0.9873\n",
            "Val   Loss: 0.1689 | Acc: 0.9504\n",
            "\n",
            "Epoch 73/150\n"
          ]
        },
        {
          "name": "stdout",
          "output_type": "stream",
          "text": [
            "Train Loss: 0.0377 | Acc: 0.9869\n",
            "Val   Loss: 0.2112 | Acc: 0.9351\n",
            "\n",
            "Epoch 74/150\n"
          ]
        },
        {
          "name": "stdout",
          "output_type": "stream",
          "text": [
            "Train Loss: 0.0352 | Acc: 0.9856\n",
            "Val   Loss: 0.1840 | Acc: 0.9542\n",
            "\n",
            "Epoch 75/150\n"
          ]
        },
        {
          "name": "stdout",
          "output_type": "stream",
          "text": [
            "Train Loss: 0.0439 | Acc: 0.9822\n",
            "Val   Loss: 0.2459 | Acc: 0.9237\n",
            "\n",
            "Epoch 76/150\n"
          ]
        },
        {
          "name": "stdout",
          "output_type": "stream",
          "text": [
            "Train Loss: 0.0290 | Acc: 0.9911\n",
            "Val   Loss: 0.1780 | Acc: 0.9351\n",
            "\n",
            "Epoch 77/150\n"
          ]
        },
        {
          "name": "stdout",
          "output_type": "stream",
          "text": [
            "Train Loss: 0.0248 | Acc: 0.9937\n",
            "Val   Loss: 0.1507 | Acc: 0.9466\n",
            "\n",
            "Epoch 78/150\n"
          ]
        },
        {
          "name": "stdout",
          "output_type": "stream",
          "text": [
            "Train Loss: 0.0316 | Acc: 0.9911\n",
            "Val   Loss: 0.2059 | Acc: 0.9351\n",
            "\n",
            "Epoch 79/150\n"
          ]
        },
        {
          "name": "stdout",
          "output_type": "stream",
          "text": [
            "Train Loss: 0.0313 | Acc: 0.9894\n",
            "Val   Loss: 0.1889 | Acc: 0.9275\n",
            "\n",
            "Epoch 80/150\n"
          ]
        },
        {
          "name": "stdout",
          "output_type": "stream",
          "text": [
            "Train Loss: 0.0369 | Acc: 0.9882\n",
            "Val   Loss: 0.2253 | Acc: 0.9351\n",
            "\n",
            "Epoch 81/150\n"
          ]
        },
        {
          "name": "stdout",
          "output_type": "stream",
          "text": [
            "Train Loss: 0.0312 | Acc: 0.9886\n",
            "Val   Loss: 0.2271 | Acc: 0.9237\n",
            "\n",
            "Epoch 82/150\n"
          ]
        },
        {
          "name": "stdout",
          "output_type": "stream",
          "text": [
            "Train Loss: 0.0223 | Acc: 0.9949\n",
            "Val   Loss: 0.2204 | Acc: 0.9351\n",
            "\n",
            "Epoch 83/150\n"
          ]
        },
        {
          "name": "stdout",
          "output_type": "stream",
          "text": [
            "Train Loss: 0.0234 | Acc: 0.9915\n",
            "Val   Loss: 0.1752 | Acc: 0.9580\n",
            "\n",
            "Epoch 84/150\n"
          ]
        },
        {
          "name": "stdout",
          "output_type": "stream",
          "text": [
            "Train Loss: 0.0331 | Acc: 0.9903\n",
            "Val   Loss: 0.2459 | Acc: 0.9351\n",
            "\n",
            "Epoch 85/150\n"
          ]
        },
        {
          "name": "stdout",
          "output_type": "stream",
          "text": [
            "Train Loss: 0.0368 | Acc: 0.9886\n",
            "Val   Loss: 0.1821 | Acc: 0.9313\n",
            "\n",
            "Epoch 86/150\n"
          ]
        },
        {
          "name": "stdout",
          "output_type": "stream",
          "text": [
            "Train Loss: 0.0339 | Acc: 0.9873\n",
            "Val   Loss: 0.2074 | Acc: 0.9237\n",
            "\n",
            "Epoch 87/150\n"
          ]
        },
        {
          "name": "stdout",
          "output_type": "stream",
          "text": [
            "Train Loss: 0.0256 | Acc: 0.9903\n",
            "Val   Loss: 0.2289 | Acc: 0.9313\n",
            "\n",
            "Epoch 88/150\n"
          ]
        },
        {
          "name": "stdout",
          "output_type": "stream",
          "text": [
            "Train Loss: 0.0273 | Acc: 0.9890\n",
            "Val   Loss: 0.1701 | Acc: 0.9466\n",
            "\n",
            "Epoch 89/150\n"
          ]
        },
        {
          "name": "stdout",
          "output_type": "stream",
          "text": [
            "Train Loss: 0.0232 | Acc: 0.9915\n",
            "Val   Loss: 0.2241 | Acc: 0.9427\n",
            "\n",
            "Epoch 90/150\n"
          ]
        },
        {
          "name": "stdout",
          "output_type": "stream",
          "text": [
            "Train Loss: 0.0317 | Acc: 0.9911\n",
            "Val   Loss: 0.1614 | Acc: 0.9580\n",
            "\n",
            "Epoch 91/150\n"
          ]
        },
        {
          "name": "stdout",
          "output_type": "stream",
          "text": [
            "Train Loss: 0.0361 | Acc: 0.9882\n",
            "Val   Loss: 0.1318 | Acc: 0.9580\n",
            "\n",
            "Epoch 92/150\n"
          ]
        },
        {
          "name": "stdout",
          "output_type": "stream",
          "text": [
            "Train Loss: 0.0227 | Acc: 0.9915\n",
            "Val   Loss: 0.1780 | Acc: 0.9504\n",
            "\n",
            "Epoch 93/150\n"
          ]
        },
        {
          "name": "stdout",
          "output_type": "stream",
          "text": [
            "Train Loss: 0.0234 | Acc: 0.9920\n",
            "Val   Loss: 0.2287 | Acc: 0.9313\n",
            "\n",
            "Epoch 94/150\n"
          ]
        },
        {
          "name": "stdout",
          "output_type": "stream",
          "text": [
            "Train Loss: 0.0204 | Acc: 0.9932\n",
            "Val   Loss: 0.1811 | Acc: 0.9504\n",
            "\n",
            "Epoch 95/150\n"
          ]
        },
        {
          "name": "stdout",
          "output_type": "stream",
          "text": [
            "Train Loss: 0.0270 | Acc: 0.9899\n",
            "Val   Loss: 0.2148 | Acc: 0.9351\n",
            "\n",
            "Epoch 96/150\n"
          ]
        },
        {
          "name": "stdout",
          "output_type": "stream",
          "text": [
            "Train Loss: 0.0196 | Acc: 0.9937\n",
            "Val   Loss: 0.2933 | Acc: 0.9351\n",
            "\n",
            "Epoch 97/150\n"
          ]
        },
        {
          "name": "stdout",
          "output_type": "stream",
          "text": [
            "Train Loss: 0.0189 | Acc: 0.9941\n",
            "Val   Loss: 0.1724 | Acc: 0.9275\n",
            "\n",
            "Epoch 98/150\n"
          ]
        },
        {
          "name": "stdout",
          "output_type": "stream",
          "text": [
            "Train Loss: 0.0205 | Acc: 0.9937\n",
            "Val   Loss: 0.2955 | Acc: 0.9275\n",
            "\n",
            "Epoch 99/150\n"
          ]
        },
        {
          "name": "stdout",
          "output_type": "stream",
          "text": [
            "Train Loss: 0.0188 | Acc: 0.9932\n",
            "Val   Loss: 0.2470 | Acc: 0.9351\n",
            "\n",
            "Epoch 100/150\n"
          ]
        },
        {
          "name": "stdout",
          "output_type": "stream",
          "text": [
            "Train Loss: 0.0242 | Acc: 0.9911\n",
            "Val   Loss: 0.1835 | Acc: 0.9427\n",
            "\n",
            "Epoch 101/150\n"
          ]
        },
        {
          "name": "stdout",
          "output_type": "stream",
          "text": [
            "Train Loss: 0.0228 | Acc: 0.9928\n",
            "Val   Loss: 0.1704 | Acc: 0.9427\n",
            "\n",
            "Epoch 102/150\n"
          ]
        },
        {
          "name": "stdout",
          "output_type": "stream",
          "text": [
            "Train Loss: 0.0179 | Acc: 0.9941\n",
            "Val   Loss: 0.2862 | Acc: 0.9275\n",
            "\n",
            "Epoch 103/150\n"
          ]
        },
        {
          "name": "stdout",
          "output_type": "stream",
          "text": [
            "Train Loss: 0.0284 | Acc: 0.9920\n",
            "Val   Loss: 0.2982 | Acc: 0.9275\n",
            "\n",
            "Epoch 104/150\n"
          ]
        },
        {
          "name": "stdout",
          "output_type": "stream",
          "text": [
            "Train Loss: 0.0141 | Acc: 0.9945\n",
            "Val   Loss: 0.2303 | Acc: 0.9427\n",
            "\n",
            "Epoch 105/150\n"
          ]
        },
        {
          "name": "stdout",
          "output_type": "stream",
          "text": [
            "Train Loss: 0.0236 | Acc: 0.9899\n",
            "Val   Loss: 0.1929 | Acc: 0.9542\n",
            "\n",
            "Epoch 106/150\n"
          ]
        },
        {
          "name": "stdout",
          "output_type": "stream",
          "text": [
            "Train Loss: 0.0119 | Acc: 0.9958\n",
            "Val   Loss: 0.1740 | Acc: 0.9542\n",
            "\n",
            "Epoch 107/150\n"
          ]
        },
        {
          "name": "stdout",
          "output_type": "stream",
          "text": [
            "Train Loss: 0.0232 | Acc: 0.9915\n",
            "Val   Loss: 0.1814 | Acc: 0.9542\n",
            "\n",
            "Epoch 108/150\n"
          ]
        },
        {
          "name": "stdout",
          "output_type": "stream",
          "text": [
            "Train Loss: 0.0145 | Acc: 0.9953\n",
            "Val   Loss: 0.2059 | Acc: 0.9466\n",
            "\n",
            "Epoch 109/150\n"
          ]
        },
        {
          "name": "stdout",
          "output_type": "stream",
          "text": [
            "Train Loss: 0.0143 | Acc: 0.9953\n",
            "Val   Loss: 0.2822 | Acc: 0.9466\n",
            "\n",
            "Epoch 110/150\n"
          ]
        },
        {
          "name": "stdout",
          "output_type": "stream",
          "text": [
            "Train Loss: 0.0120 | Acc: 0.9962\n",
            "Val   Loss: 0.2539 | Acc: 0.9313\n",
            "\n",
            "Epoch 111/150\n"
          ]
        },
        {
          "name": "stdout",
          "output_type": "stream",
          "text": [
            "Train Loss: 0.0147 | Acc: 0.9937\n",
            "Val   Loss: 0.2150 | Acc: 0.9580\n",
            "\n",
            "Epoch 112/150\n"
          ]
        },
        {
          "name": "stdout",
          "output_type": "stream",
          "text": [
            "Train Loss: 0.0075 | Acc: 0.9983\n",
            "Val   Loss: 0.2387 | Acc: 0.9427\n",
            "\n",
            "Epoch 113/150\n"
          ]
        },
        {
          "name": "stdout",
          "output_type": "stream",
          "text": [
            "Train Loss: 0.0199 | Acc: 0.9915\n",
            "Val   Loss: 0.2213 | Acc: 0.9313\n",
            "\n",
            "Epoch 114/150\n"
          ]
        },
        {
          "name": "stdout",
          "output_type": "stream",
          "text": [
            "Train Loss: 0.0149 | Acc: 0.9945\n",
            "Val   Loss: 0.1833 | Acc: 0.9466\n",
            "\n",
            "Epoch 115/150\n"
          ]
        },
        {
          "name": "stdout",
          "output_type": "stream",
          "text": [
            "Train Loss: 0.0226 | Acc: 0.9920\n",
            "Val   Loss: 0.1443 | Acc: 0.9695\n",
            "\n",
            "Epoch 116/150\n"
          ]
        },
        {
          "name": "stdout",
          "output_type": "stream",
          "text": [
            "Train Loss: 0.0169 | Acc: 0.9937\n",
            "Val   Loss: 0.2010 | Acc: 0.9466\n",
            "\n",
            "Epoch 117/150\n"
          ]
        },
        {
          "name": "stdout",
          "output_type": "stream",
          "text": [
            "Train Loss: 0.0170 | Acc: 0.9937\n",
            "Val   Loss: 0.2110 | Acc: 0.9504\n",
            "\n",
            "Epoch 118/150\n"
          ]
        },
        {
          "name": "stdout",
          "output_type": "stream",
          "text": [
            "Train Loss: 0.0121 | Acc: 0.9966\n",
            "Val   Loss: 0.2453 | Acc: 0.9542\n",
            "\n",
            "Epoch 119/150\n"
          ]
        },
        {
          "name": "stdout",
          "output_type": "stream",
          "text": [
            "Train Loss: 0.0142 | Acc: 0.9958\n",
            "Val   Loss: 0.2354 | Acc: 0.9427\n",
            "\n",
            "Epoch 120/150\n"
          ]
        },
        {
          "name": "stdout",
          "output_type": "stream",
          "text": [
            "Train Loss: 0.0136 | Acc: 0.9953\n",
            "Val   Loss: 0.1657 | Acc: 0.9504\n",
            "\n",
            "Epoch 121/150\n"
          ]
        },
        {
          "name": "stdout",
          "output_type": "stream",
          "text": [
            "Train Loss: 0.0107 | Acc: 0.9953\n",
            "Val   Loss: 0.2079 | Acc: 0.9427\n",
            "\n",
            "Epoch 122/150\n"
          ]
        },
        {
          "name": "stdout",
          "output_type": "stream",
          "text": [
            "Train Loss: 0.0143 | Acc: 0.9945\n",
            "Val   Loss: 0.1207 | Acc: 0.9542\n",
            "\n",
            "Epoch 123/150\n"
          ]
        },
        {
          "name": "stdout",
          "output_type": "stream",
          "text": [
            "Train Loss: 0.0100 | Acc: 0.9966\n",
            "Val   Loss: 0.2894 | Acc: 0.9351\n",
            "\n",
            "Epoch 124/150\n"
          ]
        },
        {
          "name": "stdout",
          "output_type": "stream",
          "text": [
            "Train Loss: 0.0118 | Acc: 0.9962\n",
            "Val   Loss: 0.2512 | Acc: 0.9542\n",
            "\n",
            "Epoch 125/150\n"
          ]
        },
        {
          "name": "stdout",
          "output_type": "stream",
          "text": [
            "Train Loss: 0.0157 | Acc: 0.9937\n",
            "Val   Loss: 0.1533 | Acc: 0.9504\n",
            "\n",
            "Epoch 126/150\n"
          ]
        },
        {
          "name": "stdout",
          "output_type": "stream",
          "text": [
            "Train Loss: 0.0135 | Acc: 0.9962\n",
            "Val   Loss: 0.2143 | Acc: 0.9427\n",
            "\n",
            "Epoch 127/150\n"
          ]
        },
        {
          "name": "stdout",
          "output_type": "stream",
          "text": [
            "Train Loss: 0.0122 | Acc: 0.9953\n",
            "Val   Loss: 0.2488 | Acc: 0.9351\n",
            "\n",
            "Epoch 128/150\n"
          ]
        },
        {
          "name": "stdout",
          "output_type": "stream",
          "text": [
            "Train Loss: 0.0119 | Acc: 0.9962\n",
            "Val   Loss: 0.2514 | Acc: 0.9351\n",
            "\n",
            "Epoch 129/150\n"
          ]
        },
        {
          "name": "stdout",
          "output_type": "stream",
          "text": [
            "Train Loss: 0.0108 | Acc: 0.9962\n",
            "Val   Loss: 0.1868 | Acc: 0.9466\n",
            "\n",
            "Epoch 130/150\n"
          ]
        },
        {
          "name": "stdout",
          "output_type": "stream",
          "text": [
            "Train Loss: 0.0113 | Acc: 0.9975\n",
            "Val   Loss: 0.1756 | Acc: 0.9427\n",
            "\n",
            "Epoch 131/150\n"
          ]
        },
        {
          "name": "stdout",
          "output_type": "stream",
          "text": [
            "Train Loss: 0.0258 | Acc: 0.9928\n",
            "Val   Loss: 0.2513 | Acc: 0.9389\n",
            "\n",
            "Epoch 132/150\n"
          ]
        },
        {
          "name": "stdout",
          "output_type": "stream",
          "text": [
            "Train Loss: 0.0118 | Acc: 0.9953\n",
            "Val   Loss: 0.2290 | Acc: 0.9427\n",
            "\n",
            "Epoch 133/150\n"
          ]
        },
        {
          "name": "stdout",
          "output_type": "stream",
          "text": [
            "Train Loss: 0.0149 | Acc: 0.9970\n",
            "Val   Loss: 0.2067 | Acc: 0.9351\n",
            "\n",
            "Epoch 134/150\n"
          ]
        },
        {
          "name": "stdout",
          "output_type": "stream",
          "text": [
            "Train Loss: 0.0125 | Acc: 0.9953\n",
            "Val   Loss: 0.1743 | Acc: 0.9580\n",
            "\n",
            "Epoch 135/150\n"
          ]
        },
        {
          "name": "stdout",
          "output_type": "stream",
          "text": [
            "Train Loss: 0.0129 | Acc: 0.9958\n",
            "Val   Loss: 0.2574 | Acc: 0.9389\n",
            "\n",
            "Epoch 136/150\n"
          ]
        },
        {
          "name": "stdout",
          "output_type": "stream",
          "text": [
            "Train Loss: 0.0117 | Acc: 0.9953\n",
            "Val   Loss: 0.1599 | Acc: 0.9580\n",
            "\n",
            "Epoch 137/150\n"
          ]
        },
        {
          "name": "stdout",
          "output_type": "stream",
          "text": [
            "Train Loss: 0.0113 | Acc: 0.9975\n",
            "Val   Loss: 0.2446 | Acc: 0.9427\n",
            "\n",
            "Epoch 138/150\n"
          ]
        },
        {
          "name": "stdout",
          "output_type": "stream",
          "text": [
            "Train Loss: 0.0129 | Acc: 0.9966\n",
            "Val   Loss: 0.1703 | Acc: 0.9542\n",
            "\n",
            "Epoch 139/150\n"
          ]
        },
        {
          "name": "stdout",
          "output_type": "stream",
          "text": [
            "Train Loss: 0.0112 | Acc: 0.9979\n",
            "Val   Loss: 0.2703 | Acc: 0.9313\n",
            "\n",
            "Epoch 140/150\n"
          ]
        },
        {
          "name": "stdout",
          "output_type": "stream",
          "text": [
            "Train Loss: 0.0110 | Acc: 0.9953\n",
            "Val   Loss: 0.2300 | Acc: 0.9542\n",
            "\n",
            "Epoch 141/150\n"
          ]
        },
        {
          "name": "stdout",
          "output_type": "stream",
          "text": [
            "Train Loss: 0.0101 | Acc: 0.9958\n",
            "Val   Loss: 0.1818 | Acc: 0.9389\n",
            "\n",
            "Epoch 142/150\n"
          ]
        },
        {
          "name": "stdout",
          "output_type": "stream",
          "text": [
            "Train Loss: 0.0114 | Acc: 0.9970\n",
            "Val   Loss: 0.2031 | Acc: 0.9504\n",
            "\n",
            "Epoch 143/150\n"
          ]
        },
        {
          "name": "stdout",
          "output_type": "stream",
          "text": [
            "Train Loss: 0.0095 | Acc: 0.9966\n",
            "Val   Loss: 0.2238 | Acc: 0.9389\n",
            "\n",
            "Epoch 144/150\n"
          ]
        },
        {
          "name": "stdout",
          "output_type": "stream",
          "text": [
            "Train Loss: 0.0126 | Acc: 0.9958\n",
            "Val   Loss: 0.2347 | Acc: 0.9466\n",
            "\n",
            "Epoch 145/150\n"
          ]
        },
        {
          "name": "stdout",
          "output_type": "stream",
          "text": [
            "Train Loss: 0.0101 | Acc: 0.9979\n",
            "Val   Loss: 0.2058 | Acc: 0.9542\n",
            "\n",
            "Epoch 146/150\n"
          ]
        },
        {
          "name": "stdout",
          "output_type": "stream",
          "text": [
            "Train Loss: 0.0063 | Acc: 0.9979\n",
            "Val   Loss: 0.2700 | Acc: 0.9504\n",
            "\n",
            "Epoch 147/150\n"
          ]
        },
        {
          "name": "stdout",
          "output_type": "stream",
          "text": [
            "Train Loss: 0.0181 | Acc: 0.9941\n",
            "Val   Loss: 0.1538 | Acc: 0.9466\n",
            "\n",
            "Epoch 148/150\n"
          ]
        },
        {
          "name": "stdout",
          "output_type": "stream",
          "text": [
            "Train Loss: 0.0127 | Acc: 0.9970\n",
            "Val   Loss: 0.2265 | Acc: 0.9427\n",
            "\n",
            "Epoch 149/150\n"
          ]
        },
        {
          "name": "stdout",
          "output_type": "stream",
          "text": [
            "Train Loss: 0.0084 | Acc: 0.9962\n",
            "Val   Loss: 0.1959 | Acc: 0.9504\n",
            "\n",
            "Epoch 150/150\n"
          ]
        },
        {
          "name": "stdout",
          "output_type": "stream",
          "text": [
            "Train Loss: 0.0107 | Acc: 0.9966\n",
            "Val   Loss: 0.2856 | Acc: 0.9275\n",
            "\n",
            "Training complete. Best validation accuracy: 0.9695\n",
            "Model saved to garment_cnn.pkl\n"
          ]
        }
      ],
      "source": [
        "import os\n",
        "import torch\n",
        "import torch.nn as nn\n",
        "import torch.optim as optim\n",
        "from torch.utils.data import DataLoader, random_split\n",
        "from torchvision import datasets, transforms\n",
        "import random\n",
        "import numpy as np\n",
        "\n",
        "# Seeding to prevent randomness between runs\n",
        "SEED = 12\n",
        "random.seed(SEED)\n",
        "np.random.seed(SEED)\n",
        "torch.manual_seed(SEED)\n",
        "if torch.cuda.is_available():\n",
        "    torch.cuda.manual_seed_all(SEED)\n",
        "    torch.backends.cudnn.deterministic = True\n",
        "    torch.backends.cudnn.benchmark = False\n",
        "\n",
        "\n",
        "# Hyperparameters & Paths\n",
        "DATA_DIR       = 'garment_images'\n",
        "MODEL_PATH     = 'garment_cnn.pkl'\n",
        "EPOCHS         = 150\n",
        "BATCH_SIZE     = 32\n",
        "LEARNING_RATE  = 1e-3\n",
        "VAL_SPLIT      = 0.1\n",
        "NUM_CLASSES    = 3\n",
        "DEVICE         = torch.device('cuda' if torch.cuda.is_available() else 'cpu')\n",
        "\n",
        "print(f\"Using device: {DEVICE}\")\n",
        "\n",
        "# Compute dataset statistics for normalization\n",
        "stat_ds     = datasets.ImageFolder(DATA_DIR, transform=transforms.ToTensor())\n",
        "stat_loader = DataLoader(stat_ds, batch_size=64, shuffle=False, num_workers=16)\n",
        "\n",
        "means = torch.zeros(3)\n",
        "stds  = torch.zeros(3)\n",
        "n     = 0\n",
        "for imgs, _ in stat_loader:\n",
        "    B = imgs.size(0)\n",
        "    imgs = imgs.view(B, 3, -1)\n",
        "    means += imgs.mean(2).sum(0)\n",
        "    stds  += imgs.std(2).sum(0)\n",
        "    n     += B\n",
        "\n",
        "means /= n\n",
        "stds  /= n\n",
        "print(f\"Computed dataset mean: {means.tolist()}\")\n",
        "print(f\"Computed dataset std : {stds.tolist()}\")\n",
        "\n",
        "# Data Loading (augmentation + normalization)\n",
        "transform = transforms.Compose([\n",
        "    transforms.RandomResizedCrop(256, scale=(0.5,1.0), ratio=(0.75,1.33)),\n",
        "    transforms.ColorJitter(brightness=0.2, contrast=0.2,\n",
        "                           saturation=0.2, hue=0.1),\n",
        "    transforms.ToTensor(),\n",
        "    transforms.Normalize(mean=means.tolist(), std=stds.tolist())\n",
        "])\n",
        "\n",
        "full_dataset = datasets.ImageFolder(DATA_DIR, transform=transform)\n",
        "\n",
        "# Data split: training & validation\n",
        "n_total = len(full_dataset)\n",
        "n_val   = int(n_total * VAL_SPLIT)\n",
        "n_train = n_total - n_val\n",
        "g = torch.Generator().manual_seed(SEED)\n",
        "train_ds, val_ds = random_split(full_dataset, [n_train, n_val], generator=g)\n",
        "\n",
        "train_loader = DataLoader(train_ds, batch_size=BATCH_SIZE, shuffle=True,  num_workers=16, pin_memory=True)\n",
        "val_loader   = DataLoader(val_ds,   batch_size=BATCH_SIZE, shuffle=False, num_workers=16, pin_memory=True)\n",
        "\n",
        "# SE Block Definition\n",
        "class SEBlock(nn.Module):\n",
        "    def __init__(self, channels, reduction=16):\n",
        "        super().__init__()\n",
        "        self.avgpool = nn.AdaptiveAvgPool2d(1)\n",
        "        self.fc = nn.Sequential(\n",
        "            nn.Linear(channels, channels // reduction, bias=False),\n",
        "            nn.Mish(inplace=True),\n",
        "            nn.Linear(channels // reduction, channels, bias=False),\n",
        "            nn.Sigmoid()\n",
        "        )\n",
        "\n",
        "    def forward(self, x):\n",
        "        b, c, _, _ = x.size()\n",
        "        y = self.avgpool(x).view(b, c)\n",
        "        y = self.fc(y).view(b, c, 1, 1)\n",
        "        return x * y\n",
        "\n",
        "# Model structure\n",
        "class GarmentCNN(nn.Module):\n",
        "    def __init__(self, num_classes=3):\n",
        "        super().__init__()\n",
        "        self.features = nn.Sequential(\n",
        "            nn.Conv2d(3, 32, 5, padding=2, dilation=2), nn.BatchNorm2d(32), nn.Mish(inplace=True),\n",
        "            SEBlock(32), nn.MaxPool2d(2),\n",
        "            nn.Conv2d(32, 64, 5, padding=2, dilation=2), nn.BatchNorm2d(64), nn.Mish(inplace=True),\n",
        "            SEBlock(64), nn.MaxPool2d(2),\n",
        "            nn.Conv2d(64,128, 5, padding=2, dilation=2), nn.BatchNorm2d(128), nn.Mish(inplace=True),\n",
        "            SEBlock(128), nn.MaxPool2d(2),\n",
        "            nn.Conv2d(128,256, 5, padding=2, dilation=2), nn.BatchNorm2d(256), nn.Mish(inplace=True),\n",
        "            SEBlock(256), nn.MaxPool2d(2),\n",
        "            nn.Conv2d(256,512, 5, padding=2, dilation=2), nn.BatchNorm2d(512), nn.Mish(inplace=True),\n",
        "            SEBlock(512),\n",
        "            nn.AdaptiveAvgPool2d(1)\n",
        "        )\n",
        "        self.classifier = nn.Sequential(\n",
        "            nn.Flatten(),\n",
        "            nn.Dropout(0),\n",
        "            nn.Linear(512, num_classes)\n",
        "        )\n",
        "\n",
        "    def forward(self, x):\n",
        "        x = self.features(x)\n",
        "        x = self.classifier(x)\n",
        "        return x\n",
        "\n",
        "# Training\n",
        "def train_epoch(model, loader, criterion, optimizer, scheduler):\n",
        "    model.train()\n",
        "    running_loss, correct, total = 0.0, 0, 0\n",
        "    for imgs, targets in loader:\n",
        "        imgs, targets = imgs.to(DEVICE), targets.to(DEVICE)\n",
        "        optimizer.zero_grad()\n",
        "        outputs = model(imgs)\n",
        "        loss = criterion(outputs, targets)\n",
        "        loss.backward()\n",
        "        torch.nn.utils.clip_grad_norm_(model.parameters(), max_norm=1.0)\n",
        "        optimizer.step()\n",
        "        running_loss += loss.item() * imgs.size(0)\n",
        "        preds = outputs.argmax(dim=1)\n",
        "        correct += (preds == targets).sum().item()\n",
        "        total += imgs.size(0)\n",
        "    scheduler.step()\n",
        "    return running_loss / total, correct / total\n",
        "\n",
        "# Evaluate\n",
        "def eval_epoch(model, loader, criterion):\n",
        "    model.eval()\n",
        "    val_loss, correct, total = 0.0, 0, 0\n",
        "    with torch.no_grad():\n",
        "        for imgs, targets in loader:\n",
        "            imgs, targets = imgs.to(DEVICE), targets.to(DEVICE)\n",
        "            outputs = model(imgs)\n",
        "            loss = criterion(outputs, targets)\n",
        "            val_loss += loss.item() * imgs.size(0)\n",
        "            preds = outputs.argmax(dim=1)\n",
        "            correct += (preds == targets).sum().item()\n",
        "            total += imgs.size(0)\n",
        "    return val_loss / total, correct / total\n",
        "\n",
        "model = GarmentCNN(num_classes=NUM_CLASSES).to(DEVICE)\n",
        "criterion = nn.CrossEntropyLoss()\n",
        "optimizer = optim.Adam(model.parameters(), lr=LEARNING_RATE)\n",
        "scheduler = torch.optim.lr_scheduler.CosineAnnealingLR(optimizer, T_max=EPOCHS)\n",
        "\n",
        "best_val_acc = 0.0\n",
        "# Train and Evaluate\n",
        "for epoch in range(1, EPOCHS+1):\n",
        "    print(f\"\\nEpoch {epoch}/{EPOCHS}\")\n",
        "    train_loss, train_acc = train_epoch(model, train_loader, criterion, optimizer, scheduler)\n",
        "    val_loss, val_acc     = eval_epoch(model, val_loader, criterion)\n",
        "\n",
        "    print(f\"Train Loss: {train_loss:.4f} | Acc: {train_acc:.4f}\")\n",
        "    print(f\"Val   Loss: {val_loss:.4f} | Acc: {val_acc:.4f}\")\n",
        "\n",
        "    if val_acc > best_val_acc:\n",
        "        best_val_acc = val_acc\n",
        "        torch.save(model.state_dict(), MODEL_PATH) #Save best model\n",
        "\n",
        "print(f\"\\nTraining complete. Best validation accuracy: {best_val_acc:.4f}\")\n",
        "print(f\"Model saved to {MODEL_PATH}\")"
      ]
    },
    {
      "cell_type": "markdown",
      "metadata": {
        "id": "rGEzk2wASvts"
      },
      "source": [
        "6a)"
      ]
    },
    {
      "cell_type": "markdown",
      "metadata": {
        "id": "bqG_ICT9S56K"
      },
      "source": [
        "The model is a neural network encoder and decoder designed for resconstructing images. The encoder has four layers with increasing channel depth, with each layer followed by BatchNorom, Mish (activation function) and MaxPooling to extract spatial features from the images whilst also reducing its resolution. Dropout is used as another form of regularisation before the output is flattened and passed through a fully-connected layer, producing a low-dimensional latent vector.\n",
        "\n",
        "The decoder inverts the encoder structure using transposed convolutions to upsample and then attempt to reconstruct the original input image. Each layer uses Mish and BatchNorm, with a final sigmoid layer at the end to constrain pixel values to binary.\n",
        "\n",
        "A hybrid loss function made of weighted MSE and SSIM is used during training to encourage pixel specific accuracy and perceptual quality in the image reconstructions. During evaluation MSE is used as the main form of loss (which is seen in the plot on the next question as the representative validation loss) and SSIM is used as the measure to select the best model to save the weights of.\n",
        "\n"
      ]
    },
    {
      "cell_type": "markdown",
      "metadata": {
        "id": "qBU55A4PZIWf"
      },
      "source": [
        "6b)"
      ]
    },
    {
      "cell_type": "markdown",
      "metadata": {
        "id": "n2noWMDqSoqM"
      },
      "source": [
        "![training_validation_loss.png](data:image/png;base64,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)"
      ]
    },
    {
      "cell_type": "markdown",
      "metadata": {
        "id": "91A89DA0TDPW"
      },
      "source": [
        "The learning rate is set at 1e-3 which gives the steady decrease in loss as you can see in the above plot, able to converge quickly whilst remaining stable. The batch size of 8 also helps support the stable training and convergence and also helps the model to generalise better by introducing noise. The dropout value of 0.5 is also crucial for generalisation, the success of which can be seen by the small margin between training and validation losses. The smooth decay of training loss also highlights effective parameters from the CosineAnnealingLR Scheduler. 500 epochs gives the model enough time to converge (training loss curve flatenning ~400 epochs), but not an excess of time that could introduce overfitting."
      ]
    },
    {
      "cell_type": "code",
      "execution_count": null,
      "metadata": {
        "execution": {
          "iopub.execute_input": "2025-05-22T09:26:53.374136Z",
          "iopub.status.busy": "2025-05-22T09:26:53.373858Z",
          "iopub.status.idle": "2025-05-22T09:53:38.238152Z",
          "shell.execute_reply": "2025-05-22T09:53:38.237378Z"
        },
        "id": "xhyRI_aQonbM",
        "outputId": "bea7eb37-6f81-49ac-8f71-833833f1fc78"
      },
      "outputs": [
        {
          "name": "stdout",
          "output_type": "stream",
          "text": [
            "Epoch 001: Train Loss: 0.324068 | Val MSE: 0.019573 | Val SSIM: 0.6362\n"
          ]
        },
        {
          "name": "stdout",
          "output_type": "stream",
          "text": [
            "  * Saved best model (SSIM 0.6362)\n"
          ]
        },
        {
          "name": "stdout",
          "output_type": "stream",
          "text": [
            "Epoch 002: Train Loss: 0.247538 | Val MSE: 0.017769 | Val SSIM: 0.6548\n",
            "  * Saved best model (SSIM 0.6548)\n"
          ]
        },
        {
          "name": "stdout",
          "output_type": "stream",
          "text": [
            "Epoch 003: Train Loss: 0.235325 | Val MSE: 0.014520 | Val SSIM: 0.6699\n",
            "  * Saved best model (SSIM 0.6699)\n"
          ]
        },
        {
          "name": "stdout",
          "output_type": "stream",
          "text": [
            "Epoch 004: Train Loss: 0.220535 | Val MSE: 0.015222 | Val SSIM: 0.6636\n"
          ]
        },
        {
          "name": "stdout",
          "output_type": "stream",
          "text": [
            "Epoch 005: Train Loss: 0.205140 | Val MSE: 0.011562 | Val SSIM: 0.7084\n",
            "  * Saved best model (SSIM 0.7084)\n"
          ]
        },
        {
          "name": "stdout",
          "output_type": "stream",
          "text": [
            "Epoch 006: Train Loss: 0.191641 | Val MSE: 0.012625 | Val SSIM: 0.7324\n",
            "  * Saved best model (SSIM 0.7324)\n"
          ]
        },
        {
          "name": "stdout",
          "output_type": "stream",
          "text": [
            "Epoch 007: Train Loss: 0.178102 | Val MSE: 0.010805 | Val SSIM: 0.6599\n"
          ]
        },
        {
          "name": "stdout",
          "output_type": "stream",
          "text": [
            "Epoch 008: Train Loss: 0.166014 | Val MSE: 0.007592 | Val SSIM: 0.7647\n",
            "  * Saved best model (SSIM 0.7647)\n"
          ]
        },
        {
          "name": "stdout",
          "output_type": "stream",
          "text": [
            "Epoch 009: Train Loss: 0.154247 | Val MSE: 0.007445 | Val SSIM: 0.7554\n"
          ]
        },
        {
          "name": "stdout",
          "output_type": "stream",
          "text": [
            "Epoch 010: Train Loss: 0.148928 | Val MSE: 0.006950 | Val SSIM: 0.7859\n",
            "  * Saved best model (SSIM 0.7859)\n"
          ]
        },
        {
          "name": "stdout",
          "output_type": "stream",
          "text": [
            "Epoch 011: Train Loss: 0.139629 | Val MSE: 0.005723 | Val SSIM: 0.7918\n",
            "  * Saved best model (SSIM 0.7918)\n"
          ]
        },
        {
          "name": "stdout",
          "output_type": "stream",
          "text": [
            "Epoch 012: Train Loss: 0.134023 | Val MSE: 0.005563 | Val SSIM: 0.7921\n",
            "  * Saved best model (SSIM 0.7921)\n"
          ]
        },
        {
          "name": "stdout",
          "output_type": "stream",
          "text": [
            "Epoch 013: Train Loss: 0.128876 | Val MSE: 0.004610 | Val SSIM: 0.8109\n",
            "  * Saved best model (SSIM 0.8109)\n"
          ]
        },
        {
          "name": "stdout",
          "output_type": "stream",
          "text": [
            "Epoch 014: Train Loss: 0.123529 | Val MSE: 0.004891 | Val SSIM: 0.8140\n",
            "  * Saved best model (SSIM 0.8140)\n"
          ]
        },
        {
          "name": "stdout",
          "output_type": "stream",
          "text": [
            "Epoch 015: Train Loss: 0.118430 | Val MSE: 0.004357 | Val SSIM: 0.8123\n"
          ]
        },
        {
          "name": "stdout",
          "output_type": "stream",
          "text": [
            "Epoch 016: Train Loss: 0.115107 | Val MSE: 0.004834 | Val SSIM: 0.7840\n"
          ]
        },
        {
          "name": "stdout",
          "output_type": "stream",
          "text": [
            "Epoch 017: Train Loss: 0.110894 | Val MSE: 0.004224 | Val SSIM: 0.7708\n"
          ]
        },
        {
          "name": "stdout",
          "output_type": "stream",
          "text": [
            "Epoch 018: Train Loss: 0.107751 | Val MSE: 0.003562 | Val SSIM: 0.8318\n",
            "  * Saved best model (SSIM 0.8318)\n"
          ]
        },
        {
          "name": "stdout",
          "output_type": "stream",
          "text": [
            "Epoch 019: Train Loss: 0.103797 | Val MSE: 0.004214 | Val SSIM: 0.8399\n",
            "  * Saved best model (SSIM 0.8399)\n"
          ]
        },
        {
          "name": "stdout",
          "output_type": "stream",
          "text": [
            "Epoch 020: Train Loss: 0.102052 | Val MSE: 0.003666 | Val SSIM: 0.8250\n"
          ]
        },
        {
          "name": "stdout",
          "output_type": "stream",
          "text": [
            "Epoch 021: Train Loss: 0.097960 | Val MSE: 0.003594 | Val SSIM: 0.8456\n",
            "  * Saved best model (SSIM 0.8456)\n"
          ]
        },
        {
          "name": "stdout",
          "output_type": "stream",
          "text": [
            "Epoch 022: Train Loss: 0.096907 | Val MSE: 0.003663 | Val SSIM: 0.8487\n",
            "  * Saved best model (SSIM 0.8487)\n"
          ]
        },
        {
          "name": "stdout",
          "output_type": "stream",
          "text": [
            "Epoch 023: Train Loss: 0.092937 | Val MSE: 0.003837 | Val SSIM: 0.8476\n"
          ]
        },
        {
          "name": "stdout",
          "output_type": "stream",
          "text": [
            "Epoch 024: Train Loss: 0.091758 | Val MSE: 0.003296 | Val SSIM: 0.8539\n",
            "  * Saved best model (SSIM 0.8539)\n"
          ]
        },
        {
          "name": "stdout",
          "output_type": "stream",
          "text": [
            "Epoch 025: Train Loss: 0.090158 | Val MSE: 0.003127 | Val SSIM: 0.8507\n"
          ]
        },
        {
          "name": "stdout",
          "output_type": "stream",
          "text": [
            "Epoch 026: Train Loss: 0.088328 | Val MSE: 0.002908 | Val SSIM: 0.8620\n",
            "  * Saved best model (SSIM 0.8620)\n"
          ]
        },
        {
          "name": "stdout",
          "output_type": "stream",
          "text": [
            "Epoch 027: Train Loss: 0.085891 | Val MSE: 0.003276 | Val SSIM: 0.8612\n"
          ]
        },
        {
          "name": "stdout",
          "output_type": "stream",
          "text": [
            "Epoch 028: Train Loss: 0.083241 | Val MSE: 0.003445 | Val SSIM: 0.8607\n"
          ]
        },
        {
          "name": "stdout",
          "output_type": "stream",
          "text": [
            "Epoch 029: Train Loss: 0.083317 | Val MSE: 0.003056 | Val SSIM: 0.8635\n",
            "  * Saved best model (SSIM 0.8635)\n"
          ]
        },
        {
          "name": "stdout",
          "output_type": "stream",
          "text": [
            "Epoch 030: Train Loss: 0.081476 | Val MSE: 0.003693 | Val SSIM: 0.8500\n"
          ]
        },
        {
          "name": "stdout",
          "output_type": "stream",
          "text": [
            "Epoch 031: Train Loss: 0.078866 | Val MSE: 0.003295 | Val SSIM: 0.8671\n",
            "  * Saved best model (SSIM 0.8671)\n"
          ]
        },
        {
          "name": "stdout",
          "output_type": "stream",
          "text": [
            "Epoch 032: Train Loss: 0.077897 | Val MSE: 0.003119 | Val SSIM: 0.8701\n",
            "  * Saved best model (SSIM 0.8701)\n"
          ]
        },
        {
          "name": "stdout",
          "output_type": "stream",
          "text": [
            "Epoch 033: Train Loss: 0.078618 | Val MSE: 0.002762 | Val SSIM: 0.8722\n",
            "  * Saved best model (SSIM 0.8722)\n"
          ]
        },
        {
          "name": "stdout",
          "output_type": "stream",
          "text": [
            "Epoch 034: Train Loss: 0.075751 | Val MSE: 0.002751 | Val SSIM: 0.8703\n"
          ]
        },
        {
          "name": "stdout",
          "output_type": "stream",
          "text": [
            "Epoch 035: Train Loss: 0.076100 | Val MSE: 0.003033 | Val SSIM: 0.8654\n"
          ]
        },
        {
          "name": "stdout",
          "output_type": "stream",
          "text": [
            "Epoch 036: Train Loss: 0.073495 | Val MSE: 0.003042 | Val SSIM: 0.8744\n",
            "  * Saved best model (SSIM 0.8744)\n"
          ]
        },
        {
          "name": "stdout",
          "output_type": "stream",
          "text": [
            "Epoch 037: Train Loss: 0.071756 | Val MSE: 0.002663 | Val SSIM: 0.8740\n"
          ]
        },
        {
          "name": "stdout",
          "output_type": "stream",
          "text": [
            "Epoch 038: Train Loss: 0.069897 | Val MSE: 0.002655 | Val SSIM: 0.8786\n",
            "  * Saved best model (SSIM 0.8786)\n"
          ]
        },
        {
          "name": "stdout",
          "output_type": "stream",
          "text": [
            "Epoch 039: Train Loss: 0.071531 | Val MSE: 0.002670 | Val SSIM: 0.8732\n"
          ]
        },
        {
          "name": "stdout",
          "output_type": "stream",
          "text": [
            "Epoch 040: Train Loss: 0.070219 | Val MSE: 0.002646 | Val SSIM: 0.8801\n",
            "  * Saved best model (SSIM 0.8801)\n"
          ]
        },
        {
          "name": "stdout",
          "output_type": "stream",
          "text": [
            "Epoch 041: Train Loss: 0.068639 | Val MSE: 0.002547 | Val SSIM: 0.8769\n"
          ]
        },
        {
          "name": "stdout",
          "output_type": "stream",
          "text": [
            "Epoch 042: Train Loss: 0.068129 | Val MSE: 0.002869 | Val SSIM: 0.8774\n"
          ]
        },
        {
          "name": "stdout",
          "output_type": "stream",
          "text": [
            "Epoch 043: Train Loss: 0.067012 | Val MSE: 0.002544 | Val SSIM: 0.8806\n",
            "  * Saved best model (SSIM 0.8806)\n"
          ]
        },
        {
          "name": "stdout",
          "output_type": "stream",
          "text": [
            "Epoch 044: Train Loss: 0.065318 | Val MSE: 0.002837 | Val SSIM: 0.8791\n"
          ]
        },
        {
          "name": "stdout",
          "output_type": "stream",
          "text": [
            "Epoch 045: Train Loss: 0.064721 | Val MSE: 0.002507 | Val SSIM: 0.8821\n",
            "  * Saved best model (SSIM 0.8821)\n"
          ]
        },
        {
          "name": "stdout",
          "output_type": "stream",
          "text": [
            "Epoch 046: Train Loss: 0.064683 | Val MSE: 0.002708 | Val SSIM: 0.8793\n"
          ]
        },
        {
          "name": "stdout",
          "output_type": "stream",
          "text": [
            "Epoch 047: Train Loss: 0.064277 | Val MSE: 0.002496 | Val SSIM: 0.8831\n",
            "  * Saved best model (SSIM 0.8831)\n"
          ]
        },
        {
          "name": "stdout",
          "output_type": "stream",
          "text": [
            "Epoch 048: Train Loss: 0.062631 | Val MSE: 0.002580 | Val SSIM: 0.8818\n"
          ]
        },
        {
          "name": "stdout",
          "output_type": "stream",
          "text": [
            "Epoch 049: Train Loss: 0.062039 | Val MSE: 0.002593 | Val SSIM: 0.8817\n"
          ]
        },
        {
          "name": "stdout",
          "output_type": "stream",
          "text": [
            "Epoch 050: Train Loss: 0.062306 | Val MSE: 0.002556 | Val SSIM: 0.8818\n"
          ]
        },
        {
          "name": "stdout",
          "output_type": "stream",
          "text": [
            "Epoch 051: Train Loss: 0.061798 | Val MSE: 0.002526 | Val SSIM: 0.8847\n",
            "  * Saved best model (SSIM 0.8847)\n"
          ]
        },
        {
          "name": "stdout",
          "output_type": "stream",
          "text": [
            "Epoch 052: Train Loss: 0.059796 | Val MSE: 0.002397 | Val SSIM: 0.8857\n",
            "  * Saved best model (SSIM 0.8857)\n"
          ]
        },
        {
          "name": "stdout",
          "output_type": "stream",
          "text": [
            "Epoch 053: Train Loss: 0.059554 | Val MSE: 0.003291 | Val SSIM: 0.8803\n"
          ]
        },
        {
          "name": "stdout",
          "output_type": "stream",
          "text": [
            "Epoch 054: Train Loss: 0.059057 | Val MSE: 0.002812 | Val SSIM: 0.8869\n",
            "  * Saved best model (SSIM 0.8869)\n"
          ]
        },
        {
          "name": "stdout",
          "output_type": "stream",
          "text": [
            "Epoch 055: Train Loss: 0.059002 | Val MSE: 0.002378 | Val SSIM: 0.8880\n",
            "  * Saved best model (SSIM 0.8880)\n"
          ]
        },
        {
          "name": "stdout",
          "output_type": "stream",
          "text": [
            "Epoch 056: Train Loss: 0.058546 | Val MSE: 0.002326 | Val SSIM: 0.8853\n"
          ]
        },
        {
          "name": "stdout",
          "output_type": "stream",
          "text": [
            "Epoch 057: Train Loss: 0.057272 | Val MSE: 0.002503 | Val SSIM: 0.8848\n"
          ]
        },
        {
          "name": "stdout",
          "output_type": "stream",
          "text": [
            "Epoch 058: Train Loss: 0.057530 | Val MSE: 0.002375 | Val SSIM: 0.8886\n",
            "  * Saved best model (SSIM 0.8886)\n"
          ]
        },
        {
          "name": "stdout",
          "output_type": "stream",
          "text": [
            "Epoch 059: Train Loss: 0.057344 | Val MSE: 0.002400 | Val SSIM: 0.8899\n",
            "  * Saved best model (SSIM 0.8899)\n"
          ]
        },
        {
          "name": "stdout",
          "output_type": "stream",
          "text": [
            "Epoch 060: Train Loss: 0.056504 | Val MSE: 0.002506 | Val SSIM: 0.8862\n"
          ]
        },
        {
          "name": "stdout",
          "output_type": "stream",
          "text": [
            "Epoch 061: Train Loss: 0.056128 | Val MSE: 0.002353 | Val SSIM: 0.8888\n"
          ]
        },
        {
          "name": "stdout",
          "output_type": "stream",
          "text": [
            "Epoch 062: Train Loss: 0.056325 | Val MSE: 0.002784 | Val SSIM: 0.8872\n"
          ]
        },
        {
          "name": "stdout",
          "output_type": "stream",
          "text": [
            "Epoch 063: Train Loss: 0.055772 | Val MSE: 0.002281 | Val SSIM: 0.8887\n"
          ]
        },
        {
          "name": "stdout",
          "output_type": "stream",
          "text": [
            "Epoch 064: Train Loss: 0.055043 | Val MSE: 0.002347 | Val SSIM: 0.8890\n"
          ]
        },
        {
          "name": "stdout",
          "output_type": "stream",
          "text": [
            "Epoch 065: Train Loss: 0.055040 | Val MSE: 0.002335 | Val SSIM: 0.8889\n"
          ]
        },
        {
          "name": "stdout",
          "output_type": "stream",
          "text": [
            "Epoch 066: Train Loss: 0.054413 | Val MSE: 0.002561 | Val SSIM: 0.8918\n",
            "  * Saved best model (SSIM 0.8918)\n"
          ]
        },
        {
          "name": "stdout",
          "output_type": "stream",
          "text": [
            "Epoch 067: Train Loss: 0.053673 | Val MSE: 0.002315 | Val SSIM: 0.8936\n",
            "  * Saved best model (SSIM 0.8936)\n"
          ]
        },
        {
          "name": "stdout",
          "output_type": "stream",
          "text": [
            "Epoch 068: Train Loss: 0.053389 | Val MSE: 0.002455 | Val SSIM: 0.8893\n"
          ]
        },
        {
          "name": "stdout",
          "output_type": "stream",
          "text": [
            "Epoch 069: Train Loss: 0.053263 | Val MSE: 0.002340 | Val SSIM: 0.8926\n"
          ]
        },
        {
          "name": "stdout",
          "output_type": "stream",
          "text": [
            "Epoch 070: Train Loss: 0.052673 | Val MSE: 0.002359 | Val SSIM: 0.8911\n"
          ]
        },
        {
          "name": "stdout",
          "output_type": "stream",
          "text": [
            "Epoch 071: Train Loss: 0.053500 | Val MSE: 0.002376 | Val SSIM: 0.8905\n"
          ]
        },
        {
          "name": "stdout",
          "output_type": "stream",
          "text": [
            "Epoch 072: Train Loss: 0.052182 | Val MSE: 0.002205 | Val SSIM: 0.8937\n",
            "  * Saved best model (SSIM 0.8937)\n"
          ]
        },
        {
          "name": "stdout",
          "output_type": "stream",
          "text": [
            "Epoch 073: Train Loss: 0.051525 | Val MSE: 0.002350 | Val SSIM: 0.8908\n"
          ]
        },
        {
          "name": "stdout",
          "output_type": "stream",
          "text": [
            "Epoch 074: Train Loss: 0.052073 | Val MSE: 0.002361 | Val SSIM: 0.8903\n"
          ]
        },
        {
          "name": "stdout",
          "output_type": "stream",
          "text": [
            "Epoch 075: Train Loss: 0.050841 | Val MSE: 0.002174 | Val SSIM: 0.8922\n"
          ]
        },
        {
          "name": "stdout",
          "output_type": "stream",
          "text": [
            "Epoch 076: Train Loss: 0.051016 | Val MSE: 0.002574 | Val SSIM: 0.8942\n",
            "  * Saved best model (SSIM 0.8942)\n"
          ]
        },
        {
          "name": "stdout",
          "output_type": "stream",
          "text": [
            "Epoch 077: Train Loss: 0.050893 | Val MSE: 0.002371 | Val SSIM: 0.8916\n"
          ]
        },
        {
          "name": "stdout",
          "output_type": "stream",
          "text": [
            "Epoch 078: Train Loss: 0.050419 | Val MSE: 0.002548 | Val SSIM: 0.8934\n"
          ]
        },
        {
          "name": "stdout",
          "output_type": "stream",
          "text": [
            "Epoch 079: Train Loss: 0.050143 | Val MSE: 0.002210 | Val SSIM: 0.8943\n",
            "  * Saved best model (SSIM 0.8943)\n"
          ]
        },
        {
          "name": "stdout",
          "output_type": "stream",
          "text": [
            "Epoch 080: Train Loss: 0.049152 | Val MSE: 0.002287 | Val SSIM: 0.8940\n"
          ]
        },
        {
          "name": "stdout",
          "output_type": "stream",
          "text": [
            "Epoch 081: Train Loss: 0.050905 | Val MSE: 0.002310 | Val SSIM: 0.8924\n"
          ]
        },
        {
          "name": "stdout",
          "output_type": "stream",
          "text": [
            "Epoch 082: Train Loss: 0.049620 | Val MSE: 0.002373 | Val SSIM: 0.8942\n"
          ]
        },
        {
          "name": "stdout",
          "output_type": "stream",
          "text": [
            "Epoch 083: Train Loss: 0.049083 | Val MSE: 0.002434 | Val SSIM: 0.8937\n"
          ]
        },
        {
          "name": "stdout",
          "output_type": "stream",
          "text": [
            "Epoch 084: Train Loss: 0.048729 | Val MSE: 0.002145 | Val SSIM: 0.8949\n",
            "  * Saved best model (SSIM 0.8949)\n"
          ]
        },
        {
          "name": "stdout",
          "output_type": "stream",
          "text": [
            "Epoch 085: Train Loss: 0.048448 | Val MSE: 0.002104 | Val SSIM: 0.8943\n"
          ]
        },
        {
          "name": "stdout",
          "output_type": "stream",
          "text": [
            "Epoch 086: Train Loss: 0.048789 | Val MSE: 0.002178 | Val SSIM: 0.8931\n"
          ]
        },
        {
          "name": "stdout",
          "output_type": "stream",
          "text": [
            "Epoch 087: Train Loss: 0.048351 | Val MSE: 0.002129 | Val SSIM: 0.8966\n",
            "  * Saved best model (SSIM 0.8966)\n"
          ]
        },
        {
          "name": "stdout",
          "output_type": "stream",
          "text": [
            "Epoch 088: Train Loss: 0.047572 | Val MSE: 0.002235 | Val SSIM: 0.8979\n",
            "  * Saved best model (SSIM 0.8979)\n"
          ]
        },
        {
          "name": "stdout",
          "output_type": "stream",
          "text": [
            "Epoch 089: Train Loss: 0.047379 | Val MSE: 0.002137 | Val SSIM: 0.8957\n"
          ]
        },
        {
          "name": "stdout",
          "output_type": "stream",
          "text": [
            "Epoch 090: Train Loss: 0.047660 | Val MSE: 0.002188 | Val SSIM: 0.8937\n"
          ]
        },
        {
          "name": "stdout",
          "output_type": "stream",
          "text": [
            "Epoch 091: Train Loss: 0.047616 | Val MSE: 0.002143 | Val SSIM: 0.8956\n"
          ]
        },
        {
          "name": "stdout",
          "output_type": "stream",
          "text": [
            "Epoch 092: Train Loss: 0.046676 | Val MSE: 0.002091 | Val SSIM: 0.8968\n"
          ]
        },
        {
          "name": "stdout",
          "output_type": "stream",
          "text": [
            "Epoch 093: Train Loss: 0.047048 | Val MSE: 0.002169 | Val SSIM: 0.8960\n"
          ]
        },
        {
          "name": "stdout",
          "output_type": "stream",
          "text": [
            "Epoch 094: Train Loss: 0.046984 | Val MSE: 0.002102 | Val SSIM: 0.8977\n"
          ]
        },
        {
          "name": "stdout",
          "output_type": "stream",
          "text": [
            "Epoch 095: Train Loss: 0.046905 | Val MSE: 0.002104 | Val SSIM: 0.8943\n"
          ]
        },
        {
          "name": "stdout",
          "output_type": "stream",
          "text": [
            "Epoch 096: Train Loss: 0.045912 | Val MSE: 0.002226 | Val SSIM: 0.8959\n"
          ]
        },
        {
          "name": "stdout",
          "output_type": "stream",
          "text": [
            "Epoch 097: Train Loss: 0.046119 | Val MSE: 0.002181 | Val SSIM: 0.8950\n"
          ]
        },
        {
          "name": "stdout",
          "output_type": "stream",
          "text": [
            "Epoch 098: Train Loss: 0.045821 | Val MSE: 0.002133 | Val SSIM: 0.8958\n"
          ]
        },
        {
          "name": "stdout",
          "output_type": "stream",
          "text": [
            "Epoch 099: Train Loss: 0.046280 | Val MSE: 0.002257 | Val SSIM: 0.8964\n"
          ]
        },
        {
          "name": "stdout",
          "output_type": "stream",
          "text": [
            "Epoch 100: Train Loss: 0.045123 | Val MSE: 0.002097 | Val SSIM: 0.8978\n"
          ]
        },
        {
          "name": "stdout",
          "output_type": "stream",
          "text": [
            "Epoch 101: Train Loss: 0.046028 | Val MSE: 0.002108 | Val SSIM: 0.8978\n"
          ]
        },
        {
          "name": "stdout",
          "output_type": "stream",
          "text": [
            "Epoch 102: Train Loss: 0.046678 | Val MSE: 0.002173 | Val SSIM: 0.8962\n"
          ]
        },
        {
          "name": "stdout",
          "output_type": "stream",
          "text": [
            "Epoch 103: Train Loss: 0.044628 | Val MSE: 0.002009 | Val SSIM: 0.8984\n",
            "  * Saved best model (SSIM 0.8984)\n"
          ]
        },
        {
          "name": "stdout",
          "output_type": "stream",
          "text": [
            "Epoch 104: Train Loss: 0.044869 | Val MSE: 0.002225 | Val SSIM: 0.8972\n"
          ]
        },
        {
          "name": "stdout",
          "output_type": "stream",
          "text": [
            "Epoch 105: Train Loss: 0.044532 | Val MSE: 0.002095 | Val SSIM: 0.8984\n"
          ]
        },
        {
          "name": "stdout",
          "output_type": "stream",
          "text": [
            "Epoch 106: Train Loss: 0.044565 | Val MSE: 0.002263 | Val SSIM: 0.8956\n"
          ]
        },
        {
          "name": "stdout",
          "output_type": "stream",
          "text": [
            "Epoch 107: Train Loss: 0.044274 | Val MSE: 0.002156 | Val SSIM: 0.8977\n"
          ]
        },
        {
          "name": "stdout",
          "output_type": "stream",
          "text": [
            "Epoch 108: Train Loss: 0.044311 | Val MSE: 0.002152 | Val SSIM: 0.8980\n"
          ]
        },
        {
          "name": "stdout",
          "output_type": "stream",
          "text": [
            "Epoch 109: Train Loss: 0.045179 | Val MSE: 0.002218 | Val SSIM: 0.8954\n"
          ]
        },
        {
          "name": "stdout",
          "output_type": "stream",
          "text": [
            "Epoch 110: Train Loss: 0.043857 | Val MSE: 0.002081 | Val SSIM: 0.8956\n"
          ]
        },
        {
          "name": "stdout",
          "output_type": "stream",
          "text": [
            "Epoch 111: Train Loss: 0.043647 | Val MSE: 0.002053 | Val SSIM: 0.8977\n"
          ]
        },
        {
          "name": "stdout",
          "output_type": "stream",
          "text": [
            "Epoch 112: Train Loss: 0.043069 | Val MSE: 0.001946 | Val SSIM: 0.8997\n",
            "  * Saved best model (SSIM 0.8997)\n"
          ]
        },
        {
          "name": "stdout",
          "output_type": "stream",
          "text": [
            "Epoch 113: Train Loss: 0.043468 | Val MSE: 0.002140 | Val SSIM: 0.8983\n"
          ]
        },
        {
          "name": "stdout",
          "output_type": "stream",
          "text": [
            "Epoch 114: Train Loss: 0.043954 | Val MSE: 0.002224 | Val SSIM: 0.8980\n"
          ]
        },
        {
          "name": "stdout",
          "output_type": "stream",
          "text": [
            "Epoch 115: Train Loss: 0.042972 | Val MSE: 0.002188 | Val SSIM: 0.8985\n"
          ]
        },
        {
          "name": "stdout",
          "output_type": "stream",
          "text": [
            "Epoch 116: Train Loss: 0.042977 | Val MSE: 0.002103 | Val SSIM: 0.9008\n",
            "  * Saved best model (SSIM 0.9008)\n"
          ]
        },
        {
          "name": "stdout",
          "output_type": "stream",
          "text": [
            "Epoch 117: Train Loss: 0.042580 | Val MSE: 0.002077 | Val SSIM: 0.8991\n"
          ]
        },
        {
          "name": "stdout",
          "output_type": "stream",
          "text": [
            "Epoch 118: Train Loss: 0.042656 | Val MSE: 0.001958 | Val SSIM: 0.9002\n"
          ]
        },
        {
          "name": "stdout",
          "output_type": "stream",
          "text": [
            "Epoch 119: Train Loss: 0.042909 | Val MSE: 0.002221 | Val SSIM: 0.8991\n"
          ]
        },
        {
          "name": "stdout",
          "output_type": "stream",
          "text": [
            "Epoch 120: Train Loss: 0.042323 | Val MSE: 0.002096 | Val SSIM: 0.8992\n"
          ]
        },
        {
          "name": "stdout",
          "output_type": "stream",
          "text": [
            "Epoch 121: Train Loss: 0.042654 | Val MSE: 0.002070 | Val SSIM: 0.8998\n"
          ]
        },
        {
          "name": "stdout",
          "output_type": "stream",
          "text": [
            "Epoch 122: Train Loss: 0.042393 | Val MSE: 0.002017 | Val SSIM: 0.9003\n"
          ]
        },
        {
          "name": "stdout",
          "output_type": "stream",
          "text": [
            "Epoch 123: Train Loss: 0.042452 | Val MSE: 0.002153 | Val SSIM: 0.8988\n"
          ]
        },
        {
          "name": "stdout",
          "output_type": "stream",
          "text": [
            "Epoch 124: Train Loss: 0.041740 | Val MSE: 0.002208 | Val SSIM: 0.8993\n"
          ]
        },
        {
          "name": "stdout",
          "output_type": "stream",
          "text": [
            "Epoch 125: Train Loss: 0.043025 | Val MSE: 0.002159 | Val SSIM: 0.8993\n"
          ]
        },
        {
          "name": "stdout",
          "output_type": "stream",
          "text": [
            "Epoch 126: Train Loss: 0.041896 | Val MSE: 0.002128 | Val SSIM: 0.8980\n"
          ]
        },
        {
          "name": "stdout",
          "output_type": "stream",
          "text": [
            "Epoch 127: Train Loss: 0.041511 | Val MSE: 0.002036 | Val SSIM: 0.8991\n"
          ]
        },
        {
          "name": "stdout",
          "output_type": "stream",
          "text": [
            "Epoch 128: Train Loss: 0.041157 | Val MSE: 0.002198 | Val SSIM: 0.8995\n"
          ]
        },
        {
          "name": "stdout",
          "output_type": "stream",
          "text": [
            "Epoch 129: Train Loss: 0.040988 | Val MSE: 0.002193 | Val SSIM: 0.8986\n"
          ]
        },
        {
          "name": "stdout",
          "output_type": "stream",
          "text": [
            "Epoch 130: Train Loss: 0.041224 | Val MSE: 0.002160 | Val SSIM: 0.9003\n"
          ]
        },
        {
          "name": "stdout",
          "output_type": "stream",
          "text": [
            "Epoch 131: Train Loss: 0.040980 | Val MSE: 0.002353 | Val SSIM: 0.8995\n"
          ]
        },
        {
          "name": "stdout",
          "output_type": "stream",
          "text": [
            "Epoch 132: Train Loss: 0.041144 | Val MSE: 0.002092 | Val SSIM: 0.8981\n"
          ]
        },
        {
          "name": "stdout",
          "output_type": "stream",
          "text": [
            "Epoch 133: Train Loss: 0.041343 | Val MSE: 0.002463 | Val SSIM: 0.9001\n"
          ]
        },
        {
          "name": "stdout",
          "output_type": "stream",
          "text": [
            "Epoch 134: Train Loss: 0.040959 | Val MSE: 0.001986 | Val SSIM: 0.8985\n"
          ]
        },
        {
          "name": "stdout",
          "output_type": "stream",
          "text": [
            "Epoch 135: Train Loss: 0.041322 | Val MSE: 0.002204 | Val SSIM: 0.8984\n"
          ]
        },
        {
          "name": "stdout",
          "output_type": "stream",
          "text": [
            "Epoch 136: Train Loss: 0.040520 | Val MSE: 0.002084 | Val SSIM: 0.8974\n"
          ]
        },
        {
          "name": "stdout",
          "output_type": "stream",
          "text": [
            "Epoch 137: Train Loss: 0.040600 | Val MSE: 0.002133 | Val SSIM: 0.8985\n"
          ]
        },
        {
          "name": "stdout",
          "output_type": "stream",
          "text": [
            "Epoch 138: Train Loss: 0.040017 | Val MSE: 0.002003 | Val SSIM: 0.9001\n"
          ]
        },
        {
          "name": "stdout",
          "output_type": "stream",
          "text": [
            "Epoch 139: Train Loss: 0.039857 | Val MSE: 0.002080 | Val SSIM: 0.9007\n"
          ]
        },
        {
          "name": "stdout",
          "output_type": "stream",
          "text": [
            "Epoch 140: Train Loss: 0.040391 | Val MSE: 0.002175 | Val SSIM: 0.8992\n"
          ]
        },
        {
          "name": "stdout",
          "output_type": "stream",
          "text": [
            "Epoch 141: Train Loss: 0.040218 | Val MSE: 0.002036 | Val SSIM: 0.8998\n"
          ]
        },
        {
          "name": "stdout",
          "output_type": "stream",
          "text": [
            "Epoch 142: Train Loss: 0.039555 | Val MSE: 0.002034 | Val SSIM: 0.9012\n",
            "  * Saved best model (SSIM 0.9012)\n"
          ]
        },
        {
          "name": "stdout",
          "output_type": "stream",
          "text": [
            "Epoch 143: Train Loss: 0.039697 | Val MSE: 0.002124 | Val SSIM: 0.8969\n"
          ]
        },
        {
          "name": "stdout",
          "output_type": "stream",
          "text": [
            "Epoch 144: Train Loss: 0.039327 | Val MSE: 0.001947 | Val SSIM: 0.9013\n",
            "  * Saved best model (SSIM 0.9013)\n"
          ]
        },
        {
          "name": "stdout",
          "output_type": "stream",
          "text": [
            "Epoch 145: Train Loss: 0.039355 | Val MSE: 0.002033 | Val SSIM: 0.9014\n",
            "  * Saved best model (SSIM 0.9014)\n"
          ]
        },
        {
          "name": "stdout",
          "output_type": "stream",
          "text": [
            "Epoch 146: Train Loss: 0.039928 | Val MSE: 0.002015 | Val SSIM: 0.9015\n",
            "  * Saved best model (SSIM 0.9015)\n"
          ]
        },
        {
          "name": "stdout",
          "output_type": "stream",
          "text": [
            "Epoch 147: Train Loss: 0.039266 | Val MSE: 0.002086 | Val SSIM: 0.8997\n"
          ]
        },
        {
          "name": "stdout",
          "output_type": "stream",
          "text": [
            "Epoch 148: Train Loss: 0.039371 | Val MSE: 0.002509 | Val SSIM: 0.8993\n"
          ]
        },
        {
          "name": "stdout",
          "output_type": "stream",
          "text": [
            "Epoch 149: Train Loss: 0.039610 | Val MSE: 0.002200 | Val SSIM: 0.9003\n"
          ]
        },
        {
          "name": "stdout",
          "output_type": "stream",
          "text": [
            "Epoch 150: Train Loss: 0.039004 | Val MSE: 0.002239 | Val SSIM: 0.8981\n"
          ]
        },
        {
          "name": "stdout",
          "output_type": "stream",
          "text": [
            "Epoch 151: Train Loss: 0.038773 | Val MSE: 0.002093 | Val SSIM: 0.9019\n",
            "  * Saved best model (SSIM 0.9019)\n"
          ]
        },
        {
          "name": "stdout",
          "output_type": "stream",
          "text": [
            "Epoch 152: Train Loss: 0.039311 | Val MSE: 0.002122 | Val SSIM: 0.8996\n"
          ]
        },
        {
          "name": "stdout",
          "output_type": "stream",
          "text": [
            "Epoch 153: Train Loss: 0.038773 | Val MSE: 0.002119 | Val SSIM: 0.9014\n"
          ]
        },
        {
          "name": "stdout",
          "output_type": "stream",
          "text": [
            "Epoch 154: Train Loss: 0.039032 | Val MSE: 0.002169 | Val SSIM: 0.8980\n"
          ]
        },
        {
          "name": "stdout",
          "output_type": "stream",
          "text": [
            "Epoch 155: Train Loss: 0.038857 | Val MSE: 0.002284 | Val SSIM: 0.9005\n"
          ]
        },
        {
          "name": "stdout",
          "output_type": "stream",
          "text": [
            "Epoch 156: Train Loss: 0.039218 | Val MSE: 0.002111 | Val SSIM: 0.9022\n",
            "  * Saved best model (SSIM 0.9022)\n"
          ]
        },
        {
          "name": "stdout",
          "output_type": "stream",
          "text": [
            "Epoch 157: Train Loss: 0.038294 | Val MSE: 0.002219 | Val SSIM: 0.9010\n"
          ]
        },
        {
          "name": "stdout",
          "output_type": "stream",
          "text": [
            "Epoch 158: Train Loss: 0.038615 | Val MSE: 0.002166 | Val SSIM: 0.9016\n"
          ]
        },
        {
          "name": "stdout",
          "output_type": "stream",
          "text": [
            "Epoch 159: Train Loss: 0.038013 | Val MSE: 0.002030 | Val SSIM: 0.9017\n"
          ]
        },
        {
          "name": "stdout",
          "output_type": "stream",
          "text": [
            "Epoch 160: Train Loss: 0.038197 | Val MSE: 0.002132 | Val SSIM: 0.9007\n"
          ]
        },
        {
          "name": "stdout",
          "output_type": "stream",
          "text": [
            "Epoch 161: Train Loss: 0.038071 | Val MSE: 0.002102 | Val SSIM: 0.9020\n"
          ]
        },
        {
          "name": "stdout",
          "output_type": "stream",
          "text": [
            "Epoch 162: Train Loss: 0.038180 | Val MSE: 0.002215 | Val SSIM: 0.9013\n"
          ]
        },
        {
          "name": "stdout",
          "output_type": "stream",
          "text": [
            "Epoch 163: Train Loss: 0.038192 | Val MSE: 0.002033 | Val SSIM: 0.9017\n"
          ]
        },
        {
          "name": "stdout",
          "output_type": "stream",
          "text": [
            "Epoch 164: Train Loss: 0.037944 | Val MSE: 0.001993 | Val SSIM: 0.9026\n",
            "  * Saved best model (SSIM 0.9026)\n"
          ]
        },
        {
          "name": "stdout",
          "output_type": "stream",
          "text": [
            "Epoch 165: Train Loss: 0.037841 | Val MSE: 0.002254 | Val SSIM: 0.9019\n"
          ]
        },
        {
          "name": "stdout",
          "output_type": "stream",
          "text": [
            "Epoch 166: Train Loss: 0.037648 | Val MSE: 0.002073 | Val SSIM: 0.9021\n"
          ]
        },
        {
          "name": "stdout",
          "output_type": "stream",
          "text": [
            "Epoch 167: Train Loss: 0.037614 | Val MSE: 0.002011 | Val SSIM: 0.9013\n"
          ]
        },
        {
          "name": "stdout",
          "output_type": "stream",
          "text": [
            "Epoch 168: Train Loss: 0.037615 | Val MSE: 0.002060 | Val SSIM: 0.9027\n",
            "  * Saved best model (SSIM 0.9027)\n"
          ]
        },
        {
          "name": "stdout",
          "output_type": "stream",
          "text": [
            "Epoch 169: Train Loss: 0.037454 | Val MSE: 0.002096 | Val SSIM: 0.9012\n"
          ]
        },
        {
          "name": "stdout",
          "output_type": "stream",
          "text": [
            "Epoch 170: Train Loss: 0.037873 | Val MSE: 0.002170 | Val SSIM: 0.8955\n"
          ]
        },
        {
          "name": "stdout",
          "output_type": "stream",
          "text": [
            "Epoch 171: Train Loss: 0.037241 | Val MSE: 0.002043 | Val SSIM: 0.9010\n"
          ]
        },
        {
          "name": "stdout",
          "output_type": "stream",
          "text": [
            "Epoch 172: Train Loss: 0.037236 | Val MSE: 0.002083 | Val SSIM: 0.9011\n"
          ]
        },
        {
          "name": "stdout",
          "output_type": "stream",
          "text": [
            "Epoch 173: Train Loss: 0.036987 | Val MSE: 0.001992 | Val SSIM: 0.9017\n"
          ]
        },
        {
          "name": "stdout",
          "output_type": "stream",
          "text": [
            "Epoch 174: Train Loss: 0.037356 | Val MSE: 0.001997 | Val SSIM: 0.9020\n"
          ]
        },
        {
          "name": "stdout",
          "output_type": "stream",
          "text": [
            "Epoch 175: Train Loss: 0.036915 | Val MSE: 0.002054 | Val SSIM: 0.9029\n",
            "  * Saved best model (SSIM 0.9029)\n"
          ]
        },
        {
          "name": "stdout",
          "output_type": "stream",
          "text": [
            "Epoch 176: Train Loss: 0.036857 | Val MSE: 0.002081 | Val SSIM: 0.9023\n"
          ]
        },
        {
          "name": "stdout",
          "output_type": "stream",
          "text": [
            "Epoch 177: Train Loss: 0.036900 | Val MSE: 0.002006 | Val SSIM: 0.9028\n"
          ]
        },
        {
          "name": "stdout",
          "output_type": "stream",
          "text": [
            "Epoch 178: Train Loss: 0.036994 | Val MSE: 0.002097 | Val SSIM: 0.9021\n"
          ]
        },
        {
          "name": "stdout",
          "output_type": "stream",
          "text": [
            "Epoch 179: Train Loss: 0.037070 | Val MSE: 0.001986 | Val SSIM: 0.9022\n"
          ]
        },
        {
          "name": "stdout",
          "output_type": "stream",
          "text": [
            "Epoch 180: Train Loss: 0.037333 | Val MSE: 0.002142 | Val SSIM: 0.9026\n"
          ]
        },
        {
          "name": "stdout",
          "output_type": "stream",
          "text": [
            "Epoch 181: Train Loss: 0.036484 | Val MSE: 0.002028 | Val SSIM: 0.9025\n"
          ]
        },
        {
          "name": "stdout",
          "output_type": "stream",
          "text": [
            "Epoch 182: Train Loss: 0.036145 | Val MSE: 0.002064 | Val SSIM: 0.9027\n"
          ]
        },
        {
          "name": "stdout",
          "output_type": "stream",
          "text": [
            "Epoch 183: Train Loss: 0.036863 | Val MSE: 0.002027 | Val SSIM: 0.9020\n"
          ]
        },
        {
          "name": "stdout",
          "output_type": "stream",
          "text": [
            "Epoch 184: Train Loss: 0.036526 | Val MSE: 0.001982 | Val SSIM: 0.9031\n",
            "  * Saved best model (SSIM 0.9031)\n"
          ]
        },
        {
          "name": "stdout",
          "output_type": "stream",
          "text": [
            "Epoch 185: Train Loss: 0.036335 | Val MSE: 0.002024 | Val SSIM: 0.9026\n"
          ]
        },
        {
          "name": "stdout",
          "output_type": "stream",
          "text": [
            "Epoch 186: Train Loss: 0.036345 | Val MSE: 0.002145 | Val SSIM: 0.9022\n"
          ]
        },
        {
          "name": "stdout",
          "output_type": "stream",
          "text": [
            "Epoch 187: Train Loss: 0.036260 | Val MSE: 0.002143 | Val SSIM: 0.9006\n"
          ]
        },
        {
          "name": "stdout",
          "output_type": "stream",
          "text": [
            "Epoch 188: Train Loss: 0.036391 | Val MSE: 0.002168 | Val SSIM: 0.9026\n"
          ]
        },
        {
          "name": "stdout",
          "output_type": "stream",
          "text": [
            "Epoch 189: Train Loss: 0.036045 | Val MSE: 0.002237 | Val SSIM: 0.9022\n"
          ]
        },
        {
          "name": "stdout",
          "output_type": "stream",
          "text": [
            "Epoch 190: Train Loss: 0.036184 | Val MSE: 0.002005 | Val SSIM: 0.9029\n"
          ]
        },
        {
          "name": "stdout",
          "output_type": "stream",
          "text": [
            "Epoch 191: Train Loss: 0.035628 | Val MSE: 0.002101 | Val SSIM: 0.9015\n"
          ]
        },
        {
          "name": "stdout",
          "output_type": "stream",
          "text": [
            "Epoch 192: Train Loss: 0.035852 | Val MSE: 0.002051 | Val SSIM: 0.9009\n"
          ]
        },
        {
          "name": "stdout",
          "output_type": "stream",
          "text": [
            "Epoch 193: Train Loss: 0.035842 | Val MSE: 0.001979 | Val SSIM: 0.9040\n",
            "  * Saved best model (SSIM 0.9040)\n"
          ]
        },
        {
          "name": "stdout",
          "output_type": "stream",
          "text": [
            "Epoch 194: Train Loss: 0.035557 | Val MSE: 0.002051 | Val SSIM: 0.9021\n"
          ]
        },
        {
          "name": "stdout",
          "output_type": "stream",
          "text": [
            "Epoch 195: Train Loss: 0.035596 | Val MSE: 0.002000 | Val SSIM: 0.9041\n",
            "  * Saved best model (SSIM 0.9041)\n"
          ]
        },
        {
          "name": "stdout",
          "output_type": "stream",
          "text": [
            "Epoch 196: Train Loss: 0.035845 | Val MSE: 0.002018 | Val SSIM: 0.9025\n"
          ]
        },
        {
          "name": "stdout",
          "output_type": "stream",
          "text": [
            "Epoch 197: Train Loss: 0.035829 | Val MSE: 0.002036 | Val SSIM: 0.9031\n"
          ]
        },
        {
          "name": "stdout",
          "output_type": "stream",
          "text": [
            "Epoch 198: Train Loss: 0.035895 | Val MSE: 0.002069 | Val SSIM: 0.9032\n"
          ]
        },
        {
          "name": "stdout",
          "output_type": "stream",
          "text": [
            "Epoch 199: Train Loss: 0.035344 | Val MSE: 0.002047 | Val SSIM: 0.9029\n"
          ]
        },
        {
          "name": "stdout",
          "output_type": "stream",
          "text": [
            "Epoch 200: Train Loss: 0.035512 | Val MSE: 0.002274 | Val SSIM: 0.9017\n"
          ]
        },
        {
          "name": "stdout",
          "output_type": "stream",
          "text": [
            "Epoch 201: Train Loss: 0.035449 | Val MSE: 0.001976 | Val SSIM: 0.9033\n"
          ]
        },
        {
          "name": "stdout",
          "output_type": "stream",
          "text": [
            "Epoch 202: Train Loss: 0.035703 | Val MSE: 0.002173 | Val SSIM: 0.9010\n"
          ]
        },
        {
          "name": "stdout",
          "output_type": "stream",
          "text": [
            "Epoch 203: Train Loss: 0.036072 | Val MSE: 0.001945 | Val SSIM: 0.9018\n"
          ]
        },
        {
          "name": "stdout",
          "output_type": "stream",
          "text": [
            "Epoch 204: Train Loss: 0.034897 | Val MSE: 0.002044 | Val SSIM: 0.9037\n"
          ]
        },
        {
          "name": "stdout",
          "output_type": "stream",
          "text": [
            "Epoch 205: Train Loss: 0.034858 | Val MSE: 0.001960 | Val SSIM: 0.9034\n"
          ]
        },
        {
          "name": "stdout",
          "output_type": "stream",
          "text": [
            "Epoch 206: Train Loss: 0.035039 | Val MSE: 0.002028 | Val SSIM: 0.9031\n"
          ]
        },
        {
          "name": "stdout",
          "output_type": "stream",
          "text": [
            "Epoch 207: Train Loss: 0.034792 | Val MSE: 0.001957 | Val SSIM: 0.9038\n"
          ]
        },
        {
          "name": "stdout",
          "output_type": "stream",
          "text": [
            "Epoch 208: Train Loss: 0.034811 | Val MSE: 0.001955 | Val SSIM: 0.9033\n"
          ]
        },
        {
          "name": "stdout",
          "output_type": "stream",
          "text": [
            "Epoch 209: Train Loss: 0.035128 | Val MSE: 0.002137 | Val SSIM: 0.9029\n"
          ]
        },
        {
          "name": "stdout",
          "output_type": "stream",
          "text": [
            "Epoch 210: Train Loss: 0.034737 | Val MSE: 0.001960 | Val SSIM: 0.9037\n"
          ]
        },
        {
          "name": "stdout",
          "output_type": "stream",
          "text": [
            "Epoch 211: Train Loss: 0.034891 | Val MSE: 0.001983 | Val SSIM: 0.9039\n"
          ]
        },
        {
          "name": "stdout",
          "output_type": "stream",
          "text": [
            "Epoch 212: Train Loss: 0.034794 | Val MSE: 0.001953 | Val SSIM: 0.9039\n"
          ]
        },
        {
          "name": "stdout",
          "output_type": "stream",
          "text": [
            "Epoch 213: Train Loss: 0.034465 | Val MSE: 0.001968 | Val SSIM: 0.9044\n",
            "  * Saved best model (SSIM 0.9044)\n"
          ]
        },
        {
          "name": "stdout",
          "output_type": "stream",
          "text": [
            "Epoch 214: Train Loss: 0.034762 | Val MSE: 0.001983 | Val SSIM: 0.9037\n"
          ]
        },
        {
          "name": "stdout",
          "output_type": "stream",
          "text": [
            "Epoch 215: Train Loss: 0.034655 | Val MSE: 0.002004 | Val SSIM: 0.9004\n"
          ]
        },
        {
          "name": "stdout",
          "output_type": "stream",
          "text": [
            "Epoch 216: Train Loss: 0.034258 | Val MSE: 0.001932 | Val SSIM: 0.9035\n"
          ]
        },
        {
          "name": "stdout",
          "output_type": "stream",
          "text": [
            "Epoch 217: Train Loss: 0.034435 | Val MSE: 0.002017 | Val SSIM: 0.9034\n"
          ]
        },
        {
          "name": "stdout",
          "output_type": "stream",
          "text": [
            "Epoch 218: Train Loss: 0.034480 | Val MSE: 0.002032 | Val SSIM: 0.9032\n"
          ]
        },
        {
          "name": "stdout",
          "output_type": "stream",
          "text": [
            "Epoch 219: Train Loss: 0.034464 | Val MSE: 0.001965 | Val SSIM: 0.9034\n"
          ]
        },
        {
          "name": "stdout",
          "output_type": "stream",
          "text": [
            "Epoch 220: Train Loss: 0.034321 | Val MSE: 0.001953 | Val SSIM: 0.9043\n"
          ]
        },
        {
          "name": "stdout",
          "output_type": "stream",
          "text": [
            "Epoch 221: Train Loss: 0.034323 | Val MSE: 0.001966 | Val SSIM: 0.9038\n"
          ]
        },
        {
          "name": "stdout",
          "output_type": "stream",
          "text": [
            "Epoch 222: Train Loss: 0.034062 | Val MSE: 0.001992 | Val SSIM: 0.9039\n"
          ]
        },
        {
          "name": "stdout",
          "output_type": "stream",
          "text": [
            "Epoch 223: Train Loss: 0.034109 | Val MSE: 0.002049 | Val SSIM: 0.9042\n"
          ]
        },
        {
          "name": "stdout",
          "output_type": "stream",
          "text": [
            "Epoch 224: Train Loss: 0.034118 | Val MSE: 0.001976 | Val SSIM: 0.9044\n"
          ]
        },
        {
          "name": "stdout",
          "output_type": "stream",
          "text": [
            "Epoch 225: Train Loss: 0.033904 | Val MSE: 0.002084 | Val SSIM: 0.9034\n"
          ]
        },
        {
          "name": "stdout",
          "output_type": "stream",
          "text": [
            "Epoch 226: Train Loss: 0.034166 | Val MSE: 0.002039 | Val SSIM: 0.9034\n"
          ]
        },
        {
          "name": "stdout",
          "output_type": "stream",
          "text": [
            "Epoch 227: Train Loss: 0.033770 | Val MSE: 0.002187 | Val SSIM: 0.9030\n"
          ]
        },
        {
          "name": "stdout",
          "output_type": "stream",
          "text": [
            "Epoch 228: Train Loss: 0.033745 | Val MSE: 0.001987 | Val SSIM: 0.9035\n"
          ]
        },
        {
          "name": "stdout",
          "output_type": "stream",
          "text": [
            "Epoch 229: Train Loss: 0.033803 | Val MSE: 0.001966 | Val SSIM: 0.9032\n"
          ]
        },
        {
          "name": "stdout",
          "output_type": "stream",
          "text": [
            "Epoch 230: Train Loss: 0.033776 | Val MSE: 0.001987 | Val SSIM: 0.9033\n"
          ]
        },
        {
          "name": "stdout",
          "output_type": "stream",
          "text": [
            "Epoch 231: Train Loss: 0.033894 | Val MSE: 0.001942 | Val SSIM: 0.9047\n",
            "  * Saved best model (SSIM 0.9047)\n"
          ]
        },
        {
          "name": "stdout",
          "output_type": "stream",
          "text": [
            "Epoch 232: Train Loss: 0.033655 | Val MSE: 0.002008 | Val SSIM: 0.9040\n"
          ]
        },
        {
          "name": "stdout",
          "output_type": "stream",
          "text": [
            "Epoch 233: Train Loss: 0.033475 | Val MSE: 0.002027 | Val SSIM: 0.9045\n"
          ]
        },
        {
          "name": "stdout",
          "output_type": "stream",
          "text": [
            "Epoch 234: Train Loss: 0.033430 | Val MSE: 0.001930 | Val SSIM: 0.9043\n"
          ]
        },
        {
          "name": "stdout",
          "output_type": "stream",
          "text": [
            "Epoch 235: Train Loss: 0.033524 | Val MSE: 0.001913 | Val SSIM: 0.9030\n"
          ]
        },
        {
          "name": "stdout",
          "output_type": "stream",
          "text": [
            "Epoch 236: Train Loss: 0.033276 | Val MSE: 0.001996 | Val SSIM: 0.9043\n"
          ]
        },
        {
          "name": "stdout",
          "output_type": "stream",
          "text": [
            "Epoch 237: Train Loss: 0.033298 | Val MSE: 0.002005 | Val SSIM: 0.9032\n"
          ]
        },
        {
          "name": "stdout",
          "output_type": "stream",
          "text": [
            "Epoch 238: Train Loss: 0.033240 | Val MSE: 0.002159 | Val SSIM: 0.9032\n"
          ]
        },
        {
          "name": "stdout",
          "output_type": "stream",
          "text": [
            "Epoch 239: Train Loss: 0.033143 | Val MSE: 0.001947 | Val SSIM: 0.9038\n"
          ]
        },
        {
          "name": "stdout",
          "output_type": "stream",
          "text": [
            "Epoch 240: Train Loss: 0.033117 | Val MSE: 0.002001 | Val SSIM: 0.9030\n"
          ]
        },
        {
          "name": "stdout",
          "output_type": "stream",
          "text": [
            "Epoch 241: Train Loss: 0.033136 | Val MSE: 0.002034 | Val SSIM: 0.9025\n"
          ]
        },
        {
          "name": "stdout",
          "output_type": "stream",
          "text": [
            "Epoch 242: Train Loss: 0.033403 | Val MSE: 0.002032 | Val SSIM: 0.9035\n"
          ]
        },
        {
          "name": "stdout",
          "output_type": "stream",
          "text": [
            "Epoch 243: Train Loss: 0.033216 | Val MSE: 0.001943 | Val SSIM: 0.9043\n"
          ]
        },
        {
          "name": "stdout",
          "output_type": "stream",
          "text": [
            "Epoch 244: Train Loss: 0.033055 | Val MSE: 0.001858 | Val SSIM: 0.9046\n"
          ]
        },
        {
          "name": "stdout",
          "output_type": "stream",
          "text": [
            "Epoch 245: Train Loss: 0.033265 | Val MSE: 0.001953 | Val SSIM: 0.9048\n",
            "  * Saved best model (SSIM 0.9048)\n"
          ]
        },
        {
          "name": "stdout",
          "output_type": "stream",
          "text": [
            "Epoch 246: Train Loss: 0.033522 | Val MSE: 0.001935 | Val SSIM: 0.9043\n"
          ]
        },
        {
          "name": "stdout",
          "output_type": "stream",
          "text": [
            "Epoch 247: Train Loss: 0.032864 | Val MSE: 0.001902 | Val SSIM: 0.9048\n",
            "  * Saved best model (SSIM 0.9048)\n"
          ]
        },
        {
          "name": "stdout",
          "output_type": "stream",
          "text": [
            "Epoch 248: Train Loss: 0.033012 | Val MSE: 0.002070 | Val SSIM: 0.9043\n"
          ]
        },
        {
          "name": "stdout",
          "output_type": "stream",
          "text": [
            "Epoch 249: Train Loss: 0.032674 | Val MSE: 0.002006 | Val SSIM: 0.9047\n"
          ]
        },
        {
          "name": "stdout",
          "output_type": "stream",
          "text": [
            "Epoch 250: Train Loss: 0.032650 | Val MSE: 0.002015 | Val SSIM: 0.9047\n"
          ]
        },
        {
          "name": "stdout",
          "output_type": "stream",
          "text": [
            "Epoch 251: Train Loss: 0.032791 | Val MSE: 0.001961 | Val SSIM: 0.9050\n",
            "  * Saved best model (SSIM 0.9050)\n"
          ]
        },
        {
          "name": "stdout",
          "output_type": "stream",
          "text": [
            "Epoch 252: Train Loss: 0.032784 | Val MSE: 0.001973 | Val SSIM: 0.9043\n"
          ]
        },
        {
          "name": "stdout",
          "output_type": "stream",
          "text": [
            "Epoch 253: Train Loss: 0.032823 | Val MSE: 0.002011 | Val SSIM: 0.9028\n"
          ]
        },
        {
          "name": "stdout",
          "output_type": "stream",
          "text": [
            "Epoch 254: Train Loss: 0.032763 | Val MSE: 0.001951 | Val SSIM: 0.9049\n"
          ]
        },
        {
          "name": "stdout",
          "output_type": "stream",
          "text": [
            "Epoch 255: Train Loss: 0.032359 | Val MSE: 0.001958 | Val SSIM: 0.9044\n"
          ]
        },
        {
          "name": "stdout",
          "output_type": "stream",
          "text": [
            "Epoch 256: Train Loss: 0.032419 | Val MSE: 0.001944 | Val SSIM: 0.9053\n",
            "  * Saved best model (SSIM 0.9053)\n"
          ]
        },
        {
          "name": "stdout",
          "output_type": "stream",
          "text": [
            "Epoch 257: Train Loss: 0.032544 | Val MSE: 0.001952 | Val SSIM: 0.9048\n"
          ]
        },
        {
          "name": "stdout",
          "output_type": "stream",
          "text": [
            "Epoch 258: Train Loss: 0.032434 | Val MSE: 0.001915 | Val SSIM: 0.9044\n"
          ]
        },
        {
          "name": "stdout",
          "output_type": "stream",
          "text": [
            "Epoch 259: Train Loss: 0.032726 | Val MSE: 0.001906 | Val SSIM: 0.9046\n"
          ]
        },
        {
          "name": "stdout",
          "output_type": "stream",
          "text": [
            "Epoch 260: Train Loss: 0.032823 | Val MSE: 0.001993 | Val SSIM: 0.9036\n"
          ]
        },
        {
          "name": "stdout",
          "output_type": "stream",
          "text": [
            "Epoch 261: Train Loss: 0.032432 | Val MSE: 0.001955 | Val SSIM: 0.9049\n"
          ]
        },
        {
          "name": "stdout",
          "output_type": "stream",
          "text": [
            "Epoch 262: Train Loss: 0.032239 | Val MSE: 0.001943 | Val SSIM: 0.9045\n"
          ]
        },
        {
          "name": "stdout",
          "output_type": "stream",
          "text": [
            "Epoch 263: Train Loss: 0.032154 | Val MSE: 0.001997 | Val SSIM: 0.9042\n"
          ]
        },
        {
          "name": "stdout",
          "output_type": "stream",
          "text": [
            "Epoch 264: Train Loss: 0.031998 | Val MSE: 0.001935 | Val SSIM: 0.9045\n"
          ]
        },
        {
          "name": "stdout",
          "output_type": "stream",
          "text": [
            "Epoch 265: Train Loss: 0.032176 | Val MSE: 0.001936 | Val SSIM: 0.9049\n"
          ]
        },
        {
          "name": "stdout",
          "output_type": "stream",
          "text": [
            "Epoch 266: Train Loss: 0.032122 | Val MSE: 0.001928 | Val SSIM: 0.9051\n"
          ]
        },
        {
          "name": "stdout",
          "output_type": "stream",
          "text": [
            "Epoch 267: Train Loss: 0.032175 | Val MSE: 0.001909 | Val SSIM: 0.9050\n"
          ]
        },
        {
          "name": "stdout",
          "output_type": "stream",
          "text": [
            "Epoch 268: Train Loss: 0.032484 | Val MSE: 0.001980 | Val SSIM: 0.9029\n"
          ]
        },
        {
          "name": "stdout",
          "output_type": "stream",
          "text": [
            "Epoch 269: Train Loss: 0.032017 | Val MSE: 0.001920 | Val SSIM: 0.9045\n"
          ]
        },
        {
          "name": "stdout",
          "output_type": "stream",
          "text": [
            "Epoch 270: Train Loss: 0.032103 | Val MSE: 0.001877 | Val SSIM: 0.9053\n"
          ]
        },
        {
          "name": "stdout",
          "output_type": "stream",
          "text": [
            "Epoch 271: Train Loss: 0.031954 | Val MSE: 0.001934 | Val SSIM: 0.9043\n"
          ]
        },
        {
          "name": "stdout",
          "output_type": "stream",
          "text": [
            "Epoch 272: Train Loss: 0.031893 | Val MSE: 0.001896 | Val SSIM: 0.9040\n"
          ]
        },
        {
          "name": "stdout",
          "output_type": "stream",
          "text": [
            "Epoch 273: Train Loss: 0.031903 | Val MSE: 0.001920 | Val SSIM: 0.9045\n"
          ]
        },
        {
          "name": "stdout",
          "output_type": "stream",
          "text": [
            "Epoch 274: Train Loss: 0.031764 | Val MSE: 0.001963 | Val SSIM: 0.9043\n"
          ]
        },
        {
          "name": "stdout",
          "output_type": "stream",
          "text": [
            "Epoch 275: Train Loss: 0.031793 | Val MSE: 0.001980 | Val SSIM: 0.9038\n"
          ]
        },
        {
          "name": "stdout",
          "output_type": "stream",
          "text": [
            "Epoch 276: Train Loss: 0.031718 | Val MSE: 0.001948 | Val SSIM: 0.9041\n"
          ]
        },
        {
          "name": "stdout",
          "output_type": "stream",
          "text": [
            "Epoch 277: Train Loss: 0.031691 | Val MSE: 0.001956 | Val SSIM: 0.9047\n"
          ]
        },
        {
          "name": "stdout",
          "output_type": "stream",
          "text": [
            "Epoch 278: Train Loss: 0.032051 | Val MSE: 0.001953 | Val SSIM: 0.9023\n"
          ]
        },
        {
          "name": "stdout",
          "output_type": "stream",
          "text": [
            "Epoch 279: Train Loss: 0.031682 | Val MSE: 0.001902 | Val SSIM: 0.9051\n"
          ]
        },
        {
          "name": "stdout",
          "output_type": "stream",
          "text": [
            "Epoch 280: Train Loss: 0.031695 | Val MSE: 0.001970 | Val SSIM: 0.9034\n"
          ]
        },
        {
          "name": "stdout",
          "output_type": "stream",
          "text": [
            "Epoch 281: Train Loss: 0.031511 | Val MSE: 0.001957 | Val SSIM: 0.9047\n"
          ]
        },
        {
          "name": "stdout",
          "output_type": "stream",
          "text": [
            "Epoch 282: Train Loss: 0.031277 | Val MSE: 0.001972 | Val SSIM: 0.9048\n"
          ]
        },
        {
          "name": "stdout",
          "output_type": "stream",
          "text": [
            "Epoch 283: Train Loss: 0.031380 | Val MSE: 0.001993 | Val SSIM: 0.9050\n"
          ]
        },
        {
          "name": "stdout",
          "output_type": "stream",
          "text": [
            "Epoch 284: Train Loss: 0.031387 | Val MSE: 0.001970 | Val SSIM: 0.9044\n"
          ]
        },
        {
          "name": "stdout",
          "output_type": "stream",
          "text": [
            "Epoch 285: Train Loss: 0.031399 | Val MSE: 0.001951 | Val SSIM: 0.9031\n"
          ]
        },
        {
          "name": "stdout",
          "output_type": "stream",
          "text": [
            "Epoch 286: Train Loss: 0.031697 | Val MSE: 0.001930 | Val SSIM: 0.9051\n"
          ]
        },
        {
          "name": "stdout",
          "output_type": "stream",
          "text": [
            "Epoch 287: Train Loss: 0.031342 | Val MSE: 0.002005 | Val SSIM: 0.9043\n"
          ]
        },
        {
          "name": "stdout",
          "output_type": "stream",
          "text": [
            "Epoch 288: Train Loss: 0.031287 | Val MSE: 0.001944 | Val SSIM: 0.9042\n"
          ]
        },
        {
          "name": "stdout",
          "output_type": "stream",
          "text": [
            "Epoch 289: Train Loss: 0.031223 | Val MSE: 0.001959 | Val SSIM: 0.9053\n",
            "  * Saved best model (SSIM 0.9053)\n"
          ]
        },
        {
          "name": "stdout",
          "output_type": "stream",
          "text": [
            "Epoch 290: Train Loss: 0.030990 | Val MSE: 0.002024 | Val SSIM: 0.9044\n"
          ]
        },
        {
          "name": "stdout",
          "output_type": "stream",
          "text": [
            "Epoch 291: Train Loss: 0.031345 | Val MSE: 0.001981 | Val SSIM: 0.9044\n"
          ]
        },
        {
          "name": "stdout",
          "output_type": "stream",
          "text": [
            "Epoch 292: Train Loss: 0.031288 | Val MSE: 0.001960 | Val SSIM: 0.9053\n"
          ]
        },
        {
          "name": "stdout",
          "output_type": "stream",
          "text": [
            "Epoch 293: Train Loss: 0.031042 | Val MSE: 0.001890 | Val SSIM: 0.9054\n",
            "  * Saved best model (SSIM 0.9054)\n"
          ]
        },
        {
          "name": "stdout",
          "output_type": "stream",
          "text": [
            "Epoch 294: Train Loss: 0.031057 | Val MSE: 0.001874 | Val SSIM: 0.9049\n"
          ]
        },
        {
          "name": "stdout",
          "output_type": "stream",
          "text": [
            "Epoch 295: Train Loss: 0.031302 | Val MSE: 0.001981 | Val SSIM: 0.9046\n"
          ]
        },
        {
          "name": "stdout",
          "output_type": "stream",
          "text": [
            "Epoch 296: Train Loss: 0.030886 | Val MSE: 0.001918 | Val SSIM: 0.9052\n"
          ]
        },
        {
          "name": "stdout",
          "output_type": "stream",
          "text": [
            "Epoch 297: Train Loss: 0.031006 | Val MSE: 0.001977 | Val SSIM: 0.9050\n"
          ]
        },
        {
          "name": "stdout",
          "output_type": "stream",
          "text": [
            "Epoch 298: Train Loss: 0.031189 | Val MSE: 0.001994 | Val SSIM: 0.9049\n"
          ]
        },
        {
          "name": "stdout",
          "output_type": "stream",
          "text": [
            "Epoch 299: Train Loss: 0.030923 | Val MSE: 0.001923 | Val SSIM: 0.9049\n"
          ]
        },
        {
          "name": "stdout",
          "output_type": "stream",
          "text": [
            "Epoch 300: Train Loss: 0.030777 | Val MSE: 0.001943 | Val SSIM: 0.9057\n",
            "  * Saved best model (SSIM 0.9057)\n"
          ]
        },
        {
          "name": "stdout",
          "output_type": "stream",
          "text": [
            "Epoch 301: Train Loss: 0.030795 | Val MSE: 0.002005 | Val SSIM: 0.9046\n"
          ]
        },
        {
          "name": "stdout",
          "output_type": "stream",
          "text": [
            "Epoch 302: Train Loss: 0.030897 | Val MSE: 0.001950 | Val SSIM: 0.9058\n",
            "  * Saved best model (SSIM 0.9058)\n"
          ]
        },
        {
          "name": "stdout",
          "output_type": "stream",
          "text": [
            "Epoch 303: Train Loss: 0.030786 | Val MSE: 0.001894 | Val SSIM: 0.9055\n"
          ]
        },
        {
          "name": "stdout",
          "output_type": "stream",
          "text": [
            "Epoch 304: Train Loss: 0.030753 | Val MSE: 0.001950 | Val SSIM: 0.9050\n"
          ]
        },
        {
          "name": "stdout",
          "output_type": "stream",
          "text": [
            "Epoch 305: Train Loss: 0.030784 | Val MSE: 0.001899 | Val SSIM: 0.9046\n"
          ]
        },
        {
          "name": "stdout",
          "output_type": "stream",
          "text": [
            "Epoch 306: Train Loss: 0.030845 | Val MSE: 0.001885 | Val SSIM: 0.9051\n"
          ]
        },
        {
          "name": "stdout",
          "output_type": "stream",
          "text": [
            "Epoch 307: Train Loss: 0.030713 | Val MSE: 0.001933 | Val SSIM: 0.9054\n"
          ]
        },
        {
          "name": "stdout",
          "output_type": "stream",
          "text": [
            "Epoch 308: Train Loss: 0.030653 | Val MSE: 0.001977 | Val SSIM: 0.9023\n"
          ]
        },
        {
          "name": "stdout",
          "output_type": "stream",
          "text": [
            "Epoch 309: Train Loss: 0.030649 | Val MSE: 0.001896 | Val SSIM: 0.9047\n"
          ]
        },
        {
          "name": "stdout",
          "output_type": "stream",
          "text": [
            "Epoch 310: Train Loss: 0.030735 | Val MSE: 0.001893 | Val SSIM: 0.9049\n"
          ]
        },
        {
          "name": "stdout",
          "output_type": "stream",
          "text": [
            "Epoch 311: Train Loss: 0.030470 | Val MSE: 0.001997 | Val SSIM: 0.9044\n"
          ]
        },
        {
          "name": "stdout",
          "output_type": "stream",
          "text": [
            "Epoch 312: Train Loss: 0.030583 | Val MSE: 0.001937 | Val SSIM: 0.9045\n"
          ]
        },
        {
          "name": "stdout",
          "output_type": "stream",
          "text": [
            "Epoch 313: Train Loss: 0.030422 | Val MSE: 0.001903 | Val SSIM: 0.9053\n"
          ]
        },
        {
          "name": "stdout",
          "output_type": "stream",
          "text": [
            "Epoch 314: Train Loss: 0.030454 | Val MSE: 0.001956 | Val SSIM: 0.9051\n"
          ]
        },
        {
          "name": "stdout",
          "output_type": "stream",
          "text": [
            "Epoch 315: Train Loss: 0.030410 | Val MSE: 0.001944 | Val SSIM: 0.9051\n"
          ]
        },
        {
          "name": "stdout",
          "output_type": "stream",
          "text": [
            "Epoch 316: Train Loss: 0.030372 | Val MSE: 0.001975 | Val SSIM: 0.9048\n"
          ]
        },
        {
          "name": "stdout",
          "output_type": "stream",
          "text": [
            "Epoch 317: Train Loss: 0.030391 | Val MSE: 0.001890 | Val SSIM: 0.9054\n"
          ]
        },
        {
          "name": "stdout",
          "output_type": "stream",
          "text": [
            "Epoch 318: Train Loss: 0.030376 | Val MSE: 0.001859 | Val SSIM: 0.9043\n"
          ]
        },
        {
          "name": "stdout",
          "output_type": "stream",
          "text": [
            "Epoch 319: Train Loss: 0.030230 | Val MSE: 0.001913 | Val SSIM: 0.9054\n"
          ]
        },
        {
          "name": "stdout",
          "output_type": "stream",
          "text": [
            "Epoch 320: Train Loss: 0.030296 | Val MSE: 0.001918 | Val SSIM: 0.9053\n"
          ]
        },
        {
          "name": "stdout",
          "output_type": "stream",
          "text": [
            "Epoch 321: Train Loss: 0.030266 | Val MSE: 0.001922 | Val SSIM: 0.9052\n"
          ]
        },
        {
          "name": "stdout",
          "output_type": "stream",
          "text": [
            "Epoch 322: Train Loss: 0.030245 | Val MSE: 0.001923 | Val SSIM: 0.9056\n"
          ]
        },
        {
          "name": "stdout",
          "output_type": "stream",
          "text": [
            "Epoch 323: Train Loss: 0.030256 | Val MSE: 0.001936 | Val SSIM: 0.9041\n"
          ]
        },
        {
          "name": "stdout",
          "output_type": "stream",
          "text": [
            "Epoch 324: Train Loss: 0.030317 | Val MSE: 0.001917 | Val SSIM: 0.9047\n"
          ]
        },
        {
          "name": "stdout",
          "output_type": "stream",
          "text": [
            "Epoch 325: Train Loss: 0.030128 | Val MSE: 0.001931 | Val SSIM: 0.9052\n"
          ]
        },
        {
          "name": "stdout",
          "output_type": "stream",
          "text": [
            "Epoch 326: Train Loss: 0.030144 | Val MSE: 0.001931 | Val SSIM: 0.9051\n"
          ]
        },
        {
          "name": "stdout",
          "output_type": "stream",
          "text": [
            "Epoch 327: Train Loss: 0.030188 | Val MSE: 0.001897 | Val SSIM: 0.9057\n"
          ]
        },
        {
          "name": "stdout",
          "output_type": "stream",
          "text": [
            "Epoch 328: Train Loss: 0.030085 | Val MSE: 0.001983 | Val SSIM: 0.9047\n"
          ]
        },
        {
          "name": "stdout",
          "output_type": "stream",
          "text": [
            "Epoch 329: Train Loss: 0.030002 | Val MSE: 0.001886 | Val SSIM: 0.9051\n"
          ]
        },
        {
          "name": "stdout",
          "output_type": "stream",
          "text": [
            "Epoch 330: Train Loss: 0.030021 | Val MSE: 0.001920 | Val SSIM: 0.9047\n"
          ]
        },
        {
          "name": "stdout",
          "output_type": "stream",
          "text": [
            "Epoch 331: Train Loss: 0.029988 | Val MSE: 0.001891 | Val SSIM: 0.9050\n"
          ]
        },
        {
          "name": "stdout",
          "output_type": "stream",
          "text": [
            "Epoch 332: Train Loss: 0.030006 | Val MSE: 0.001890 | Val SSIM: 0.9057\n"
          ]
        },
        {
          "name": "stdout",
          "output_type": "stream",
          "text": [
            "Epoch 333: Train Loss: 0.030228 | Val MSE: 0.001895 | Val SSIM: 0.9050\n"
          ]
        },
        {
          "name": "stdout",
          "output_type": "stream",
          "text": [
            "Epoch 334: Train Loss: 0.030063 | Val MSE: 0.001880 | Val SSIM: 0.9050\n"
          ]
        },
        {
          "name": "stdout",
          "output_type": "stream",
          "text": [
            "Epoch 335: Train Loss: 0.029967 | Val MSE: 0.001947 | Val SSIM: 0.9048\n"
          ]
        },
        {
          "name": "stdout",
          "output_type": "stream",
          "text": [
            "Epoch 336: Train Loss: 0.029899 | Val MSE: 0.001913 | Val SSIM: 0.9053\n"
          ]
        },
        {
          "name": "stdout",
          "output_type": "stream",
          "text": [
            "Epoch 337: Train Loss: 0.029826 | Val MSE: 0.001904 | Val SSIM: 0.9054\n"
          ]
        },
        {
          "name": "stdout",
          "output_type": "stream",
          "text": [
            "Epoch 338: Train Loss: 0.029827 | Val MSE: 0.001935 | Val SSIM: 0.9050\n"
          ]
        },
        {
          "name": "stdout",
          "output_type": "stream",
          "text": [
            "Epoch 339: Train Loss: 0.029890 | Val MSE: 0.001994 | Val SSIM: 0.9052\n"
          ]
        },
        {
          "name": "stdout",
          "output_type": "stream",
          "text": [
            "Epoch 340: Train Loss: 0.029770 | Val MSE: 0.001906 | Val SSIM: 0.9050\n"
          ]
        },
        {
          "name": "stdout",
          "output_type": "stream",
          "text": [
            "Epoch 341: Train Loss: 0.029650 | Val MSE: 0.001904 | Val SSIM: 0.9054\n"
          ]
        },
        {
          "name": "stdout",
          "output_type": "stream",
          "text": [
            "Epoch 342: Train Loss: 0.029697 | Val MSE: 0.001973 | Val SSIM: 0.9049\n"
          ]
        },
        {
          "name": "stdout",
          "output_type": "stream",
          "text": [
            "Epoch 343: Train Loss: 0.029726 | Val MSE: 0.001903 | Val SSIM: 0.9044\n"
          ]
        },
        {
          "name": "stdout",
          "output_type": "stream",
          "text": [
            "Epoch 344: Train Loss: 0.029653 | Val MSE: 0.001902 | Val SSIM: 0.9054\n"
          ]
        },
        {
          "name": "stdout",
          "output_type": "stream",
          "text": [
            "Epoch 345: Train Loss: 0.029635 | Val MSE: 0.001875 | Val SSIM: 0.9057\n"
          ]
        },
        {
          "name": "stdout",
          "output_type": "stream",
          "text": [
            "Epoch 346: Train Loss: 0.029750 | Val MSE: 0.001920 | Val SSIM: 0.9052\n"
          ]
        },
        {
          "name": "stdout",
          "output_type": "stream",
          "text": [
            "Epoch 347: Train Loss: 0.029582 | Val MSE: 0.001906 | Val SSIM: 0.9052\n"
          ]
        },
        {
          "name": "stdout",
          "output_type": "stream",
          "text": [
            "Epoch 348: Train Loss: 0.029635 | Val MSE: 0.001934 | Val SSIM: 0.9050\n"
          ]
        },
        {
          "name": "stdout",
          "output_type": "stream",
          "text": [
            "Epoch 349: Train Loss: 0.029578 | Val MSE: 0.001965 | Val SSIM: 0.9048\n"
          ]
        },
        {
          "name": "stdout",
          "output_type": "stream",
          "text": [
            "Epoch 350: Train Loss: 0.029557 | Val MSE: 0.001913 | Val SSIM: 0.9053\n"
          ]
        },
        {
          "name": "stdout",
          "output_type": "stream",
          "text": [
            "Epoch 351: Train Loss: 0.029537 | Val MSE: 0.001956 | Val SSIM: 0.9045\n"
          ]
        },
        {
          "name": "stdout",
          "output_type": "stream",
          "text": [
            "Epoch 352: Train Loss: 0.029434 | Val MSE: 0.001916 | Val SSIM: 0.9058\n",
            "  * Saved best model (SSIM 0.9058)\n"
          ]
        },
        {
          "name": "stdout",
          "output_type": "stream",
          "text": [
            "Epoch 353: Train Loss: 0.029430 | Val MSE: 0.001905 | Val SSIM: 0.9055\n"
          ]
        },
        {
          "name": "stdout",
          "output_type": "stream",
          "text": [
            "Epoch 354: Train Loss: 0.029391 | Val MSE: 0.001934 | Val SSIM: 0.9053\n"
          ]
        },
        {
          "name": "stdout",
          "output_type": "stream",
          "text": [
            "Epoch 355: Train Loss: 0.029465 | Val MSE: 0.001918 | Val SSIM: 0.9055\n"
          ]
        },
        {
          "name": "stdout",
          "output_type": "stream",
          "text": [
            "Epoch 356: Train Loss: 0.029391 | Val MSE: 0.001881 | Val SSIM: 0.9053\n"
          ]
        },
        {
          "name": "stdout",
          "output_type": "stream",
          "text": [
            "Epoch 357: Train Loss: 0.029388 | Val MSE: 0.001960 | Val SSIM: 0.9056\n"
          ]
        },
        {
          "name": "stdout",
          "output_type": "stream",
          "text": [
            "Epoch 358: Train Loss: 0.029364 | Val MSE: 0.001912 | Val SSIM: 0.9052\n"
          ]
        },
        {
          "name": "stdout",
          "output_type": "stream",
          "text": [
            "Epoch 359: Train Loss: 0.029473 | Val MSE: 0.001903 | Val SSIM: 0.9051\n"
          ]
        },
        {
          "name": "stdout",
          "output_type": "stream",
          "text": [
            "Epoch 360: Train Loss: 0.029393 | Val MSE: 0.001905 | Val SSIM: 0.9054\n"
          ]
        },
        {
          "name": "stdout",
          "output_type": "stream",
          "text": [
            "Epoch 361: Train Loss: 0.029325 | Val MSE: 0.001934 | Val SSIM: 0.9055\n"
          ]
        },
        {
          "name": "stdout",
          "output_type": "stream",
          "text": [
            "Epoch 362: Train Loss: 0.029316 | Val MSE: 0.001881 | Val SSIM: 0.9048\n"
          ]
        },
        {
          "name": "stdout",
          "output_type": "stream",
          "text": [
            "Epoch 363: Train Loss: 0.029253 | Val MSE: 0.001933 | Val SSIM: 0.9047\n"
          ]
        },
        {
          "name": "stdout",
          "output_type": "stream",
          "text": [
            "Epoch 364: Train Loss: 0.029176 | Val MSE: 0.001899 | Val SSIM: 0.9056\n"
          ]
        },
        {
          "name": "stdout",
          "output_type": "stream",
          "text": [
            "Epoch 365: Train Loss: 0.029246 | Val MSE: 0.001932 | Val SSIM: 0.9051\n"
          ]
        },
        {
          "name": "stdout",
          "output_type": "stream",
          "text": [
            "Epoch 366: Train Loss: 0.029222 | Val MSE: 0.001947 | Val SSIM: 0.9050\n"
          ]
        },
        {
          "name": "stdout",
          "output_type": "stream",
          "text": [
            "Epoch 367: Train Loss: 0.029110 | Val MSE: 0.001931 | Val SSIM: 0.9053\n"
          ]
        },
        {
          "name": "stdout",
          "output_type": "stream",
          "text": [
            "Epoch 368: Train Loss: 0.029126 | Val MSE: 0.001896 | Val SSIM: 0.9057\n"
          ]
        },
        {
          "name": "stdout",
          "output_type": "stream",
          "text": [
            "Epoch 369: Train Loss: 0.029165 | Val MSE: 0.001914 | Val SSIM: 0.9056\n"
          ]
        },
        {
          "name": "stdout",
          "output_type": "stream",
          "text": [
            "Epoch 370: Train Loss: 0.029007 | Val MSE: 0.001917 | Val SSIM: 0.9055\n"
          ]
        },
        {
          "name": "stdout",
          "output_type": "stream",
          "text": [
            "Epoch 371: Train Loss: 0.029126 | Val MSE: 0.001951 | Val SSIM: 0.9045\n"
          ]
        },
        {
          "name": "stdout",
          "output_type": "stream",
          "text": [
            "Epoch 372: Train Loss: 0.029068 | Val MSE: 0.001910 | Val SSIM: 0.9054\n"
          ]
        },
        {
          "name": "stdout",
          "output_type": "stream",
          "text": [
            "Epoch 373: Train Loss: 0.029053 | Val MSE: 0.001891 | Val SSIM: 0.9051\n"
          ]
        },
        {
          "name": "stdout",
          "output_type": "stream",
          "text": [
            "Epoch 374: Train Loss: 0.028946 | Val MSE: 0.001910 | Val SSIM: 0.9050\n"
          ]
        },
        {
          "name": "stdout",
          "output_type": "stream",
          "text": [
            "Epoch 375: Train Loss: 0.029038 | Val MSE: 0.001947 | Val SSIM: 0.9055\n"
          ]
        },
        {
          "name": "stdout",
          "output_type": "stream",
          "text": [
            "Epoch 376: Train Loss: 0.029068 | Val MSE: 0.001878 | Val SSIM: 0.9055\n"
          ]
        },
        {
          "name": "stdout",
          "output_type": "stream",
          "text": [
            "Epoch 377: Train Loss: 0.028992 | Val MSE: 0.001944 | Val SSIM: 0.9055\n"
          ]
        },
        {
          "name": "stdout",
          "output_type": "stream",
          "text": [
            "Epoch 378: Train Loss: 0.028956 | Val MSE: 0.001929 | Val SSIM: 0.9054\n"
          ]
        },
        {
          "name": "stdout",
          "output_type": "stream",
          "text": [
            "Epoch 379: Train Loss: 0.028922 | Val MSE: 0.001911 | Val SSIM: 0.9054\n"
          ]
        },
        {
          "name": "stdout",
          "output_type": "stream",
          "text": [
            "Epoch 380: Train Loss: 0.028895 | Val MSE: 0.001960 | Val SSIM: 0.9040\n"
          ]
        },
        {
          "name": "stdout",
          "output_type": "stream",
          "text": [
            "Epoch 381: Train Loss: 0.028964 | Val MSE: 0.001920 | Val SSIM: 0.9051\n"
          ]
        },
        {
          "name": "stdout",
          "output_type": "stream",
          "text": [
            "Epoch 382: Train Loss: 0.028885 | Val MSE: 0.001927 | Val SSIM: 0.9050\n"
          ]
        },
        {
          "name": "stdout",
          "output_type": "stream",
          "text": [
            "Epoch 383: Train Loss: 0.028867 | Val MSE: 0.001961 | Val SSIM: 0.9049\n"
          ]
        },
        {
          "name": "stdout",
          "output_type": "stream",
          "text": [
            "Epoch 384: Train Loss: 0.028918 | Val MSE: 0.001944 | Val SSIM: 0.9055\n"
          ]
        },
        {
          "name": "stdout",
          "output_type": "stream",
          "text": [
            "Epoch 385: Train Loss: 0.028824 | Val MSE: 0.001949 | Val SSIM: 0.9052\n"
          ]
        },
        {
          "name": "stdout",
          "output_type": "stream",
          "text": [
            "Epoch 386: Train Loss: 0.028780 | Val MSE: 0.001902 | Val SSIM: 0.9051\n"
          ]
        },
        {
          "name": "stdout",
          "output_type": "stream",
          "text": [
            "Epoch 387: Train Loss: 0.028826 | Val MSE: 0.001917 | Val SSIM: 0.9056\n"
          ]
        },
        {
          "name": "stdout",
          "output_type": "stream",
          "text": [
            "Epoch 388: Train Loss: 0.028746 | Val MSE: 0.001907 | Val SSIM: 0.9057\n"
          ]
        },
        {
          "name": "stdout",
          "output_type": "stream",
          "text": [
            "Epoch 389: Train Loss: 0.028847 | Val MSE: 0.001891 | Val SSIM: 0.9053\n"
          ]
        },
        {
          "name": "stdout",
          "output_type": "stream",
          "text": [
            "Epoch 390: Train Loss: 0.028818 | Val MSE: 0.001896 | Val SSIM: 0.9051\n"
          ]
        },
        {
          "name": "stdout",
          "output_type": "stream",
          "text": [
            "Epoch 391: Train Loss: 0.028800 | Val MSE: 0.001920 | Val SSIM: 0.9053\n"
          ]
        },
        {
          "name": "stdout",
          "output_type": "stream",
          "text": [
            "Epoch 392: Train Loss: 0.028662 | Val MSE: 0.001900 | Val SSIM: 0.9058\n",
            "  * Saved best model (SSIM 0.9058)\n"
          ]
        },
        {
          "name": "stdout",
          "output_type": "stream",
          "text": [
            "Epoch 393: Train Loss: 0.028778 | Val MSE: 0.001873 | Val SSIM: 0.9059\n",
            "  * Saved best model (SSIM 0.9059)\n"
          ]
        },
        {
          "name": "stdout",
          "output_type": "stream",
          "text": [
            "Epoch 394: Train Loss: 0.028724 | Val MSE: 0.001881 | Val SSIM: 0.9059\n",
            "  * Saved best model (SSIM 0.9059)\n"
          ]
        },
        {
          "name": "stdout",
          "output_type": "stream",
          "text": [
            "Epoch 395: Train Loss: 0.028672 | Val MSE: 0.001878 | Val SSIM: 0.9058\n"
          ]
        },
        {
          "name": "stdout",
          "output_type": "stream",
          "text": [
            "Epoch 396: Train Loss: 0.028671 | Val MSE: 0.001906 | Val SSIM: 0.9050\n"
          ]
        },
        {
          "name": "stdout",
          "output_type": "stream",
          "text": [
            "Epoch 397: Train Loss: 0.028685 | Val MSE: 0.001880 | Val SSIM: 0.9057\n"
          ]
        },
        {
          "name": "stdout",
          "output_type": "stream",
          "text": [
            "Epoch 398: Train Loss: 0.028639 | Val MSE: 0.001871 | Val SSIM: 0.9059\n"
          ]
        },
        {
          "name": "stdout",
          "output_type": "stream",
          "text": [
            "Epoch 399: Train Loss: 0.028595 | Val MSE: 0.001873 | Val SSIM: 0.9057\n"
          ]
        },
        {
          "name": "stdout",
          "output_type": "stream",
          "text": [
            "Epoch 400: Train Loss: 0.028607 | Val MSE: 0.001918 | Val SSIM: 0.9055\n"
          ]
        },
        {
          "name": "stdout",
          "output_type": "stream",
          "text": [
            "Epoch 401: Train Loss: 0.028588 | Val MSE: 0.001863 | Val SSIM: 0.9059\n"
          ]
        },
        {
          "name": "stdout",
          "output_type": "stream",
          "text": [
            "Epoch 402: Train Loss: 0.028608 | Val MSE: 0.001903 | Val SSIM: 0.9057\n"
          ]
        },
        {
          "name": "stdout",
          "output_type": "stream",
          "text": [
            "Epoch 403: Train Loss: 0.028525 | Val MSE: 0.001895 | Val SSIM: 0.9058\n"
          ]
        },
        {
          "name": "stdout",
          "output_type": "stream",
          "text": [
            "Epoch 404: Train Loss: 0.028514 | Val MSE: 0.001875 | Val SSIM: 0.9056\n"
          ]
        },
        {
          "name": "stdout",
          "output_type": "stream",
          "text": [
            "Epoch 405: Train Loss: 0.028561 | Val MSE: 0.001888 | Val SSIM: 0.9056\n"
          ]
        },
        {
          "name": "stdout",
          "output_type": "stream",
          "text": [
            "Epoch 406: Train Loss: 0.028528 | Val MSE: 0.001916 | Val SSIM: 0.9049\n"
          ]
        },
        {
          "name": "stdout",
          "output_type": "stream",
          "text": [
            "Epoch 407: Train Loss: 0.028538 | Val MSE: 0.001899 | Val SSIM: 0.9052\n"
          ]
        },
        {
          "name": "stdout",
          "output_type": "stream",
          "text": [
            "Epoch 408: Train Loss: 0.028587 | Val MSE: 0.001877 | Val SSIM: 0.9046\n"
          ]
        },
        {
          "name": "stdout",
          "output_type": "stream",
          "text": [
            "Epoch 409: Train Loss: 0.028454 | Val MSE: 0.001898 | Val SSIM: 0.9057\n"
          ]
        },
        {
          "name": "stdout",
          "output_type": "stream",
          "text": [
            "Epoch 410: Train Loss: 0.028461 | Val MSE: 0.001906 | Val SSIM: 0.9058\n"
          ]
        },
        {
          "name": "stdout",
          "output_type": "stream",
          "text": [
            "Epoch 411: Train Loss: 0.028487 | Val MSE: 0.001890 | Val SSIM: 0.9056\n"
          ]
        },
        {
          "name": "stdout",
          "output_type": "stream",
          "text": [
            "Epoch 412: Train Loss: 0.028471 | Val MSE: 0.001919 | Val SSIM: 0.9057\n"
          ]
        },
        {
          "name": "stdout",
          "output_type": "stream",
          "text": [
            "Epoch 413: Train Loss: 0.028454 | Val MSE: 0.001925 | Val SSIM: 0.9054\n"
          ]
        },
        {
          "name": "stdout",
          "output_type": "stream",
          "text": [
            "Epoch 414: Train Loss: 0.028388 | Val MSE: 0.001912 | Val SSIM: 0.9060\n",
            "  * Saved best model (SSIM 0.9060)\n"
          ]
        },
        {
          "name": "stdout",
          "output_type": "stream",
          "text": [
            "Epoch 415: Train Loss: 0.028394 | Val MSE: 0.001891 | Val SSIM: 0.9056\n"
          ]
        },
        {
          "name": "stdout",
          "output_type": "stream",
          "text": [
            "Epoch 416: Train Loss: 0.028387 | Val MSE: 0.001900 | Val SSIM: 0.9055\n"
          ]
        },
        {
          "name": "stdout",
          "output_type": "stream",
          "text": [
            "Epoch 417: Train Loss: 0.028483 | Val MSE: 0.001888 | Val SSIM: 0.9054\n"
          ]
        },
        {
          "name": "stdout",
          "output_type": "stream",
          "text": [
            "Epoch 418: Train Loss: 0.028376 | Val MSE: 0.001918 | Val SSIM: 0.9054\n"
          ]
        },
        {
          "name": "stdout",
          "output_type": "stream",
          "text": [
            "Epoch 419: Train Loss: 0.028387 | Val MSE: 0.001896 | Val SSIM: 0.9056\n"
          ]
        },
        {
          "name": "stdout",
          "output_type": "stream",
          "text": [
            "Epoch 420: Train Loss: 0.028383 | Val MSE: 0.001901 | Val SSIM: 0.9052\n"
          ]
        },
        {
          "name": "stdout",
          "output_type": "stream",
          "text": [
            "Epoch 421: Train Loss: 0.028372 | Val MSE: 0.001892 | Val SSIM: 0.9058\n"
          ]
        },
        {
          "name": "stdout",
          "output_type": "stream",
          "text": [
            "Epoch 422: Train Loss: 0.028343 | Val MSE: 0.001942 | Val SSIM: 0.9057\n"
          ]
        },
        {
          "name": "stdout",
          "output_type": "stream",
          "text": [
            "Epoch 423: Train Loss: 0.028354 | Val MSE: 0.001900 | Val SSIM: 0.9056\n"
          ]
        },
        {
          "name": "stdout",
          "output_type": "stream",
          "text": [
            "Epoch 424: Train Loss: 0.028348 | Val MSE: 0.001924 | Val SSIM: 0.9056\n"
          ]
        },
        {
          "name": "stdout",
          "output_type": "stream",
          "text": [
            "Epoch 425: Train Loss: 0.028326 | Val MSE: 0.001905 | Val SSIM: 0.9055\n"
          ]
        },
        {
          "name": "stdout",
          "output_type": "stream",
          "text": [
            "Epoch 426: Train Loss: 0.028298 | Val MSE: 0.001881 | Val SSIM: 0.9056\n"
          ]
        },
        {
          "name": "stdout",
          "output_type": "stream",
          "text": [
            "Epoch 427: Train Loss: 0.028335 | Val MSE: 0.001903 | Val SSIM: 0.9054\n"
          ]
        },
        {
          "name": "stdout",
          "output_type": "stream",
          "text": [
            "Epoch 428: Train Loss: 0.028322 | Val MSE: 0.001917 | Val SSIM: 0.9054\n"
          ]
        },
        {
          "name": "stdout",
          "output_type": "stream",
          "text": [
            "Epoch 429: Train Loss: 0.028261 | Val MSE: 0.001911 | Val SSIM: 0.9057\n"
          ]
        },
        {
          "name": "stdout",
          "output_type": "stream",
          "text": [
            "Epoch 430: Train Loss: 0.028215 | Val MSE: 0.001903 | Val SSIM: 0.9058\n"
          ]
        },
        {
          "name": "stdout",
          "output_type": "stream",
          "text": [
            "Epoch 431: Train Loss: 0.028237 | Val MSE: 0.001918 | Val SSIM: 0.9058\n"
          ]
        },
        {
          "name": "stdout",
          "output_type": "stream",
          "text": [
            "Epoch 432: Train Loss: 0.028240 | Val MSE: 0.001910 | Val SSIM: 0.9057\n"
          ]
        },
        {
          "name": "stdout",
          "output_type": "stream",
          "text": [
            "Epoch 433: Train Loss: 0.028254 | Val MSE: 0.001896 | Val SSIM: 0.9056\n"
          ]
        },
        {
          "name": "stdout",
          "output_type": "stream",
          "text": [
            "Epoch 434: Train Loss: 0.028216 | Val MSE: 0.001892 | Val SSIM: 0.9060\n"
          ]
        },
        {
          "name": "stdout",
          "output_type": "stream",
          "text": [
            "Epoch 435: Train Loss: 0.028176 | Val MSE: 0.001901 | Val SSIM: 0.9055\n"
          ]
        },
        {
          "name": "stdout",
          "output_type": "stream",
          "text": [
            "Epoch 436: Train Loss: 0.028232 | Val MSE: 0.001888 | Val SSIM: 0.9057\n"
          ]
        },
        {
          "name": "stdout",
          "output_type": "stream",
          "text": [
            "Epoch 437: Train Loss: 0.028243 | Val MSE: 0.001916 | Val SSIM: 0.9053\n"
          ]
        },
        {
          "name": "stdout",
          "output_type": "stream",
          "text": [
            "Epoch 438: Train Loss: 0.028193 | Val MSE: 0.001903 | Val SSIM: 0.9058\n"
          ]
        },
        {
          "name": "stdout",
          "output_type": "stream",
          "text": [
            "Epoch 439: Train Loss: 0.028166 | Val MSE: 0.001920 | Val SSIM: 0.9058\n"
          ]
        },
        {
          "name": "stdout",
          "output_type": "stream",
          "text": [
            "Epoch 440: Train Loss: 0.028240 | Val MSE: 0.001927 | Val SSIM: 0.9057\n"
          ]
        },
        {
          "name": "stdout",
          "output_type": "stream",
          "text": [
            "Epoch 441: Train Loss: 0.028253 | Val MSE: 0.001932 | Val SSIM: 0.9055\n"
          ]
        },
        {
          "name": "stdout",
          "output_type": "stream",
          "text": [
            "Epoch 442: Train Loss: 0.028200 | Val MSE: 0.001912 | Val SSIM: 0.9056\n"
          ]
        },
        {
          "name": "stdout",
          "output_type": "stream",
          "text": [
            "Epoch 443: Train Loss: 0.028235 | Val MSE: 0.001902 | Val SSIM: 0.9059\n"
          ]
        },
        {
          "name": "stdout",
          "output_type": "stream",
          "text": [
            "Epoch 444: Train Loss: 0.028161 | Val MSE: 0.001896 | Val SSIM: 0.9056\n"
          ]
        },
        {
          "name": "stdout",
          "output_type": "stream",
          "text": [
            "Epoch 445: Train Loss: 0.028135 | Val MSE: 0.001897 | Val SSIM: 0.9055\n"
          ]
        },
        {
          "name": "stdout",
          "output_type": "stream",
          "text": [
            "Epoch 446: Train Loss: 0.028167 | Val MSE: 0.001875 | Val SSIM: 0.9056\n"
          ]
        },
        {
          "name": "stdout",
          "output_type": "stream",
          "text": [
            "Epoch 447: Train Loss: 0.028162 | Val MSE: 0.001900 | Val SSIM: 0.9057\n"
          ]
        },
        {
          "name": "stdout",
          "output_type": "stream",
          "text": [
            "Epoch 448: Train Loss: 0.028130 | Val MSE: 0.001912 | Val SSIM: 0.9058\n"
          ]
        },
        {
          "name": "stdout",
          "output_type": "stream",
          "text": [
            "Epoch 449: Train Loss: 0.028060 | Val MSE: 0.001927 | Val SSIM: 0.9050\n"
          ]
        },
        {
          "name": "stdout",
          "output_type": "stream",
          "text": [
            "Epoch 450: Train Loss: 0.028147 | Val MSE: 0.001889 | Val SSIM: 0.9057\n"
          ]
        },
        {
          "name": "stdout",
          "output_type": "stream",
          "text": [
            "Epoch 451: Train Loss: 0.028094 | Val MSE: 0.001919 | Val SSIM: 0.9056\n"
          ]
        },
        {
          "name": "stdout",
          "output_type": "stream",
          "text": [
            "Epoch 452: Train Loss: 0.028028 | Val MSE: 0.001918 | Val SSIM: 0.9056\n"
          ]
        },
        {
          "name": "stdout",
          "output_type": "stream",
          "text": [
            "Epoch 453: Train Loss: 0.028146 | Val MSE: 0.001894 | Val SSIM: 0.9057\n"
          ]
        },
        {
          "name": "stdout",
          "output_type": "stream",
          "text": [
            "Epoch 454: Train Loss: 0.028081 | Val MSE: 0.001902 | Val SSIM: 0.9058\n"
          ]
        },
        {
          "name": "stdout",
          "output_type": "stream",
          "text": [
            "Epoch 455: Train Loss: 0.028065 | Val MSE: 0.001912 | Val SSIM: 0.9055\n"
          ]
        },
        {
          "name": "stdout",
          "output_type": "stream",
          "text": [
            "Epoch 456: Train Loss: 0.028031 | Val MSE: 0.001908 | Val SSIM: 0.9055\n"
          ]
        },
        {
          "name": "stdout",
          "output_type": "stream",
          "text": [
            "Epoch 457: Train Loss: 0.028060 | Val MSE: 0.001948 | Val SSIM: 0.9055\n"
          ]
        },
        {
          "name": "stdout",
          "output_type": "stream",
          "text": [
            "Epoch 458: Train Loss: 0.028047 | Val MSE: 0.001917 | Val SSIM: 0.9058\n"
          ]
        },
        {
          "name": "stdout",
          "output_type": "stream",
          "text": [
            "Epoch 459: Train Loss: 0.028026 | Val MSE: 0.001906 | Val SSIM: 0.9058\n"
          ]
        },
        {
          "name": "stdout",
          "output_type": "stream",
          "text": [
            "Epoch 460: Train Loss: 0.028081 | Val MSE: 0.001905 | Val SSIM: 0.9054\n"
          ]
        },
        {
          "name": "stdout",
          "output_type": "stream",
          "text": [
            "Epoch 461: Train Loss: 0.028065 | Val MSE: 0.001919 | Val SSIM: 0.9057\n"
          ]
        },
        {
          "name": "stdout",
          "output_type": "stream",
          "text": [
            "Epoch 462: Train Loss: 0.028111 | Val MSE: 0.001907 | Val SSIM: 0.9058\n"
          ]
        },
        {
          "name": "stdout",
          "output_type": "stream",
          "text": [
            "Epoch 463: Train Loss: 0.028037 | Val MSE: 0.001893 | Val SSIM: 0.9056\n"
          ]
        },
        {
          "name": "stdout",
          "output_type": "stream",
          "text": [
            "Epoch 464: Train Loss: 0.028009 | Val MSE: 0.001900 | Val SSIM: 0.9056\n"
          ]
        },
        {
          "name": "stdout",
          "output_type": "stream",
          "text": [
            "Epoch 465: Train Loss: 0.027996 | Val MSE: 0.001887 | Val SSIM: 0.9057\n"
          ]
        },
        {
          "name": "stdout",
          "output_type": "stream",
          "text": [
            "Epoch 466: Train Loss: 0.028075 | Val MSE: 0.001886 | Val SSIM: 0.9056\n"
          ]
        },
        {
          "name": "stdout",
          "output_type": "stream",
          "text": [
            "Epoch 467: Train Loss: 0.028073 | Val MSE: 0.001886 | Val SSIM: 0.9055\n"
          ]
        },
        {
          "name": "stdout",
          "output_type": "stream",
          "text": [
            "Epoch 468: Train Loss: 0.028034 | Val MSE: 0.001891 | Val SSIM: 0.9056\n"
          ]
        },
        {
          "name": "stdout",
          "output_type": "stream",
          "text": [
            "Epoch 469: Train Loss: 0.027997 | Val MSE: 0.001899 | Val SSIM: 0.9054\n"
          ]
        },
        {
          "name": "stdout",
          "output_type": "stream",
          "text": [
            "Epoch 470: Train Loss: 0.028085 | Val MSE: 0.001903 | Val SSIM: 0.9039\n"
          ]
        },
        {
          "name": "stdout",
          "output_type": "stream",
          "text": [
            "Epoch 471: Train Loss: 0.027970 | Val MSE: 0.001912 | Val SSIM: 0.9057\n"
          ]
        },
        {
          "name": "stdout",
          "output_type": "stream",
          "text": [
            "Epoch 472: Train Loss: 0.028055 | Val MSE: 0.001962 | Val SSIM: 0.9055\n"
          ]
        },
        {
          "name": "stdout",
          "output_type": "stream",
          "text": [
            "Epoch 473: Train Loss: 0.028025 | Val MSE: 0.001888 | Val SSIM: 0.9056\n"
          ]
        },
        {
          "name": "stdout",
          "output_type": "stream",
          "text": [
            "Epoch 474: Train Loss: 0.028060 | Val MSE: 0.001934 | Val SSIM: 0.9056\n"
          ]
        },
        {
          "name": "stdout",
          "output_type": "stream",
          "text": [
            "Epoch 475: Train Loss: 0.028113 | Val MSE: 0.001910 | Val SSIM: 0.9052\n"
          ]
        },
        {
          "name": "stdout",
          "output_type": "stream",
          "text": [
            "Epoch 476: Train Loss: 0.028044 | Val MSE: 0.001908 | Val SSIM: 0.9055\n"
          ]
        },
        {
          "name": "stdout",
          "output_type": "stream",
          "text": [
            "Epoch 477: Train Loss: 0.027942 | Val MSE: 0.001904 | Val SSIM: 0.9057\n"
          ]
        },
        {
          "name": "stdout",
          "output_type": "stream",
          "text": [
            "Epoch 478: Train Loss: 0.027953 | Val MSE: 0.001897 | Val SSIM: 0.9058\n"
          ]
        },
        {
          "name": "stdout",
          "output_type": "stream",
          "text": [
            "Epoch 479: Train Loss: 0.028249 | Val MSE: 0.001883 | Val SSIM: 0.9056\n"
          ]
        },
        {
          "name": "stdout",
          "output_type": "stream",
          "text": [
            "Epoch 480: Train Loss: 0.027962 | Val MSE: 0.001943 | Val SSIM: 0.9057\n"
          ]
        },
        {
          "name": "stdout",
          "output_type": "stream",
          "text": [
            "Epoch 481: Train Loss: 0.027999 | Val MSE: 0.001916 | Val SSIM: 0.9057\n"
          ]
        },
        {
          "name": "stdout",
          "output_type": "stream",
          "text": [
            "Epoch 482: Train Loss: 0.028019 | Val MSE: 0.001928 | Val SSIM: 0.9055\n"
          ]
        },
        {
          "name": "stdout",
          "output_type": "stream",
          "text": [
            "Epoch 483: Train Loss: 0.028049 | Val MSE: 0.001918 | Val SSIM: 0.9059\n"
          ]
        },
        {
          "name": "stdout",
          "output_type": "stream",
          "text": [
            "Epoch 484: Train Loss: 0.027946 | Val MSE: 0.001918 | Val SSIM: 0.9058\n"
          ]
        },
        {
          "name": "stdout",
          "output_type": "stream",
          "text": [
            "Epoch 485: Train Loss: 0.027997 | Val MSE: 0.001898 | Val SSIM: 0.9057\n"
          ]
        },
        {
          "name": "stdout",
          "output_type": "stream",
          "text": [
            "Epoch 486: Train Loss: 0.027880 | Val MSE: 0.001905 | Val SSIM: 0.9056\n"
          ]
        },
        {
          "name": "stdout",
          "output_type": "stream",
          "text": [
            "Epoch 487: Train Loss: 0.027883 | Val MSE: 0.001911 | Val SSIM: 0.9059\n"
          ]
        },
        {
          "name": "stdout",
          "output_type": "stream",
          "text": [
            "Epoch 488: Train Loss: 0.028036 | Val MSE: 0.001925 | Val SSIM: 0.9058\n"
          ]
        },
        {
          "name": "stdout",
          "output_type": "stream",
          "text": [
            "Epoch 489: Train Loss: 0.027969 | Val MSE: 0.001916 | Val SSIM: 0.9058\n"
          ]
        },
        {
          "name": "stdout",
          "output_type": "stream",
          "text": [
            "Epoch 490: Train Loss: 0.027990 | Val MSE: 0.001893 | Val SSIM: 0.9039\n"
          ]
        },
        {
          "name": "stdout",
          "output_type": "stream",
          "text": [
            "Epoch 491: Train Loss: 0.027907 | Val MSE: 0.001880 | Val SSIM: 0.9053\n"
          ]
        },
        {
          "name": "stdout",
          "output_type": "stream",
          "text": [
            "Epoch 492: Train Loss: 0.027997 | Val MSE: 0.001896 | Val SSIM: 0.9057\n"
          ]
        },
        {
          "name": "stdout",
          "output_type": "stream",
          "text": [
            "Epoch 493: Train Loss: 0.027994 | Val MSE: 0.001908 | Val SSIM: 0.9054\n"
          ]
        },
        {
          "name": "stdout",
          "output_type": "stream",
          "text": [
            "Epoch 494: Train Loss: 0.027949 | Val MSE: 0.001926 | Val SSIM: 0.9057\n"
          ]
        },
        {
          "name": "stdout",
          "output_type": "stream",
          "text": [
            "Epoch 495: Train Loss: 0.027976 | Val MSE: 0.001907 | Val SSIM: 0.9056\n"
          ]
        },
        {
          "name": "stdout",
          "output_type": "stream",
          "text": [
            "Epoch 496: Train Loss: 0.027909 | Val MSE: 0.001919 | Val SSIM: 0.9059\n"
          ]
        },
        {
          "name": "stdout",
          "output_type": "stream",
          "text": [
            "Epoch 497: Train Loss: 0.027878 | Val MSE: 0.001904 | Val SSIM: 0.9057\n"
          ]
        },
        {
          "name": "stdout",
          "output_type": "stream",
          "text": [
            "Epoch 498: Train Loss: 0.027958 | Val MSE: 0.001911 | Val SSIM: 0.9058\n"
          ]
        },
        {
          "name": "stdout",
          "output_type": "stream",
          "text": [
            "Epoch 499: Train Loss: 0.027965 | Val MSE: 0.001958 | Val SSIM: 0.9056\n"
          ]
        },
        {
          "name": "stdout",
          "output_type": "stream",
          "text": [
            "Epoch 500: Train Loss: 0.027936 | Val MSE: 0.001935 | Val SSIM: 0.9055\n",
            "Training complete. Best Val SSIM: 0.9059554100036621\n"
          ]
        }
      ],
      "source": [
        "import os\n",
        "import torch\n",
        "import torch.nn as nn\n",
        "import numpy as np\n",
        "import random\n",
        "from torch.utils.data import DataLoader, random_split, Dataset\n",
        "from torch.optim.lr_scheduler import CosineAnnealingLR\n",
        "from torchvision import transforms\n",
        "from PIL import Image\n",
        "from pytorch_msssim import SSIM\n",
        "import matplotlib.pyplot as plt\n",
        "\n",
        "# Seeding to prevent randomness during runs\n",
        "SEED = 42\n",
        "random.seed(SEED)\n",
        "np.random.seed(SEED)\n",
        "torch.manual_seed(SEED)\n",
        "os.environ[\"PYTHONHASHSEED\"] = str(SEED)\n",
        "if torch.cuda.is_available():\n",
        "    torch.cuda.manual_seed_all(SEED)\n",
        "    torch.backends.cudnn.deterministic = True\n",
        "    torch.backends.cudnn.benchmark = False\n",
        "\n",
        "# Hyperparams\n",
        "DATA_DIR       = 'face_images'\n",
        "EPOCHS         = 500\n",
        "BATCH_SIZE     = 8\n",
        "LR             = 1e-3\n",
        "VAL_SPLIT      = 0.01\n",
        "DEVICE         = torch.device('cuda' if torch.cuda.is_available() else 'cpu')\n",
        "CHANNELS       = 1\n",
        "HYBRID_ALPHA   = 0.4\n",
        "LATENT_DIM     = 32\n",
        "KERNEL_SIZE    = 11\n",
        "PADDING        = KERNEL_SIZE // 2\n",
        "OUTPUT_PADDING = 1\n",
        "\n",
        "class Encoder(nn.Module):\n",
        "    def __init__(self, latent_dim=LATENT_DIM):\n",
        "        super().__init__()\n",
        "        self.conv = nn.Sequential(\n",
        "            nn.Conv2d(CHANNELS, 16, KERNEL_SIZE, stride=1, padding=PADDING),\n",
        "            nn.BatchNorm2d(16),\n",
        "            nn.Mish(),\n",
        "            nn.MaxPool2d(2, 2),\n",
        "            nn.Conv2d(16, 32, KERNEL_SIZE, stride=1, padding=PADDING),\n",
        "            nn.BatchNorm2d(32),\n",
        "            nn.Mish(),\n",
        "            nn.MaxPool2d(2, 2),\n",
        "            nn.Conv2d(32, 64, KERNEL_SIZE, stride=1, padding=PADDING),\n",
        "            nn.BatchNorm2d(64),\n",
        "            nn.Mish(),\n",
        "            nn.MaxPool2d(2, 2),\n",
        "            nn.Conv2d(64, 128, KERNEL_SIZE, stride=1, padding=PADDING),\n",
        "            nn.BatchNorm2d(128),\n",
        "            nn.Mish(),\n",
        "            nn.MaxPool2d(2, 2),\n",
        "            nn.Dropout(0.5),\n",
        "            nn.Flatten()\n",
        "        )\n",
        "        self.fc = nn.Linear(128 * 12 * 10, latent_dim)\n",
        "\n",
        "    def forward(self, x):\n",
        "        x = self.conv(x)\n",
        "        return self.fc(x)\n",
        "\n",
        "class Decoder(nn.Module):\n",
        "    def __init__(self, latent_dim=LATENT_DIM):\n",
        "        super().__init__()\n",
        "        self.fc = nn.Linear(latent_dim, 128 * 12 * 10)\n",
        "        self.deconv = nn.Sequential(\n",
        "            nn.Unflatten(1, (128, 12, 10)),\n",
        "            nn.Mish(),\n",
        "            nn.ConvTranspose2d(128, 64, KERNEL_SIZE, stride=2, padding=PADDING, output_padding=OUTPUT_PADDING),\n",
        "            nn.BatchNorm2d(64),\n",
        "            nn.Mish(),\n",
        "            nn.ConvTranspose2d(64, 32, KERNEL_SIZE, stride=2, padding=PADDING, output_padding=OUTPUT_PADDING),\n",
        "            nn.BatchNorm2d(32),\n",
        "            nn.Mish(),\n",
        "            nn.ConvTranspose2d(32, 16, KERNEL_SIZE, stride=2, padding=PADDING, output_padding=OUTPUT_PADDING),\n",
        "            nn.BatchNorm2d(16),\n",
        "            nn.Mish(),\n",
        "            nn.ConvTranspose2d(16, CHANNELS, KERNEL_SIZE, stride=2, padding=PADDING, output_padding=OUTPUT_PADDING),\n",
        "            nn.Sigmoid()\n",
        "        )\n",
        "\n",
        "    def forward(self, z):\n",
        "        x = self.fc(z)\n",
        "        return self.deconv(x)\n",
        "\n",
        "# Get the images and augmentation\n",
        "class FacesDataset(Dataset):\n",
        "    def __init__(self, root_dir: str):\n",
        "        self.files = [os.path.join(root_dir, fn)\n",
        "                      for fn in os.listdir(root_dir)\n",
        "                      if fn.lower().endswith(('.jpg'))]\n",
        "        self.transform = transforms.Compose([\n",
        "            transforms.Grayscale(num_output_channels=CHANNELS),\n",
        "            transforms.Resize((192, 160)),\n",
        "            transforms.ToTensor()\n",
        "        ])\n",
        "\n",
        "    def __len__(self):\n",
        "        return len(self.files)\n",
        "\n",
        "    def __getitem__(self, idx):\n",
        "        img = Image.open(self.files[idx]).convert('L')\n",
        "        return self.transform(img)\n",
        "\n",
        "def train(data_dir, epochs, batch_size, lr, val_split, device):\n",
        "    ds = FacesDataset(data_dir)\n",
        "    val_size = int(len(ds) * val_split)\n",
        "    train_size = len(ds) - val_size\n",
        "\n",
        "    generator = torch.Generator().manual_seed(SEED)\n",
        "    train_ds, val_ds = random_split(ds, [train_size, val_size], generator=generator)\n",
        "    train_loader = DataLoader(train_ds, batch_size=batch_size, shuffle=True, num_workers=4)\n",
        "    val_loader   = DataLoader(val_ds, batch_size=batch_size, shuffle=False, num_workers=4)\n",
        "\n",
        "    encoder = Encoder(latent_dim=LATENT_DIM).to(device)\n",
        "    decoder = Decoder(latent_dim=LATENT_DIM).to(device)\n",
        "    mse_loss_fn = nn.MSELoss()\n",
        "    ssim_fn = SSIM(data_range=1.0, size_average=True, channel=CHANNELS).to(device)\n",
        "    optimizer = torch.optim.AdamW(list(encoder.parameters()) + list(decoder.parameters()), lr=lr, weight_decay=1e-4)\n",
        "    scheduler = CosineAnnealingLR(optimizer, T_max=epochs)\n",
        "\n",
        "    best_val_ssim = -1.0\n",
        "    train_loss_log = []\n",
        "    val_mse_log = []\n",
        "\n",
        "    for epoch in range(1, epochs+1):\n",
        "        encoder.train(); decoder.train()\n",
        "        total_train_loss = 0.0\n",
        "        for batch in train_loader:\n",
        "            batch = batch.to(device)\n",
        "            optimizer.zero_grad()\n",
        "            z = encoder(batch)\n",
        "            recon = decoder(z)\n",
        "            mse = mse_loss_fn(recon, batch)\n",
        "            ssim_loss = 1.0 - ssim_fn(recon, batch)\n",
        "            loss = HYBRID_ALPHA * mse + (1 - HYBRID_ALPHA) * ssim_loss\n",
        "            loss.backward()\n",
        "            torch.nn.utils.clip_grad_norm_(list(encoder.parameters()) + list(decoder.parameters()), max_norm=2.0)\n",
        "            optimizer.step()\n",
        "            total_train_loss += loss.item() * batch.size(0)\n",
        "\n",
        "        avg_train_loss = total_train_loss / len(train_loader.dataset)\n",
        "\n",
        "        encoder.eval(); decoder.eval()\n",
        "        total_val_mse = 0.0\n",
        "        total_val_ssim = 0.0\n",
        "        with torch.no_grad():\n",
        "            for batch in val_loader:\n",
        "                batch = batch.to(device)\n",
        "                z = encoder(batch)\n",
        "                recon = decoder(z)\n",
        "                total_val_mse += mse_loss_fn(recon, batch).item() * batch.size(0)\n",
        "                total_val_ssim += ssim_fn(recon, batch).item() * batch.size(0)\n",
        "\n",
        "        avg_val_mse = total_val_mse / len(val_loader.dataset)\n",
        "        avg_val_ssim = total_val_ssim / len(val_loader.dataset)\n",
        "\n",
        "        train_loss_log.append(avg_train_loss)\n",
        "        val_mse_log.append(avg_val_mse)\n",
        "\n",
        "        print(f\"Epoch {epoch:03d}: Train Loss: {avg_train_loss:.6f} | Val MSE: {avg_val_mse:.6f} | Val SSIM: {avg_val_ssim:.4f}\")\n",
        "\n",
        "        if avg_val_ssim > best_val_ssim:\n",
        "            best_val_ssim = avg_val_ssim\n",
        "            torch.save(encoder.state_dict(), 'encoder.pth')\n",
        "            torch.save(decoder.state_dict(), 'decoder.pth')\n",
        "            print(f\"  * Saved best model (SSIM {avg_val_ssim:.4f})\")\n",
        "\n",
        "        scheduler.step()\n",
        "\n",
        "    print('Training complete. Best Val SSIM:', best_val_ssim)\n",
        "\n",
        "if __name__ == '__main__':\n",
        "    train(DATA_DIR, EPOCHS, BATCH_SIZE, LR, VAL_SPLIT, DEVICE)"
      ]
    }
  ],
  "metadata": {
    "colab": {
      "collapsed_sections": [
        "gyplonwXJ2BO",
        "uNMT_Nzq5CS1",
        "1T4znSEa5H3v",
        "3fsRMhagDsS_",
        "u12O_OXFJ_mo",
        "_vHYf2_KHdy3",
        "apeG1hWoTAaa",
        "MdBFz2xbuGI0",
        "fA72Rl-2BLK7",
        "kq33IlTg45xh",
        "QUH6jeP-WH8g",
        "qBU55A4PZIWf"
      ],
      "provenance": []
    },
    "kernelspec": {
      "display_name": "Python 3",
      "name": "python3"
    },
    "language_info": {
      "codemirror_mode": {
        "name": "ipython",
        "version": 3
      },
      "file_extension": ".py",
      "mimetype": "text/x-python",
      "name": "python",
      "nbconvert_exporter": "python",
      "pygments_lexer": "ipython3",
      "version": "3.12.3"
    }
  },
  "nbformat": 4,
  "nbformat_minor": 0
}